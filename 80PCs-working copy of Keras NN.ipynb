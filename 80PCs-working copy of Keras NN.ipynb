{
 "cells": [
  {
   "cell_type": "markdown",
   "id": "ed01e6cd",
   "metadata": {
    "id": "ed01e6cd"
   },
   "source": [
    "# Neural Network with Keras"
   ]
  },
  {
   "cell_type": "markdown",
   "id": "b7170a24",
   "metadata": {},
   "source": [
    "This notebook is for modelling with data already split into training, validation and testing sets.  \n",
    "There are 15 variables (principal components) and 1 response (binary label)."
   ]
  },
  {
   "cell_type": "markdown",
   "id": "f9f7a192",
   "metadata": {},
   "source": [
    "Note: keras model implementation has bias nodes as defualt, that is, for a dense layer, the operation is:  \n",
    "output = activation(dot(input, kernel) + bias)  \n",
    "The bias values are learnable parameters as well."
   ]
  },
  {
   "cell_type": "markdown",
   "id": "c2ed2c0b",
   "metadata": {
    "id": "c2ed2c0b"
   },
   "source": [
    "### Load Data and Packages"
   ]
  },
  {
   "cell_type": "code",
   "execution_count": 1,
   "id": "e33b03c2",
   "metadata": {},
   "outputs": [],
   "source": [
    "# pip install tensorflow\n",
    "import os\n",
    "import numpy as np\n",
    "import pandas as pd\n",
    "from tensorflow.keras.models import Sequential\n",
    "from tensorflow.keras.layers import Dense\n",
    "from tensorflow.keras.layers import Dropout\n",
    "import tensorflow.keras.metrics as met"
   ]
  },
  {
   "cell_type": "code",
   "execution_count": 2,
   "id": "352a418b",
   "metadata": {},
   "outputs": [],
   "source": [
    "# conda install scikit-learn\n",
    "import sklearn"
   ]
  },
  {
   "cell_type": "code",
   "execution_count": 3,
   "id": "1dc18dcd",
   "metadata": {},
   "outputs": [],
   "source": [
    "import sklearn.metrics"
   ]
  },
  {
   "cell_type": "code",
   "execution_count": 4,
   "id": "9d6b4330",
   "metadata": {},
   "outputs": [],
   "source": [
    "import matplotlib.pyplot as plt"
   ]
  },
  {
   "cell_type": "code",
   "execution_count": 5,
   "id": "5587032a",
   "metadata": {
    "id": "5587032a",
    "outputId": "ffd112e7-b621-4873-8089-e083ee53bd2e"
   },
   "outputs": [
    {
     "data": {
      "text/plain": [
       "'C:\\\\Users\\\\joann\\\\Downloads\\\\ST4248\\\\project\\\\C3 Work Done\\\\Neural Network Codes'"
      ]
     },
     "execution_count": 5,
     "metadata": {},
     "output_type": "execute_result"
    }
   ],
   "source": [
    "pwd"
   ]
  },
  {
   "cell_type": "code",
   "execution_count": 6,
   "id": "48d6e28b",
   "metadata": {
    "id": "48d6e28b"
   },
   "outputs": [],
   "source": [
    "os.chdir(\"C:\\\\Users\\\\joann\\\\Downloads\\\\ST4248\\\\project\\\\Datasets\\\\6-1-3-80_PC_Data\")"
   ]
  },
  {
   "cell_type": "code",
   "execution_count": 7,
   "id": "eb6bccc7",
   "metadata": {
    "id": "eb6bccc7",
    "outputId": "b85454bf-c568-4a8e-eae6-54cda2d8f7c4"
   },
   "outputs": [
    {
     "data": {
      "text/plain": [
       "'C:\\\\Users\\\\joann\\\\Downloads\\\\ST4248\\\\project\\\\Datasets\\\\6-1-3-80_PC_Data'"
      ]
     },
     "execution_count": 7,
     "metadata": {},
     "output_type": "execute_result"
    }
   ],
   "source": [
    "pwd"
   ]
  },
  {
   "cell_type": "code",
   "execution_count": 8,
   "id": "eed2bdd9",
   "metadata": {
    "id": "eed2bdd9"
   },
   "outputs": [],
   "source": [
    "# load the dataset\n",
    "trng_dat = pd.read_csv('trng_dat.csv')\n",
    "vali_dat = pd.read_csv('vali_dat.csv')\n",
    "test_dat = pd.read_csv('test_dat.csv')"
   ]
  },
  {
   "cell_type": "code",
   "execution_count": 9,
   "id": "69baca7d",
   "metadata": {
    "id": "69baca7d",
    "outputId": "181b5f00-1121-4c83-c980-d256a1cfb815"
   },
   "outputs": [
    {
     "data": {
      "text/html": [
       "<div>\n",
       "<style scoped>\n",
       "    .dataframe tbody tr th:only-of-type {\n",
       "        vertical-align: middle;\n",
       "    }\n",
       "\n",
       "    .dataframe tbody tr th {\n",
       "        vertical-align: top;\n",
       "    }\n",
       "\n",
       "    .dataframe thead th {\n",
       "        text-align: right;\n",
       "    }\n",
       "</style>\n",
       "<table border=\"1\" class=\"dataframe\">\n",
       "  <thead>\n",
       "    <tr style=\"text-align: right;\">\n",
       "      <th></th>\n",
       "      <th>PC1</th>\n",
       "      <th>PC2</th>\n",
       "      <th>PC3</th>\n",
       "      <th>PC4</th>\n",
       "      <th>PC5</th>\n",
       "      <th>PC6</th>\n",
       "      <th>PC7</th>\n",
       "      <th>PC8</th>\n",
       "      <th>PC9</th>\n",
       "      <th>PC10</th>\n",
       "      <th>PC11</th>\n",
       "      <th>PC12</th>\n",
       "      <th>PC13</th>\n",
       "      <th>PC14</th>\n",
       "      <th>PC15</th>\n",
       "      <th>Y</th>\n",
       "    </tr>\n",
       "  </thead>\n",
       "  <tbody>\n",
       "    <tr>\n",
       "      <th>0</th>\n",
       "      <td>0.081731</td>\n",
       "      <td>-0.661175</td>\n",
       "      <td>0.109229</td>\n",
       "      <td>0.067420</td>\n",
       "      <td>0.312268</td>\n",
       "      <td>0.096423</td>\n",
       "      <td>0.435701</td>\n",
       "      <td>1.101748</td>\n",
       "      <td>-0.368736</td>\n",
       "      <td>0.417473</td>\n",
       "      <td>0.228591</td>\n",
       "      <td>-0.117218</td>\n",
       "      <td>0.562005</td>\n",
       "      <td>-0.446329</td>\n",
       "      <td>-0.097690</td>\n",
       "      <td>0</td>\n",
       "    </tr>\n",
       "    <tr>\n",
       "      <th>1</th>\n",
       "      <td>-4.339643</td>\n",
       "      <td>-0.112268</td>\n",
       "      <td>0.138075</td>\n",
       "      <td>-0.299480</td>\n",
       "      <td>-0.259801</td>\n",
       "      <td>-0.184745</td>\n",
       "      <td>-0.470181</td>\n",
       "      <td>-1.081109</td>\n",
       "      <td>0.368687</td>\n",
       "      <td>0.049428</td>\n",
       "      <td>-0.091747</td>\n",
       "      <td>0.225501</td>\n",
       "      <td>-0.583932</td>\n",
       "      <td>-0.109638</td>\n",
       "      <td>-0.810762</td>\n",
       "      <td>0</td>\n",
       "    </tr>\n",
       "    <tr>\n",
       "      <th>2</th>\n",
       "      <td>1.009107</td>\n",
       "      <td>0.725425</td>\n",
       "      <td>-0.026342</td>\n",
       "      <td>0.093173</td>\n",
       "      <td>-0.592424</td>\n",
       "      <td>0.427387</td>\n",
       "      <td>-0.338568</td>\n",
       "      <td>-0.501980</td>\n",
       "      <td>0.739033</td>\n",
       "      <td>0.143743</td>\n",
       "      <td>0.230911</td>\n",
       "      <td>0.156602</td>\n",
       "      <td>-0.464527</td>\n",
       "      <td>0.150289</td>\n",
       "      <td>0.002188</td>\n",
       "      <td>0</td>\n",
       "    </tr>\n",
       "    <tr>\n",
       "      <th>3</th>\n",
       "      <td>-3.106093</td>\n",
       "      <td>-0.815408</td>\n",
       "      <td>0.061191</td>\n",
       "      <td>0.899890</td>\n",
       "      <td>-0.554849</td>\n",
       "      <td>0.221659</td>\n",
       "      <td>-0.361999</td>\n",
       "      <td>0.831509</td>\n",
       "      <td>0.050661</td>\n",
       "      <td>-0.142333</td>\n",
       "      <td>0.031356</td>\n",
       "      <td>-0.136588</td>\n",
       "      <td>0.326729</td>\n",
       "      <td>0.317589</td>\n",
       "      <td>0.446302</td>\n",
       "      <td>0</td>\n",
       "    </tr>\n",
       "    <tr>\n",
       "      <th>4</th>\n",
       "      <td>-1.072274</td>\n",
       "      <td>-2.476202</td>\n",
       "      <td>0.189762</td>\n",
       "      <td>0.836661</td>\n",
       "      <td>-0.718956</td>\n",
       "      <td>0.348189</td>\n",
       "      <td>0.771177</td>\n",
       "      <td>-0.456119</td>\n",
       "      <td>0.383499</td>\n",
       "      <td>0.485279</td>\n",
       "      <td>0.196885</td>\n",
       "      <td>0.946903</td>\n",
       "      <td>0.063486</td>\n",
       "      <td>-0.182056</td>\n",
       "      <td>-0.889519</td>\n",
       "      <td>0</td>\n",
       "    </tr>\n",
       "  </tbody>\n",
       "</table>\n",
       "</div>"
      ],
      "text/plain": [
       "        PC1       PC2       PC3       PC4       PC5       PC6       PC7  \\\n",
       "0  0.081731 -0.661175  0.109229  0.067420  0.312268  0.096423  0.435701   \n",
       "1 -4.339643 -0.112268  0.138075 -0.299480 -0.259801 -0.184745 -0.470181   \n",
       "2  1.009107  0.725425 -0.026342  0.093173 -0.592424  0.427387 -0.338568   \n",
       "3 -3.106093 -0.815408  0.061191  0.899890 -0.554849  0.221659 -0.361999   \n",
       "4 -1.072274 -2.476202  0.189762  0.836661 -0.718956  0.348189  0.771177   \n",
       "\n",
       "        PC8       PC9      PC10      PC11      PC12      PC13      PC14  \\\n",
       "0  1.101748 -0.368736  0.417473  0.228591 -0.117218  0.562005 -0.446329   \n",
       "1 -1.081109  0.368687  0.049428 -0.091747  0.225501 -0.583932 -0.109638   \n",
       "2 -0.501980  0.739033  0.143743  0.230911  0.156602 -0.464527  0.150289   \n",
       "3  0.831509  0.050661 -0.142333  0.031356 -0.136588  0.326729  0.317589   \n",
       "4 -0.456119  0.383499  0.485279  0.196885  0.946903  0.063486 -0.182056   \n",
       "\n",
       "       PC15  Y  \n",
       "0 -0.097690  0  \n",
       "1 -0.810762  0  \n",
       "2  0.002188  0  \n",
       "3  0.446302  0  \n",
       "4 -0.889519  0  "
      ]
     },
     "execution_count": 9,
     "metadata": {},
     "output_type": "execute_result"
    }
   ],
   "source": [
    "trng_dat.head()"
   ]
  },
  {
   "cell_type": "code",
   "execution_count": 10,
   "id": "7c232914",
   "metadata": {
    "id": "7c232914"
   },
   "outputs": [],
   "source": [
    "# split into input and output variables\n",
    "\n",
    "trng_x = trng_dat.iloc[:, :15]\n",
    "trng_y = trng_dat.iloc[:, 15]\n",
    "\n",
    "vali_x = vali_dat.iloc[:, :15]\n",
    "vali_y = vali_dat.iloc[:, 15]\n",
    "\n",
    "test_x = test_dat.iloc[:, :15]\n",
    "test_y = test_dat.iloc[:, 15]"
   ]
  },
  {
   "cell_type": "markdown",
   "id": "c3f5bd87",
   "metadata": {},
   "source": [
    "*set up user defined function to calculate false positive rate*"
   ]
  },
  {
   "cell_type": "code",
   "execution_count": 11,
   "id": "5028b14f",
   "metadata": {},
   "outputs": [],
   "source": [
    "fpr = lambda mfc: mfc[1][0]/(mfc[0][0]+mfc[1][0])"
   ]
  },
  {
   "cell_type": "markdown",
   "id": "6d9759ee",
   "metadata": {},
   "source": [
    "### Model 1: Baseline Model"
   ]
  },
  {
   "cell_type": "markdown",
   "id": "bb27c6db",
   "metadata": {},
   "source": [
    "*set up, compile and fit model*"
   ]
  },
  {
   "cell_type": "code",
   "execution_count": 65,
   "id": "06572e70",
   "metadata": {},
   "outputs": [
    {
     "name": "stdout",
     "output_type": "stream",
     "text": [
      "model has been fitted\n"
     ]
    }
   ],
   "source": [
    "model_one = Sequential()\n",
    "model_one.add(Dense(8, input_shape=(15,), activation='relu'))\n",
    "model_one.add(Dense(1, activation='sigmoid'))\n",
    "\n",
    "model_one.compile(loss='binary_crossentropy', \n",
    "              optimizer='adam', \n",
    "              metrics=[])\n",
    "\n",
    "model_one.fit(trng_x, trng_y, epochs=20, batch_size=64, verbose = 0);\n",
    "print(\"model has been fitted\")"
   ]
  },
  {
   "cell_type": "markdown",
   "id": "b1fa63a5",
   "metadata": {},
   "source": [
    "*evaluate model on validation set (before threshold tuning)*"
   ]
  },
  {
   "cell_type": "code",
   "execution_count": 66,
   "id": "958334e6",
   "metadata": {},
   "outputs": [
    {
     "name": "stdout",
     "output_type": "stream",
     "text": [
      "22/22 [==============================] - 0s 1ms/step\n"
     ]
    }
   ],
   "source": [
    "predictions_one = model_one.predict(vali_x)"
   ]
  },
  {
   "cell_type": "code",
   "execution_count": 67,
   "id": "f8c66976",
   "metadata": {},
   "outputs": [],
   "source": [
    "class_predictions_one_ptone = [(ele[0] > 0.5).astype(int) for ele in predictions_one]\n",
    "table_one_ptone = pd.DataFrame({'actual':vali_y, 'pred':class_predictions_one_ptone})\n",
    "cfm_one_ptone = pd.crosstab(table_one_ptone['actual'], table_one_ptone['pred'], \n",
    "                            rownames=['actual'], colnames=['pred'])"
   ]
  },
  {
   "cell_type": "code",
   "execution_count": 68,
   "id": "9266b37d",
   "metadata": {},
   "outputs": [
    {
     "data": {
      "text/html": [
       "<div>\n",
       "<style scoped>\n",
       "    .dataframe tbody tr th:only-of-type {\n",
       "        vertical-align: middle;\n",
       "    }\n",
       "\n",
       "    .dataframe tbody tr th {\n",
       "        vertical-align: top;\n",
       "    }\n",
       "\n",
       "    .dataframe thead th {\n",
       "        text-align: right;\n",
       "    }\n",
       "</style>\n",
       "<table border=\"1\" class=\"dataframe\">\n",
       "  <thead>\n",
       "    <tr style=\"text-align: right;\">\n",
       "      <th>pred</th>\n",
       "      <th>0</th>\n",
       "      <th>1</th>\n",
       "    </tr>\n",
       "    <tr>\n",
       "      <th>actual</th>\n",
       "      <th></th>\n",
       "      <th></th>\n",
       "    </tr>\n",
       "  </thead>\n",
       "  <tbody>\n",
       "    <tr>\n",
       "      <th>0</th>\n",
       "      <td>431</td>\n",
       "      <td>221</td>\n",
       "    </tr>\n",
       "    <tr>\n",
       "      <th>1</th>\n",
       "      <td>1</td>\n",
       "      <td>20</td>\n",
       "    </tr>\n",
       "  </tbody>\n",
       "</table>\n",
       "</div>"
      ],
      "text/plain": [
       "pred      0    1\n",
       "actual          \n",
       "0       431  221\n",
       "1         1   20"
      ]
     },
     "execution_count": 68,
     "metadata": {},
     "output_type": "execute_result"
    }
   ],
   "source": [
    "cfm_one_ptone"
   ]
  },
  {
   "cell_type": "code",
   "execution_count": 69,
   "id": "5ec4c19d",
   "metadata": {},
   "outputs": [
    {
     "name": "stdout",
     "output_type": "stream",
     "text": [
      "precision is 0.082988\n",
      "recall is 0.952381\n",
      "f2 is 0.307692\n",
      "fpr is 0.338957\n"
     ]
    }
   ],
   "source": [
    "prec_one_ptone = sklearn.metrics.precision_score(y_true = vali_y, \n",
    "                                                 y_pred = class_predictions_one_ptone, \n",
    "                                                 zero_division = 0)\n",
    "rec_one_ptone = sklearn.metrics.recall_score(y_true = vali_y, \n",
    "                                             y_pred = class_predictions_one_ptone, \n",
    "                                             zero_division = 0)\n",
    "f2_one_ptone = sklearn.metrics.fbeta_score(y_true = vali_y, \n",
    "                                           y_pred = class_predictions_one_ptone, \n",
    "                                           beta = 2)\n",
    "\n",
    "print(f\"precision is {prec_one_ptone:.6f}\")\n",
    "print(f\"recall is {rec_one_ptone:.6f}\")\n",
    "print(f\"f2 is {f2_one_ptone:.6f}\")\n",
    "print(f\"fpr is {fpr(cfm_one_ptone):.6f}\")"
   ]
  },
  {
   "cell_type": "markdown",
   "id": "214239da",
   "metadata": {},
   "source": [
    "*find the best threshold using validation set*"
   ]
  },
  {
   "cell_type": "code",
   "execution_count": 70,
   "id": "db927766",
   "metadata": {},
   "outputs": [],
   "source": [
    "f2_val_one = []\n",
    "prec_val_one = []\n",
    "rec_val_one = []\n",
    "\n",
    "threshold_values = np.linspace(0, 1, 21)\n",
    "\n",
    "for thres in threshold_values:\n",
    "    class_predictions = [(ele[0] > thres).astype(int) for ele in predictions_one]\n",
    "    \n",
    "    prec_met = sklearn.metrics.precision_score(y_true = vali_y, y_pred = class_predictions, zero_division = 0)\n",
    "    rec_met = sklearn.metrics.recall_score(y_true = vali_y, y_pred = class_predictions, zero_division = 0)\n",
    "    f2_met = sklearn.metrics.fbeta_score(y_true = vali_y, y_pred = class_predictions, beta = 2)\n",
    "    \n",
    "    f2_val_one.append(f2_met)\n",
    "    prec_val_one.append(prec_met)\n",
    "    rec_val_one.append(rec_met)"
   ]
  },
  {
   "cell_type": "code",
   "execution_count": 71,
   "id": "0119b757",
   "metadata": {},
   "outputs": [],
   "source": [
    "df_one = pd.DataFrame({'threshold': threshold_values, \n",
    "              'precision' : prec_val_one, \n",
    "              'recall': rec_val_one, \n",
    "              'f2': f2_val_one})"
   ]
  },
  {
   "cell_type": "code",
   "execution_count": 105,
   "id": "f716053a",
   "metadata": {},
   "outputs": [],
   "source": [
    "df_one.to_csv(\"C:\\\\Users\\\\joann\\\\Downloads\\\\ST4248\\\\project\\\\df_one.csv\")"
   ]
  },
  {
   "cell_type": "code",
   "execution_count": 72,
   "id": "90b4c1ac",
   "metadata": {},
   "outputs": [
    {
     "data": {
      "text/html": [
       "<div>\n",
       "<style scoped>\n",
       "    .dataframe tbody tr th:only-of-type {\n",
       "        vertical-align: middle;\n",
       "    }\n",
       "\n",
       "    .dataframe tbody tr th {\n",
       "        vertical-align: top;\n",
       "    }\n",
       "\n",
       "    .dataframe thead th {\n",
       "        text-align: right;\n",
       "    }\n",
       "</style>\n",
       "<table border=\"1\" class=\"dataframe\">\n",
       "  <thead>\n",
       "    <tr style=\"text-align: right;\">\n",
       "      <th></th>\n",
       "      <th>threshold</th>\n",
       "      <th>precision</th>\n",
       "      <th>recall</th>\n",
       "      <th>f2</th>\n",
       "    </tr>\n",
       "  </thead>\n",
       "  <tbody>\n",
       "    <tr>\n",
       "      <th>0</th>\n",
       "      <td>0.00</td>\n",
       "      <td>0.031204</td>\n",
       "      <td>1.000000</td>\n",
       "      <td>0.138705</td>\n",
       "    </tr>\n",
       "    <tr>\n",
       "      <th>1</th>\n",
       "      <td>0.05</td>\n",
       "      <td>0.041750</td>\n",
       "      <td>1.000000</td>\n",
       "      <td>0.178876</td>\n",
       "    </tr>\n",
       "    <tr>\n",
       "      <th>2</th>\n",
       "      <td>0.10</td>\n",
       "      <td>0.049412</td>\n",
       "      <td>1.000000</td>\n",
       "      <td>0.206287</td>\n",
       "    </tr>\n",
       "    <tr>\n",
       "      <th>3</th>\n",
       "      <td>0.15</td>\n",
       "      <td>0.054688</td>\n",
       "      <td>1.000000</td>\n",
       "      <td>0.224359</td>\n",
       "    </tr>\n",
       "    <tr>\n",
       "      <th>4</th>\n",
       "      <td>0.20</td>\n",
       "      <td>0.060000</td>\n",
       "      <td>1.000000</td>\n",
       "      <td>0.241935</td>\n",
       "    </tr>\n",
       "    <tr>\n",
       "      <th>5</th>\n",
       "      <td>0.25</td>\n",
       "      <td>0.065217</td>\n",
       "      <td>1.000000</td>\n",
       "      <td>0.258621</td>\n",
       "    </tr>\n",
       "    <tr>\n",
       "      <th>6</th>\n",
       "      <td>0.30</td>\n",
       "      <td>0.069307</td>\n",
       "      <td>1.000000</td>\n",
       "      <td>0.271318</td>\n",
       "    </tr>\n",
       "    <tr>\n",
       "      <th>7</th>\n",
       "      <td>0.35</td>\n",
       "      <td>0.073171</td>\n",
       "      <td>1.000000</td>\n",
       "      <td>0.283019</td>\n",
       "    </tr>\n",
       "    <tr>\n",
       "      <th>8</th>\n",
       "      <td>0.40</td>\n",
       "      <td>0.074627</td>\n",
       "      <td>0.952381</td>\n",
       "      <td>0.284091</td>\n",
       "    </tr>\n",
       "    <tr>\n",
       "      <th>9</th>\n",
       "      <td>0.45</td>\n",
       "      <td>0.079365</td>\n",
       "      <td>0.952381</td>\n",
       "      <td>0.297619</td>\n",
       "    </tr>\n",
       "    <tr>\n",
       "      <th>10</th>\n",
       "      <td>0.50</td>\n",
       "      <td>0.082988</td>\n",
       "      <td>0.952381</td>\n",
       "      <td>0.307692</td>\n",
       "    </tr>\n",
       "    <tr>\n",
       "      <th>11</th>\n",
       "      <td>0.55</td>\n",
       "      <td>0.084821</td>\n",
       "      <td>0.904762</td>\n",
       "      <td>0.308442</td>\n",
       "    </tr>\n",
       "    <tr>\n",
       "      <th>12</th>\n",
       "      <td>0.60</td>\n",
       "      <td>0.091787</td>\n",
       "      <td>0.904762</td>\n",
       "      <td>0.326460</td>\n",
       "    </tr>\n",
       "    <tr>\n",
       "      <th>13</th>\n",
       "      <td>0.65</td>\n",
       "      <td>0.097938</td>\n",
       "      <td>0.904762</td>\n",
       "      <td>0.341727</td>\n",
       "    </tr>\n",
       "    <tr>\n",
       "      <th>14</th>\n",
       "      <td>0.70</td>\n",
       "      <td>0.099415</td>\n",
       "      <td>0.809524</td>\n",
       "      <td>0.333333</td>\n",
       "    </tr>\n",
       "    <tr>\n",
       "      <th>15</th>\n",
       "      <td>0.75</td>\n",
       "      <td>0.105263</td>\n",
       "      <td>0.761905</td>\n",
       "      <td>0.338983</td>\n",
       "    </tr>\n",
       "    <tr>\n",
       "      <th>16</th>\n",
       "      <td>0.80</td>\n",
       "      <td>0.131148</td>\n",
       "      <td>0.761905</td>\n",
       "      <td>0.388350</td>\n",
       "    </tr>\n",
       "    <tr>\n",
       "      <th>17</th>\n",
       "      <td>0.85</td>\n",
       "      <td>0.140187</td>\n",
       "      <td>0.714286</td>\n",
       "      <td>0.392670</td>\n",
       "    </tr>\n",
       "    <tr>\n",
       "      <th>18</th>\n",
       "      <td>0.90</td>\n",
       "      <td>0.180723</td>\n",
       "      <td>0.714286</td>\n",
       "      <td>0.449102</td>\n",
       "    </tr>\n",
       "    <tr>\n",
       "      <th>19</th>\n",
       "      <td>0.95</td>\n",
       "      <td>0.222222</td>\n",
       "      <td>0.476190</td>\n",
       "      <td>0.387597</td>\n",
       "    </tr>\n",
       "    <tr>\n",
       "      <th>20</th>\n",
       "      <td>1.00</td>\n",
       "      <td>0.000000</td>\n",
       "      <td>0.000000</td>\n",
       "      <td>0.000000</td>\n",
       "    </tr>\n",
       "  </tbody>\n",
       "</table>\n",
       "</div>"
      ],
      "text/plain": [
       "    threshold  precision    recall        f2\n",
       "0        0.00   0.031204  1.000000  0.138705\n",
       "1        0.05   0.041750  1.000000  0.178876\n",
       "2        0.10   0.049412  1.000000  0.206287\n",
       "3        0.15   0.054688  1.000000  0.224359\n",
       "4        0.20   0.060000  1.000000  0.241935\n",
       "5        0.25   0.065217  1.000000  0.258621\n",
       "6        0.30   0.069307  1.000000  0.271318\n",
       "7        0.35   0.073171  1.000000  0.283019\n",
       "8        0.40   0.074627  0.952381  0.284091\n",
       "9        0.45   0.079365  0.952381  0.297619\n",
       "10       0.50   0.082988  0.952381  0.307692\n",
       "11       0.55   0.084821  0.904762  0.308442\n",
       "12       0.60   0.091787  0.904762  0.326460\n",
       "13       0.65   0.097938  0.904762  0.341727\n",
       "14       0.70   0.099415  0.809524  0.333333\n",
       "15       0.75   0.105263  0.761905  0.338983\n",
       "16       0.80   0.131148  0.761905  0.388350\n",
       "17       0.85   0.140187  0.714286  0.392670\n",
       "18       0.90   0.180723  0.714286  0.449102\n",
       "19       0.95   0.222222  0.476190  0.387597\n",
       "20       1.00   0.000000  0.000000  0.000000"
      ]
     },
     "execution_count": 72,
     "metadata": {},
     "output_type": "execute_result"
    }
   ],
   "source": [
    "df_one"
   ]
  },
  {
   "cell_type": "code",
   "execution_count": 73,
   "id": "ecbb04e2",
   "metadata": {},
   "outputs": [
    {
     "data": {
      "image/png": "[encoded data removed]",
      "text/plain": [
       "<Figure size 200x200 with 1 Axes>"
      ]
     },
     "metadata": {},
     "output_type": "display_data"
    }
   ],
   "source": [
    "# plot PRC\n",
    "plt.figure(figsize=(2, 2))\n",
    "plt.plot(rec_val_one, prec_val_one, \"ko-\", markerfacecolor = \"none\", lw = 0.8)\n",
    "plt.title('Precision Recall Curve')\n",
    "plt.xlabel('Recall')\n",
    "plt.ylabel('Precision')\n",
    "plt.xlim([0, 1])\n",
    "plt.ylim([0, 0.4]);"
   ]
  },
  {
   "cell_type": "markdown",
   "id": "a4205bd1",
   "metadata": {},
   "source": [
    "*evaluate performance on validation with selected threshold*"
   ]
  },
  {
   "cell_type": "code",
   "execution_count": 74,
   "id": "d6176c65",
   "metadata": {},
   "outputs": [],
   "source": [
    "threshold_one = 0.50\n",
    "class_predictions_one_pttwo = [(ele[0] > threshold_one).astype(int) for ele in predictions_one]\n",
    "table_one_pttwo = pd.DataFrame({'actual':vali_y, 'pred':class_predictions_one_pttwo})\n",
    "cfm_one_pttwo = pd.crosstab(table_one_pttwo['actual'], table_one_pttwo['pred'], \n",
    "                            rownames=['actual'], colnames=['pred'])"
   ]
  },
  {
   "cell_type": "code",
   "execution_count": 75,
   "id": "63c05420",
   "metadata": {
    "scrolled": true
   },
   "outputs": [
    {
     "data": {
      "text/html": [
       "<div>\n",
       "<style scoped>\n",
       "    .dataframe tbody tr th:only-of-type {\n",
       "        vertical-align: middle;\n",
       "    }\n",
       "\n",
       "    .dataframe tbody tr th {\n",
       "        vertical-align: top;\n",
       "    }\n",
       "\n",
       "    .dataframe thead th {\n",
       "        text-align: right;\n",
       "    }\n",
       "</style>\n",
       "<table border=\"1\" class=\"dataframe\">\n",
       "  <thead>\n",
       "    <tr style=\"text-align: right;\">\n",
       "      <th>pred</th>\n",
       "      <th>0</th>\n",
       "      <th>1</th>\n",
       "    </tr>\n",
       "    <tr>\n",
       "      <th>actual</th>\n",
       "      <th></th>\n",
       "      <th></th>\n",
       "    </tr>\n",
       "  </thead>\n",
       "  <tbody>\n",
       "    <tr>\n",
       "      <th>0</th>\n",
       "      <td>431</td>\n",
       "      <td>221</td>\n",
       "    </tr>\n",
       "    <tr>\n",
       "      <th>1</th>\n",
       "      <td>1</td>\n",
       "      <td>20</td>\n",
       "    </tr>\n",
       "  </tbody>\n",
       "</table>\n",
       "</div>"
      ],
      "text/plain": [
       "pred      0    1\n",
       "actual          \n",
       "0       431  221\n",
       "1         1   20"
      ]
     },
     "execution_count": 75,
     "metadata": {},
     "output_type": "execute_result"
    }
   ],
   "source": [
    "cfm_one_pttwo"
   ]
  },
  {
   "cell_type": "code",
   "execution_count": 76,
   "id": "7ea85e68",
   "metadata": {},
   "outputs": [
    {
     "name": "stdout",
     "output_type": "stream",
     "text": [
      "precision is 0.082988\n",
      "recall is 0.952381\n",
      "f2 is 0.307692\n",
      "fpr is 0.338957\n"
     ]
    }
   ],
   "source": [
    "prec_one_pttwo = sklearn.metrics.precision_score(y_true = vali_y, \n",
    "                                                 y_pred = class_predictions_one_pttwo, \n",
    "                                                 zero_division = 0)\n",
    "rec_one_pttwo = sklearn.metrics.recall_score(y_true = vali_y, \n",
    "                                             y_pred = class_predictions_one_pttwo, \n",
    "                                             zero_division = 0)\n",
    "f2_one_pttwo = sklearn.metrics.fbeta_score(y_true = vali_y, \n",
    "                                           y_pred = class_predictions_one_pttwo, \n",
    "                                           beta = 2)\n",
    "\n",
    "print(f\"precision is {prec_one_pttwo:.6f}\")\n",
    "print(f\"recall is {rec_one_pttwo:.6f}\")\n",
    "print(f\"f2 is {f2_one_pttwo:.6f}\")\n",
    "print(f\"fpr is {fpr(cfm_one_pttwo):.6f}\")"
   ]
  },
  {
   "cell_type": "markdown",
   "id": "71dc4bf7",
   "metadata": {},
   "source": [
    "*evaluate performance on test set*"
   ]
  },
  {
   "cell_type": "code",
   "execution_count": 77,
   "id": "3ba25e92",
   "metadata": {},
   "outputs": [
    {
     "name": "stdout",
     "output_type": "stream",
     "text": [
      "64/64 [==============================] - 0s 1ms/step\n"
     ]
    }
   ],
   "source": [
    "predictions_one_test = model_one.predict(test_x)\n",
    "\n",
    "class_predictions_one_test = [(ele[0] > threshold_one).astype(int) for ele in predictions_one_test]\n",
    "table_one_test = pd.DataFrame({'actual':test_y, 'pred':class_predictions_one_test})\n",
    "cfm_one_test = pd.crosstab(table_one_test['actual'], table_one_test['pred'], \n",
    "                            rownames=['actual'], colnames=['pred'])"
   ]
  },
  {
   "cell_type": "code",
   "execution_count": 78,
   "id": "7cbd0d54",
   "metadata": {},
   "outputs": [
    {
     "data": {
      "text/html": [
       "<div>\n",
       "<style scoped>\n",
       "    .dataframe tbody tr th:only-of-type {\n",
       "        vertical-align: middle;\n",
       "    }\n",
       "\n",
       "    .dataframe tbody tr th {\n",
       "        vertical-align: top;\n",
       "    }\n",
       "\n",
       "    .dataframe thead th {\n",
       "        text-align: right;\n",
       "    }\n",
       "</style>\n",
       "<table border=\"1\" class=\"dataframe\">\n",
       "  <thead>\n",
       "    <tr style=\"text-align: right;\">\n",
       "      <th>pred</th>\n",
       "      <th>0</th>\n",
       "      <th>1</th>\n",
       "    </tr>\n",
       "    <tr>\n",
       "      <th>actual</th>\n",
       "      <th></th>\n",
       "      <th></th>\n",
       "    </tr>\n",
       "  </thead>\n",
       "  <tbody>\n",
       "    <tr>\n",
       "      <th>0</th>\n",
       "      <td>1324</td>\n",
       "      <td>628</td>\n",
       "    </tr>\n",
       "    <tr>\n",
       "      <th>1</th>\n",
       "      <td>2</td>\n",
       "      <td>69</td>\n",
       "    </tr>\n",
       "  </tbody>\n",
       "</table>\n",
       "</div>"
      ],
      "text/plain": [
       "pred       0    1\n",
       "actual           \n",
       "0       1324  628\n",
       "1          2   69"
      ]
     },
     "execution_count": 78,
     "metadata": {},
     "output_type": "execute_result"
    }
   ],
   "source": [
    "cfm_one_test"
   ]
  },
  {
   "cell_type": "code",
   "execution_count": 26,
   "id": "3f6ad952",
   "metadata": {
    "scrolled": true
   },
   "outputs": [
    {
     "name": "stdout",
     "output_type": "stream",
     "text": [
      "precision is 0.126214\n",
      "recall is 0.915493\n",
      "f2 is 0.406758\n",
      "fpr is 0.230533\n"
     ]
    }
   ],
   "source": [
    "prec_one_test = sklearn.metrics.precision_score(y_true = test_y, \n",
    "                                                 y_pred = class_predictions_one_test, \n",
    "                                                 zero_division = 0)\n",
    "rec_one_test = sklearn.metrics.recall_score(y_true = test_y, \n",
    "                                             y_pred = class_predictions_one_test, \n",
    "                                             zero_division = 0)\n",
    "f2_one_test = sklearn.metrics.fbeta_score(y_true = test_y, \n",
    "                                           y_pred = class_predictions_one_test, \n",
    "                                           beta = 2)\n",
    "\n",
    "print(f\"precision is {prec_one_test:.6f}\")\n",
    "print(f\"recall is {rec_one_test:.6f}\")\n",
    "print(f\"f2 is {f2_one_test:.6f}\")\n",
    "print(f\"fpr is {fpr(cfm_one_test):.6f}\")"
   ]
  },
  {
   "cell_type": "markdown",
   "id": "1b660cb3",
   "metadata": {},
   "source": [
    "### Model 3: Model to be tuned with cross-validated Recall and Precision"
   ]
  },
  {
   "cell_type": "markdown",
   "id": "726fdf68",
   "metadata": {},
   "source": [
    "**Tune Training Model** - Cross Validated RECALL AND PRECISION\n",
    "1. number of hidden layers and nodes\n",
    "2. type of activation - based on research, it is best to stick with relu and sigmoid.\n",
    "3. regularisation\n",
    "4. batch size and epochs\n",
    "\n",
    "**Tune Training Model** - Precision Recall Curve\n",
    "1. Threshold "
   ]
  },
  {
   "cell_type": "markdown",
   "id": "024c5e78",
   "metadata": {},
   "source": [
    "*preparing 10 folds of training data for 10-fold cross validation*"
   ]
  },
  {
   "cell_type": "code",
   "execution_count": 79,
   "id": "aaea0f77",
   "metadata": {},
   "outputs": [],
   "source": [
    "from sklearn.model_selection import KFold"
   ]
  },
  {
   "cell_type": "code",
   "execution_count": 80,
   "id": "0f5b7992",
   "metadata": {},
   "outputs": [],
   "source": [
    "k = 10\n",
    "kf = KFold(n_splits = 10, shuffle = True, random_state = 4248)"
   ]
  },
  {
   "cell_type": "markdown",
   "id": "0e8bda56",
   "metadata": {},
   "source": [
    "**Results**\n",
    "\n",
    "\n",
    "1. number of hidden layers and nodes\n",
    "\n",
    "\n",
    "3. regularisation\n",
    "\n",
    "\n",
    "4. batch size and epochs\n",
    "\n",
    "**network configuration:**\n",
    "\n",
    "1. threshold value"
   ]
  },
  {
   "cell_type": "markdown",
   "id": "640de951",
   "metadata": {},
   "source": [
    "*find the best number of nodes for a first hidden layer*"
   ]
  },
  {
   "cell_type": "code",
   "execution_count": 86,
   "id": "7f69b2db",
   "metadata": {},
   "outputs": [
    {
     "name": "stdout",
     "output_type": "stream",
     "text": [
      "starting 10f-cv for 4 hidden nodes\n",
      "starting 10f-cv for 6 hidden nodes\n",
      "starting 10f-cv for 8 hidden nodes\n",
      "starting 10f-cv for 10 hidden nodes\n",
      "starting 10f-cv for 12 hidden nodes\n",
      "starting 10f-cv for 14 hidden nodes\n",
      "run has completed!\n"
     ]
    }
   ],
   "source": [
    "hidden_nodes = [4, 6, 8, 10, 12, 14]\n",
    "training_accuracies = {ele:[] for ele in hidden_nodes}\n",
    "recall_records = {ele:[] for ele in hidden_nodes}\n",
    "precision_records = {ele:[] for ele in hidden_nodes}\n",
    "\n",
    "for i in range(len(hidden_nodes)): ## finding best number of hidden nodes for single layer\n",
    "    hl_size = hidden_nodes[i]\n",
    "    print(f\"starting 10f-cv for {hl_size} hidden nodes\")\n",
    "    \n",
    "    for train_idx, vali_idx in kf.split(trng_x): ## perform k-fold cross validation\n",
    "\n",
    "        # get current training and validation folds\n",
    "        trainfold_x = trng_x.loc[train_idx] ## k-1 folds\n",
    "        valifold_x = trng_x.loc[vali_idx]\n",
    "\n",
    "        trainfold_y = trng_y.loc[train_idx] # 1 fold\n",
    "        valifold_y = trng_y.loc[vali_idx]\n",
    "\n",
    "        # set up model\n",
    "        model = Sequential()\n",
    "        model.add(Dense(hl_size, input_shape=(15,), activation='relu'))\n",
    "        model.add(Dense(1, activation='sigmoid'))\n",
    "\n",
    "        # compile model\n",
    "        model.compile(loss='binary_crossentropy', optimizer='adam', metrics=['accuracy'])\n",
    "\n",
    "        # fit model\n",
    "        model.fit(trainfold_x, trainfold_y, epochs = 20, batch_size = 64, verbose = 0)\n",
    "\n",
    "        # get model's cross-validated accuracy\n",
    "        predictions = model.predict(valifold_x, verbose = 0)\n",
    "        class_predictions = [(ele[0] > 0.5).astype(int) for ele in predictions]\n",
    "        table = pd.DataFrame({'actual':valifold_y, 'pred':class_predictions})\n",
    "        cfm = pd.crosstab(table['actual'], table['pred'], rownames=['actual'], colnames=['pred'])\n",
    "\n",
    "        accuracy = (cfm[0][0] + cfm[1][1]) / len(valifold_y)\n",
    "        training_accuracies[hidden_nodes[i]].append(accuracy)\n",
    "        \n",
    "        recall_records[hidden_nodes[i]].append(sklearn.metrics.recall_score(y_true = valifold_y, \n",
    "                                                 y_pred = class_predictions, \n",
    "                                                 zero_division = 0))\n",
    "        precision_records[hidden_nodes[i]].append(sklearn.metrics.precision_score(y_true = valifold_y, \n",
    "                                                 y_pred = class_predictions, \n",
    "                                                 zero_division = 0))\n",
    "\n",
    "        \n",
    "print(\"run has completed!\")"
   ]
  },
  {
   "cell_type": "code",
   "execution_count": 137,
   "id": "851daef9",
   "metadata": {},
   "outputs": [
    {
     "data": {
      "text/plain": [
       "{4: '85.876224',\n",
       " 6: '86.532918',\n",
       " 8: '86.831560',\n",
       " 10: '87.204694',\n",
       " 12: '87.219865',\n",
       " 14: '87.712402'}"
      ]
     },
     "execution_count": 137,
     "metadata": {},
     "output_type": "execute_result"
    }
   ],
   "source": [
    "# cross validated accuracy\n",
    "{k: f\"{100*sum(v)/len(v):.6f}\" for k,v in training_accuracies.items()}"
   ]
  },
  {
   "cell_type": "code",
   "execution_count": 87,
   "id": "a112919f",
   "metadata": {},
   "outputs": [
    {
     "data": {
      "text/plain": [
       "{4: '0.847086',\n",
       " 6: '0.844809',\n",
       " 8: '0.847170',\n",
       " 10: '0.851304',\n",
       " 12: '0.850061',\n",
       " 14: '0.852778'}"
      ]
     },
     "execution_count": 87,
     "metadata": {},
     "output_type": "execute_result"
    }
   ],
   "source": [
    "{k: f\"{sum(v)/len(v):.6f}\" for k,v in recall_records.items()}"
   ]
  },
  {
   "cell_type": "code",
   "execution_count": 88,
   "id": "d84103ab",
   "metadata": {},
   "outputs": [
    {
     "data": {
      "text/plain": [
       "{4: '0.829176',\n",
       " 6: '0.833866',\n",
       " 8: '0.842286',\n",
       " 10: '0.845429',\n",
       " 12: '0.840597',\n",
       " 14: '0.847081'}"
      ]
     },
     "execution_count": 88,
     "metadata": {},
     "output_type": "execute_result"
    }
   ],
   "source": [
    "{k: f\"{sum(v)/len(v):.6f}\" for k,v in precision_records.items()}"
   ]
  },
  {
   "cell_type": "code",
   "execution_count": 89,
   "id": "92baaf93",
   "metadata": {},
   "outputs": [
    {
     "data": {
      "text/html": [
       "<div>\n",
       "<style scoped>\n",
       "    .dataframe tbody tr th:only-of-type {\n",
       "        vertical-align: middle;\n",
       "    }\n",
       "\n",
       "    .dataframe tbody tr th {\n",
       "        vertical-align: top;\n",
       "    }\n",
       "\n",
       "    .dataframe thead th {\n",
       "        text-align: right;\n",
       "    }\n",
       "</style>\n",
       "<table border=\"1\" class=\"dataframe\">\n",
       "  <thead>\n",
       "    <tr style=\"text-align: right;\">\n",
       "      <th>pred</th>\n",
       "      <th>0</th>\n",
       "      <th>1</th>\n",
       "    </tr>\n",
       "    <tr>\n",
       "      <th>actual</th>\n",
       "      <th></th>\n",
       "      <th></th>\n",
       "    </tr>\n",
       "  </thead>\n",
       "  <tbody>\n",
       "    <tr>\n",
       "      <th>0</th>\n",
       "      <td>337</td>\n",
       "      <td>55</td>\n",
       "    </tr>\n",
       "    <tr>\n",
       "      <th>1</th>\n",
       "      <td>29</td>\n",
       "      <td>248</td>\n",
       "    </tr>\n",
       "  </tbody>\n",
       "</table>\n",
       "</div>"
      ],
      "text/plain": [
       "pred      0    1\n",
       "actual          \n",
       "0       337   55\n",
       "1        29  248"
      ]
     },
     "execution_count": 89,
     "metadata": {},
     "output_type": "execute_result"
    }
   ],
   "source": [
    "cfm"
   ]
  },
  {
   "cell_type": "markdown",
   "id": "082bcf53",
   "metadata": {},
   "source": [
    "Conclusion: **Use 4 nodes since increasing the nodes only gave 1-2% improvement to recall/precision**"
   ]
  },
  {
   "cell_type": "markdown",
   "id": "65b90ded",
   "metadata": {},
   "source": [
    "*find the best number of nodes for a second hidden layer*"
   ]
  },
  {
   "cell_type": "code",
   "execution_count": 90,
   "id": "715f4737",
   "metadata": {},
   "outputs": [
    {
     "name": "stdout",
     "output_type": "stream",
     "text": [
      "starting 10f-cv for 4 hidden nodes\n",
      "starting 10f-cv for 6 hidden nodes\n",
      "starting 10f-cv for 8 hidden nodes\n",
      "starting 10f-cv for 10 hidden nodes\n",
      "starting 10f-cv for 12 hidden nodes\n",
      "starting 10f-cv for 14 hidden nodes\n",
      "run has completed!\n"
     ]
    }
   ],
   "source": [
    "hidden_layers = [4, 6, 8, 10, 12, 14]\n",
    "training_accuracies = {ele:[] for ele in hidden_layers}\n",
    "recall_records = {ele:[] for ele in hidden_layers}\n",
    "precision_records = {ele:[] for ele in hidden_layers}\n",
    "\n",
    "for i in range(len(hidden_nodes)): ## finding best number of hidden layers\n",
    "    hl_size = hidden_nodes[i]\n",
    "    print(f\"starting 10f-cv for {hl_size} hidden nodes\")\n",
    "    \n",
    "    for train_idx, vali_idx in kf.split(trng_x): ## perform k-fold cross validation\n",
    "\n",
    "        # get current training and validation folds\n",
    "        trainfold_x = trng_x.loc[train_idx] ## k-1 folds\n",
    "        valifold_x = trng_x.loc[vali_idx]\n",
    "\n",
    "        trainfold_y = trng_y.loc[train_idx] # 1 fold\n",
    "        valifold_y = trng_y.loc[vali_idx]\n",
    "\n",
    "        # set up model\n",
    "        model = Sequential()\n",
    "        model.add(Dense(4, input_shape=(15,), activation='relu')) # using the best # nodes = 14\n",
    "        model.add(Dense(hl_size, activation = 'relu'))\n",
    "        model.add(Dense(1, activation='sigmoid'))\n",
    "\n",
    "        # compile model\n",
    "        model.compile(loss='binary_crossentropy', optimizer='adam', metrics=['accuracy'])\n",
    "\n",
    "        # fit model\n",
    "        model.fit(trainfold_x, trainfold_y, epochs = 20, batch_size = 64, verbose = 0)\n",
    "\n",
    "        # get model's cross-validated accuracy\n",
    "        predictions = model.predict(valifold_x, verbose = 0)\n",
    "        class_predictions = [(ele[0] > 0.5).astype(int) for ele in predictions]\n",
    "        table = pd.DataFrame({'actual':valifold_y, 'pred':class_predictions})\n",
    "        cfm = pd.crosstab(table['actual'], table['pred'], rownames=['actual'], colnames=['pred'])\n",
    "\n",
    "        accuracy = (cfm[0][0] + cfm[1][1]) / len(valifold_y)\n",
    "        training_accuracies[hidden_layers[i]].append(accuracy)\n",
    "        \n",
    "        recall_records[hidden_layers[i]].append(sklearn.metrics.recall_score(y_true = valifold_y, \n",
    "                                                 y_pred = class_predictions, \n",
    "                                                 zero_division = 0))\n",
    "        precision_records[hidden_layers[i]].append(sklearn.metrics.precision_score(y_true = valifold_y, \n",
    "                                                 y_pred = class_predictions, \n",
    "                                                 zero_division = 0))\n",
    "        \n",
    "print(\"run has completed!\")"
   ]
  },
  {
   "cell_type": "code",
   "execution_count": 139,
   "id": "552a9651",
   "metadata": {},
   "outputs": [
    {
     "data": {
      "text/plain": [
       "{4: '88.966580',\n",
       " 6: '89.474109',\n",
       " 8: '89.205586',\n",
       " 10: '89.295049',\n",
       " 12: '89.578498',\n",
       " 14: '89.668184'}"
      ]
     },
     "execution_count": 139,
     "metadata": {},
     "output_type": "execute_result"
    }
   ],
   "source": [
    "# cross validated accuracy\n",
    "{k: f\"{100*sum(v)/len(v):.6f}\" for k,v in training_accuracies.items()}"
   ]
  },
  {
   "cell_type": "code",
   "execution_count": 91,
   "id": "3285f2c8",
   "metadata": {},
   "outputs": [
    {
     "data": {
      "text/plain": [
       "{4: '0.837429',\n",
       " 6: '0.846749',\n",
       " 8: '0.856177',\n",
       " 10: '0.850352',\n",
       " 12: '0.845113',\n",
       " 14: '0.844973'}"
      ]
     },
     "execution_count": 91,
     "metadata": {},
     "output_type": "execute_result"
    }
   ],
   "source": [
    "{k: f\"{sum(v)/len(v):.6f}\" for k,v in recall_records.items()}"
   ]
  },
  {
   "cell_type": "code",
   "execution_count": 92,
   "id": "18eb4184",
   "metadata": {},
   "outputs": [
    {
     "data": {
      "text/plain": [
       "{4: '0.834387',\n",
       " 6: '0.836477',\n",
       " 8: '0.836356',\n",
       " 10: '0.833739',\n",
       " 12: '0.845066',\n",
       " 14: '0.833685'}"
      ]
     },
     "execution_count": 92,
     "metadata": {},
     "output_type": "execute_result"
    }
   ],
   "source": [
    "{k: f\"{sum(v)/len(v):.6f}\" for k,v in precision_records.items()}"
   ]
  },
  {
   "cell_type": "markdown",
   "id": "fce0b1f4",
   "metadata": {},
   "source": [
    "Conclusion: **Do not use second hidden layer.**"
   ]
  },
  {
   "cell_type": "markdown",
   "id": "870e9f58",
   "metadata": {},
   "source": [
    "*finding a suitable regularisation amount for a dropout layer*"
   ]
  },
  {
   "cell_type": "code",
   "execution_count": 93,
   "id": "cff0b358",
   "metadata": {},
   "outputs": [
    {
     "name": "stdout",
     "output_type": "stream",
     "text": [
      "starting 10f-cv for 0.2 dropout\n",
      "starting 10f-cv for 0.25 dropout\n",
      "starting 10f-cv for 0.3 dropout\n",
      "starting 10f-cv for 0.35 dropout\n",
      "starting 10f-cv for 0.4 dropout\n",
      "run has completed!\n"
     ]
    }
   ],
   "source": [
    "reg_degrees = [0.2, 0.25, 0.3, 0.35, 0.4]\n",
    "training_accuracies = {ele:[] for ele in reg_degrees}\n",
    "fitted_data_accuracies = {ele:[] for ele in reg_degrees}\n",
    "recall_records = {ele:[] for ele in reg_degrees}\n",
    "precision_records = {ele:[] for ele in reg_degrees}\n",
    "\n",
    "for i in range(len(reg_degrees)): ## finding best regularisation\n",
    "    degree = reg_degrees[i]\n",
    "    print(f\"starting 10f-cv for {degree} dropout\")\n",
    "\n",
    "    for train_idx, vali_idx in kf.split(trng_x): ## perform k-fold cross validation\n",
    "\n",
    "        # get current training and validation folds\n",
    "        trainfold_x = trng_x.loc[train_idx] ## k-1 folds\n",
    "        valifold_x = trng_x.loc[vali_idx]\n",
    "\n",
    "        trainfold_y = trng_y.loc[train_idx] # 1 fold\n",
    "        valifold_y = trng_y.loc[vali_idx]\n",
    "\n",
    "        # set up model\n",
    "        model = Sequential()\n",
    "        model.add(Dropout(degree))\n",
    "        model.add(Dense(4, activation = 'relu'))\n",
    "        model.add(Dense(1, activation='sigmoid'))\n",
    "\n",
    "        # compile model\n",
    "        model.compile(loss='binary_crossentropy', optimizer='adam', metrics=['accuracy'])\n",
    "\n",
    "        # fit model\n",
    "        model.fit(trainfold_x, trainfold_y, epochs = 20, batch_size = 64, verbose = 0)\n",
    "        \n",
    "#         # NEW! get model's accuracy on the data it was fitted on (on k-1 folds)\n",
    "#         predictions = model.predict(trainfold_x, verbose = 0)\n",
    "#         class_predictions = [(ele[0] > 0.5).astype(int) for ele in predictions]\n",
    "#         table = pd.DataFrame({'actual':trainfold_y, 'pred':class_predictions})\n",
    "#         cfm = pd.crosstab(table['actual'], table['pred'], rownames=['actual'], colnames=['pred'])\n",
    "\n",
    "#         fd_accuracy = (cfm[0][0] + cfm[1][1]) / len(trainfold_y)\n",
    "#         fitted_data_accuracies[reg_degrees[i]].append(fd_accuracy)\n",
    "\n",
    "        # get model's cross-validated accuracy\n",
    "        predictions = model.predict(valifold_x, verbose = 0)\n",
    "        class_predictions = [(ele[0] > 0.5).astype(int) for ele in predictions]\n",
    "        table = pd.DataFrame({'actual':valifold_y, 'pred':class_predictions})\n",
    "        cfm = pd.crosstab(table['actual'], table['pred'], rownames=['actual'], colnames=['pred'])\n",
    "\n",
    "        accuracy = (cfm[0][0] + cfm[1][1]) / len(valifold_y)\n",
    "        training_accuracies[reg_degrees[i]].append(accuracy)\n",
    "        \n",
    "        recall_records[reg_degrees[i]].append(sklearn.metrics.recall_score(y_true = valifold_y, \n",
    "                                                 y_pred = class_predictions, \n",
    "                                                 zero_division = 0))\n",
    "        precision_records[reg_degrees[i]].append(sklearn.metrics.precision_score(y_true = valifold_y, \n",
    "                                                 y_pred = class_predictions, \n",
    "                                                 zero_division = 0))\n",
    "        \n",
    "print(\"run has completed!\")"
   ]
  },
  {
   "cell_type": "code",
   "execution_count": 142,
   "id": "b777074e",
   "metadata": {},
   "outputs": [
    {
     "data": {
      "text/plain": [
       "{0.2: '88.235080',\n",
       " 0.25: '87.936372',\n",
       " 0.3: '87.682306',\n",
       " 0.35: '87.876849',\n",
       " 0.4: '87.996185'}"
      ]
     },
     "execution_count": 142,
     "metadata": {},
     "output_type": "execute_result"
    }
   ],
   "source": [
    "# cross validated accuracy\n",
    "{k: f\"{100*sum(v)/len(v):.6f}\" for k,v in training_accuracies.items()}"
   ]
  },
  {
   "cell_type": "code",
   "execution_count": 94,
   "id": "33493506",
   "metadata": {},
   "outputs": [
    {
     "data": {
      "text/plain": [
       "{0.2: '0.849975',\n",
       " 0.25: '0.836929',\n",
       " 0.3: '0.835706',\n",
       " 0.35: '0.846334',\n",
       " 0.4: '0.842267'}"
      ]
     },
     "execution_count": 94,
     "metadata": {},
     "output_type": "execute_result"
    }
   ],
   "source": [
    "{k: f\"{sum(v)/len(v):.6f}\" for k,v in recall_records.items()}"
   ]
  },
  {
   "cell_type": "code",
   "execution_count": 95,
   "id": "ddd27ca7",
   "metadata": {},
   "outputs": [
    {
     "data": {
      "text/plain": [
       "{0.2: '0.821000',\n",
       " 0.25: '0.824046',\n",
       " 0.3: '0.819405',\n",
       " 0.35: '0.812584',\n",
       " 0.4: '0.817861'}"
      ]
     },
     "execution_count": 95,
     "metadata": {},
     "output_type": "execute_result"
    }
   ],
   "source": [
    "{k: f\"{sum(v)/len(v):.6f}\" for k,v in precision_records.items()}"
   ]
  },
  {
   "cell_type": "markdown",
   "id": "512b842e",
   "metadata": {},
   "source": [
    "Conclusion: **No regularisation used.**"
   ]
  },
  {
   "cell_type": "markdown",
   "id": "54f1f624",
   "metadata": {},
   "source": [
    "*try to find a suitable batch size*"
   ]
  },
  {
   "cell_type": "code",
   "execution_count": 96,
   "id": "b99dbb92",
   "metadata": {},
   "outputs": [
    {
     "name": "stdout",
     "output_type": "stream",
     "text": [
      "starting 10f-cv for batch size 32\n",
      "starting 10f-cv for batch size 64\n",
      "starting 10f-cv for batch size 128\n",
      "starting 10f-cv for batch size 256\n",
      "run has completed!\n"
     ]
    }
   ],
   "source": [
    "# Check if changing batch size will improve performance \n",
    "\n",
    "batch_sizes = [32, 64, 128, 256]\n",
    "training_accuracies = {ele:[] for ele in batch_sizes}\n",
    "fitted_data_accuracies = {ele:[] for ele in batch_sizes}\n",
    "recall_records = {ele:[] for ele in batch_sizes}\n",
    "precision_records = {ele:[] for ele in batch_sizes}\n",
    "\n",
    "for i in range(len(batch_sizes)): ## finding best batch size\n",
    "    batch_size = batch_sizes[i]\n",
    "    print(f\"starting 10f-cv for batch size {batch_size}\")\n",
    "\n",
    "    for train_idx, vali_idx in kf.split(trng_x): ## perform k-fold cross validation\n",
    "\n",
    "        # get current training and validation folds\n",
    "        trainfold_x = trng_x.loc[train_idx] ## k-1 folds\n",
    "        valifold_x = trng_x.loc[vali_idx]\n",
    "\n",
    "        trainfold_y = trng_y.loc[train_idx] # 1 fold\n",
    "        valifold_y = trng_y.loc[vali_idx]\n",
    "\n",
    "        # set up model\n",
    "        model = Sequential()\n",
    "        model.add(Dense(4, activation = 'relu'))\n",
    "        model.add(Dense(1, activation='sigmoid'))\n",
    "\n",
    "        # compile model\n",
    "        model.compile(loss='binary_crossentropy', optimizer='adam', metrics=['accuracy'])\n",
    "\n",
    "        # fit model\n",
    "        model.fit(trainfold_x, trainfold_y, epochs = 20, batch_size = batch_size, verbose = 0)\n",
    "        \n",
    "#         # NEW! get model's accuracy on the data it was fitted on (on k-1 folds)\n",
    "#         predictions = model.predict(trainfold_x, verbose = 0)\n",
    "#         class_predictions = [(ele[0] > threshold).astype(int) for ele in predictions]\n",
    "#         table = pd.DataFrame({'actual':trainfold_y, 'pred':class_predictions})\n",
    "#         cfm = pd.crosstab(table['actual'], table['pred'], rownames=['actual'], colnames=['pred'])\n",
    "\n",
    "#         fd_accuracy = (cfm[0][0] + cfm[1][1]) / len(trainfold_y)\n",
    "#         fitted_data_accuracies[batch_sizes[i]].append(fd_accuracy)\n",
    "\n",
    "        # get model's cross-validated accuracy\n",
    "        predictions = model.predict(valifold_x, verbose = 0)\n",
    "        class_predictions = [(ele[0] > 0.5).astype(int) for ele in predictions]\n",
    "        table = pd.DataFrame({'actual':valifold_y, 'pred':class_predictions})\n",
    "        cfm = pd.crosstab(table['actual'], table['pred'], rownames=['actual'], colnames=['pred'])\n",
    "\n",
    "        accuracy = (cfm[0][0] + cfm[1][1]) / len(valifold_y)\n",
    "        training_accuracies[batch_sizes[i]].append(accuracy)\n",
    "        \n",
    "        recall_records[batch_sizes[i]].append(sklearn.metrics.recall_score(y_true = valifold_y, \n",
    "                                                 y_pred = class_predictions, \n",
    "                                                 zero_division = 0))\n",
    "        precision_records[batch_sizes[i]].append(sklearn.metrics.precision_score(y_true = valifold_y, \n",
    "                                                 y_pred = class_predictions, \n",
    "                                                 zero_division = 0))\n",
    "        \n",
    "print(\"run has completed!\")"
   ]
  },
  {
   "cell_type": "code",
   "execution_count": 146,
   "id": "71a8a8fd",
   "metadata": {},
   "outputs": [
    {
     "data": {
      "text/plain": [
       "{32: '91.176427', 64: '89.967182', 128: '87.966200', 256: '87.309417'}"
      ]
     },
     "execution_count": 146,
     "metadata": {},
     "output_type": "execute_result"
    }
   ],
   "source": [
    "# cross validated accuracy\n",
    "{k: f\"{100*sum(v)/len(v):.6f}\" for k,v in training_accuracies.items()}"
   ]
  },
  {
   "cell_type": "code",
   "execution_count": 97,
   "id": "683451eb",
   "metadata": {},
   "outputs": [
    {
     "data": {
      "text/plain": [
       "{32: '0.849310', 64: '0.851933', 128: '0.838868', 256: '0.822728'}"
      ]
     },
     "execution_count": 97,
     "metadata": {},
     "output_type": "execute_result"
    }
   ],
   "source": [
    "{k: f\"{sum(v)/len(v):.6f}\" for k,v in recall_records.items()}"
   ]
  },
  {
   "cell_type": "code",
   "execution_count": 98,
   "id": "dbf1c045",
   "metadata": {},
   "outputs": [
    {
     "data": {
      "text/plain": [
       "{32: '0.827491', 64: '0.831987', 128: '0.819057', 256: '0.813580'}"
      ]
     },
     "execution_count": 98,
     "metadata": {},
     "output_type": "execute_result"
    }
   ],
   "source": [
    "{k: f\"{sum(v)/len(v):.6f}\" for k,v in precision_records.items()}"
   ]
  },
  {
   "cell_type": "markdown",
   "id": "6b61c49a",
   "metadata": {},
   "source": [
    "Conclusion: **Batch Size 64.**"
   ]
  },
  {
   "cell_type": "markdown",
   "id": "0f4332d9",
   "metadata": {},
   "source": [
    "*Observe if we can use a higher number of epochs*  \n",
    "If validation loss continues to decrease, we can continue."
   ]
  },
  {
   "cell_type": "code",
   "execution_count": 99,
   "id": "1c9509b7",
   "metadata": {},
   "outputs": [
    {
     "name": "stdout",
     "output_type": "stream",
     "text": [
      "model fitted for one fold!\n",
      "model fitted for one fold!\n",
      "model fitted for one fold!\n",
      "model fitted for one fold!\n",
      "model fitted for one fold!\n",
      "model fitted for one fold!\n",
      "model fitted for one fold!\n",
      "model fitted for one fold!\n",
      "model fitted for one fold!\n",
      "model fitted for one fold!\n",
      "run has completed!\n"
     ]
    }
   ],
   "source": [
    "training_accuracies = []\n",
    "fitted_data_accuracies = []\n",
    "\n",
    "histories = {ele:[] for ele in range(k)}\n",
    "\n",
    "for i, (train_idx, vali_idx) in enumerate(kf.split(trng_x)): ## perform k-fold cross validation\n",
    "\n",
    "    # get current training and validation folds\n",
    "    trainfold_x = trng_x.loc[train_idx] ## k-1 folds\n",
    "    valifold_x = trng_x.loc[vali_idx]\n",
    "\n",
    "    trainfold_y = trng_y.loc[train_idx] # 1 fold\n",
    "    valifold_y = trng_y.loc[vali_idx]\n",
    "\n",
    "    # set up model\n",
    "    model = Sequential()\n",
    "    model.add(Dense(4, input_shape=(15,), activation='relu')) # using the best # nodes = 14\n",
    "    model.add(Dense(1, activation='sigmoid'))\n",
    "\n",
    "    # compile model\n",
    "    model.compile(loss='binary_crossentropy', optimizer='adam', metrics=['accuracy'])\n",
    "\n",
    "    # fit model\n",
    "    history = model.fit(trainfold_x, trainfold_y, epochs = 60, batch_size = 64, \n",
    "             validation_data = (valifold_x, valifold_y), verbose = 0)\n",
    "    \n",
    "    histories[i].append(history)\n",
    "    \n",
    "    print(f\"model fitted for one fold!\")\n",
    "    \n",
    "#     # NEW! get model's accuracy on the data it was fitted on (on k-1 folds)\n",
    "#     predictions = model.predict(trainfold_x, verbose = 0)\n",
    "#     class_predictions = [(ele[0] > 0.5).astype(int) for ele in predictions]\n",
    "#     table = pd.DataFrame({'actual':trainfold_y, 'pred':class_predictions})\n",
    "#     cfm = pd.crosstab(table['actual'], table['pred'], rownames=['actual'], colnames=['pred'])\n",
    "\n",
    "#     fd_accuracy = (cfm[0][0] + cfm[1][1]) / len(trainfold_y)\n",
    "#     fitted_data_accuracies.append(fd_accuracy)\n",
    "\n",
    "    # get model's cross-validated accuracy\n",
    "    predictions = model.predict(valifold_x, verbose = 0)\n",
    "    class_predictions = [(ele[0] > 0.5).astype(int) for ele in predictions]\n",
    "    table = pd.DataFrame({'actual':valifold_y, 'pred':class_predictions})\n",
    "    cfm = pd.crosstab(table['actual'], table['pred'], rownames=['actual'], colnames=['pred'])\n",
    "\n",
    "    accuracy = (cfm[0][0] + cfm[1][1]) / len(valifold_y)\n",
    "    training_accuracies.append(accuracy)\n",
    "        \n",
    "print(\"run has completed!\")"
   ]
  },
  {
   "cell_type": "code",
   "execution_count": 149,
   "id": "02dfd7e8",
   "metadata": {
    "scrolled": false
   },
   "outputs": [
    {
     "name": "stdout",
     "output_type": "stream",
     "text": [
      "0.937146\n"
     ]
    }
   ],
   "source": [
    "print(f\"{sum(training_accuracies)/len(training_accuracies):.6f}\")"
   ]
  },
  {
   "cell_type": "code",
   "execution_count": 100,
   "id": "48aa3c6b",
   "metadata": {},
   "outputs": [
    {
     "data": {
      "image/png": "[encoded data removed]",
      "text/plain": [
       "<Figure size 1600x300 with 20 Axes>"
      ]
     },
     "metadata": {},
     "output_type": "display_data"
    }
   ],
   "source": [
    "# Plot for all folds\n",
    "fig, ax = plt.subplots(2, 10, layout=\"constrained\", figsize = (16, 3))\n",
    "fig.suptitle('Plots of Accuracy (Top) and Loss (Bottom)')\n",
    "for i in range(len(histories)):\n",
    "    ax[0, i].plot(histories[i][0].history['accuracy']);\n",
    "    ax[0, i].plot(histories[i][0].history['val_accuracy']);\n",
    "    #ax[0, i].set_title('model accuracy')\n",
    "    #ax[0, i].set_ylabel('accuracy')\n",
    "    #ax[0, i].set_xlabel('epoch')\n",
    "    #ax[0, i].legend(['train', 'val'], loc='upper left')\n",
    "    ax[0, i].set_xticks([0, 20, 50, 60])\n",
    "    \n",
    "    ax[1, i].plot(histories[i][0].history['loss']);\n",
    "    ax[1, i].plot(histories[i][0].history['val_loss']);\n",
    "    #ax[1, i].set_title('model loss')\n",
    "    #ax[1, i].set_ylabel('loss')\n",
    "    #ax[1, i].set_xlabel('epoch')\n",
    "    #ax[1, i].legend(['train', 'val'], loc='upper left')\n",
    "    ax[1, i].set_xticks([0, 20, 50, 60])\n",
    "\n",
    "ax[0, 0].legend(['train', 'val'], loc='lower right')\n",
    "ax[1, 0].legend(['train', 'val'], loc='upper right');"
   ]
  },
  {
   "cell_type": "markdown",
   "id": "22e197d8",
   "metadata": {},
   "source": [
    "Description of plots:  \n",
    "Above, for each fold of cross validation done, we tracked the change in training and validation performance in terms of loss and accuracy."
   ]
  },
  {
   "cell_type": "code",
   "execution_count": 153,
   "id": "1fe731be",
   "metadata": {},
   "outputs": [
    {
     "data": {
      "text/plain": [
       "[0.164007768034935,\n",
       " 0.16421574354171753,\n",
       " 0.161006897687912,\n",
       " 0.16301412880420685,\n",
       " 0.16705897450447083,\n",
       " 0.15851590037345886,\n",
       " 0.16143402457237244,\n",
       " 0.16143329441547394,\n",
       " 0.15809005498886108,\n",
       " 0.15911047160625458]"
      ]
     },
     "execution_count": 153,
     "metadata": {},
     "output_type": "execute_result"
    }
   ],
   "source": [
    "histories[2][0].history['val_loss'][-10:] # shows for the 2nd fold, the last 10 epochs reduced loss by 0.005"
   ]
  },
  {
   "cell_type": "code",
   "execution_count": 154,
   "id": "f5cd56a0",
   "metadata": {},
   "outputs": [
    {
     "data": {
      "text/plain": [
       "[0.20321029424667358,\n",
       " 0.203443244099617,\n",
       " 0.18440654873847961,\n",
       " 0.19985656440258026,\n",
       " 0.19874082505702972,\n",
       " 0.1969597190618515,\n",
       " 0.20357707142829895,\n",
       " 0.17804378271102905,\n",
       " 0.200942724943161,\n",
       " 0.19902826845645905]"
      ]
     },
     "execution_count": 154,
     "metadata": {},
     "output_type": "execute_result"
    }
   ],
   "source": [
    "histories[6][0].history['val_loss'][-10:] # shows for the 2nd fold, the last 10 epochs has fluctuating loss"
   ]
  },
  {
   "cell_type": "code",
   "execution_count": 155,
   "id": "255903b4",
   "metadata": {
    "scrolled": true
   },
   "outputs": [
    {
     "data": {
      "text/plain": [
       "[0.2888741195201874,\n",
       " 0.2784067690372467,\n",
       " 0.2598203122615814,\n",
       " 0.26955845952033997,\n",
       " 0.26208579540252686,\n",
       " 0.2462092787027359,\n",
       " 0.26193952560424805,\n",
       " 0.2724437713623047,\n",
       " 0.2529255449771881,\n",
       " 0.25818637013435364]"
      ]
     },
     "execution_count": 155,
     "metadata": {},
     "output_type": "execute_result"
    }
   ],
   "source": [
    "histories[6][0].history['val_loss'][20:30] # shows for the 2nd fold, the last 10 epochs has fluctuating loss"
   ]
  },
  {
   "cell_type": "markdown",
   "id": "3a22ed98",
   "metadata": {},
   "source": [
    "Conclusion: Training for 40 more epochs added a 2% improvement to cross-validated performance.  \n",
    "From the plots, it seems like we are not overfitting for some folds since the loss is still decreasing during the last 10 epochs. On the other hand, we are overfitting in other folds as the loss fluctuates in the last 10 epochs.  \n",
    "We should try 30 epochs instead. From the above indexing, it seems like 30 epochs will still be fitting well."
   ]
  },
  {
   "cell_type": "markdown",
   "id": "6e676a17",
   "metadata": {},
   "source": [
    "*Round 2 of changing epochs*"
   ]
  },
  {
   "cell_type": "code",
   "execution_count": 156,
   "id": "8be093da",
   "metadata": {
    "scrolled": true
   },
   "outputs": [
    {
     "name": "stdout",
     "output_type": "stream",
     "text": [
      "model fitted for one fold!\n",
      "model fitted for one fold!\n",
      "model fitted for one fold!\n",
      "model fitted for one fold!\n",
      "model fitted for one fold!\n",
      "model fitted for one fold!\n",
      "model fitted for one fold!\n",
      "model fitted for one fold!\n",
      "model fitted for one fold!\n",
      "model fitted for one fold!\n",
      "run has completed!\n"
     ]
    }
   ],
   "source": [
    "training_accuracies = []\n",
    "fitted_data_accuracies = []\n",
    "\n",
    "histories = {ele:[] for ele in range(k)}\n",
    "\n",
    "for i, (train_idx, vali_idx) in enumerate(kf.split(trng_x)): ## perform k-fold cross validation\n",
    "\n",
    "    # get current training and validation folds\n",
    "    trainfold_x = trng_x.loc[train_idx] ## k-1 folds\n",
    "    valifold_x = trng_x.loc[vali_idx]\n",
    "\n",
    "    trainfold_y = trng_y.loc[train_idx] # 1 fold\n",
    "    valifold_y = trng_y.loc[vali_idx]\n",
    "\n",
    "    # set up model\n",
    "    model = Sequential()\n",
    "    model.add(Dense(14, input_shape=(15,), activation='relu')) # using the best # nodes = 14\n",
    "    model.add(Dense(14, activation = 'relu'))\n",
    "    model.add(Dense(1, activation='sigmoid'))\n",
    "\n",
    "    # compile model\n",
    "    model.compile(loss='binary_crossentropy', optimizer='adam', metrics=['accuracy'])\n",
    "\n",
    "    # fit model\n",
    "    history = model.fit(trainfold_x, trainfold_y, epochs = 30, batch_size = 32, \n",
    "             validation_data = (valifold_x, valifold_y), verbose = 0)\n",
    "    \n",
    "    histories[i].append(history)\n",
    "    \n",
    "    print(f\"model fitted for one fold!\")\n",
    "    \n",
    "#     # NEW! get model's accuracy on the data it was fitted on (on k-1 folds)\n",
    "#     predictions = model.predict(trainfold_x, verbose = 0)\n",
    "#     class_predictions = [(ele[0] > 0.5).astype(int) for ele in predictions]\n",
    "#     table = pd.DataFrame({'actual':trainfold_y, 'pred':class_predictions})\n",
    "#     cfm = pd.crosstab(table['actual'], table['pred'], rownames=['actual'], colnames=['pred'])\n",
    "\n",
    "#     fd_accuracy = (cfm[0][0] + cfm[1][1]) / len(trainfold_y)\n",
    "#     fitted_data_accuracies.append(fd_accuracy)\n",
    "\n",
    "    # get model's cross-validated accuracy\n",
    "    predictions = model.predict(valifold_x, verbose = 0)\n",
    "    class_predictions = [(ele[0] > 0.5).astype(int) for ele in predictions]\n",
    "    table = pd.DataFrame({'actual':valifold_y, 'pred':class_predictions})\n",
    "    cfm = pd.crosstab(table['actual'], table['pred'], rownames=['actual'], colnames=['pred'])\n",
    "\n",
    "    accuracy = (cfm[0][0] + cfm[1][1]) / len(valifold_y)\n",
    "    training_accuracies.append(accuracy)\n",
    "        \n",
    "print(\"run has completed!\")"
   ]
  },
  {
   "cell_type": "code",
   "execution_count": 157,
   "id": "d292e614",
   "metadata": {
    "scrolled": true
   },
   "outputs": [
    {
     "name": "stdout",
     "output_type": "stream",
     "text": [
      "0.922067\n"
     ]
    }
   ],
   "source": [
    "print(f\"{sum(training_accuracies)/len(training_accuracies):.6f}\")"
   ]
  },
  {
   "cell_type": "code",
   "execution_count": 158,
   "id": "326d3eb4",
   "metadata": {},
   "outputs": [
    {
     "data": {
      "image/png": "[encoded data removed]",
      "text/plain": [
       "<Figure size 1600x300 with 20 Axes>"
      ]
     },
     "metadata": {},
     "output_type": "display_data"
    }
   ],
   "source": [
    "# Plot for all folds\n",
    "fig, ax = plt.subplots(2, 10, layout=\"constrained\", figsize = (16, 3))\n",
    "fig.suptitle('Plots of Accuracy (Top) and Loss (Bottom)')\n",
    "for i in range(len(histories)):\n",
    "    ax[0, i].plot(histories[i][0].history['accuracy']);\n",
    "    ax[0, i].plot(histories[i][0].history['val_accuracy']);\n",
    "    #ax[0, i].set_title('model accuracy')\n",
    "    #ax[0, i].set_ylabel('accuracy')\n",
    "    #ax[0, i].set_xlabel('epoch')\n",
    "    #ax[0, i].legend(['train', 'val'], loc='upper left')\n",
    "    ax[0, i].set_xticks([0, 20, 30])\n",
    "    \n",
    "    ax[1, i].plot(histories[i][0].history['loss']);\n",
    "    ax[1, i].plot(histories[i][0].history['val_loss']);\n",
    "    #ax[1, i].set_title('model loss')\n",
    "    #ax[1, i].set_ylabel('loss')\n",
    "    #ax[1, i].set_xlabel('epoch')\n",
    "    #ax[1, i].legend(['train', 'val'], loc='upper left')\n",
    "    ax[1, i].set_xticks([0, 20, 30])\n",
    "\n",
    "ax[0, 0].legend(['train', 'val'], loc='lower right')\n",
    "ax[1, 0].legend(['train', 'val'], loc='upper right');"
   ]
  },
  {
   "cell_type": "markdown",
   "id": "55c4d6f7",
   "metadata": {},
   "source": [
    "Description of plots:  \n",
    "Above, for each fold of cross validation done, we tracked the change in training and validation performance in terms of loss and accuracy."
   ]
  },
  {
   "cell_type": "code",
   "execution_count": 159,
   "id": "85b67544",
   "metadata": {},
   "outputs": [
    {
     "data": {
      "text/plain": [
       "[0.23875004053115845,\n",
       " 0.23589079082012177,\n",
       " 0.23545140027999878,\n",
       " 0.23235394060611725,\n",
       " 0.22830164432525635,\n",
       " 0.22701595723628998,\n",
       " 0.2233523726463318,\n",
       " 0.22354789078235626,\n",
       " 0.22284388542175293,\n",
       " 0.21809539198875427]"
      ]
     },
     "execution_count": 159,
     "metadata": {},
     "output_type": "execute_result"
    }
   ],
   "source": [
    "histories[2][0].history['val_loss'][-10:] # shows for the 2nd fold, the last 10 epochs reduced loss by 0.02"
   ]
  },
  {
   "cell_type": "code",
   "execution_count": 160,
   "id": "b743c446",
   "metadata": {},
   "outputs": [
    {
     "data": {
      "text/plain": [
       "[0.3853640556335449,\n",
       " 0.38401493430137634,\n",
       " 0.3953365981578827,\n",
       " 0.3956083059310913,\n",
       " 0.4009736478328705,\n",
       " 0.3980956971645355,\n",
       " 0.39409562945365906,\n",
       " 0.3917739987373352,\n",
       " 0.3987235426902771,\n",
       " 0.3995704650878906]"
      ]
     },
     "execution_count": 160,
     "metadata": {},
     "output_type": "execute_result"
    }
   ],
   "source": [
    "histories[6][0].history['val_loss'][-10:] # shows for the 2nd fold, the last 10 epochs has fluctuating loss"
   ]
  },
  {
   "cell_type": "code",
   "execution_count": 163,
   "id": "b0e1006d",
   "metadata": {
    "scrolled": true
   },
   "outputs": [
    {
     "data": {
      "text/plain": [
       "[0.38229936361312866,\n",
       " 0.3773035407066345,\n",
       " 0.3905906081199646,\n",
       " 0.3884590268135071,\n",
       " 0.3807923197746277,\n",
       " 0.38215553760528564,\n",
       " 0.38302162289619446,\n",
       " 0.3811528980731964,\n",
       " 0.3912888169288635,\n",
       " 0.38832369446754456]"
      ]
     },
     "execution_count": 163,
     "metadata": {},
     "output_type": "execute_result"
    }
   ],
   "source": [
    "histories[6][0].history['val_loss'][10:20] # shows for the 2nd fold, the last 10 epochs has fluctuating loss"
   ]
  },
  {
   "cell_type": "code",
   "execution_count": 165,
   "id": "2dece3a9",
   "metadata": {},
   "outputs": [
    {
     "data": {
      "text/plain": [
       "[0.3830139935016632,\n",
       " 0.3856078088283539,\n",
       " 0.38776108622550964,\n",
       " 0.38229936361312866,\n",
       " 0.3773035407066345,\n",
       " 0.3905906081199646,\n",
       " 0.3884590268135071,\n",
       " 0.3807923197746277]"
      ]
     },
     "execution_count": 165,
     "metadata": {},
     "output_type": "execute_result"
    }
   ],
   "source": [
    "histories[6][0].history['val_loss'][7:15] # shows for the 2nd fold, the last 10 epochs has fluctuating loss"
   ]
  },
  {
   "cell_type": "code",
   "execution_count": 166,
   "id": "64dbb64d",
   "metadata": {},
   "outputs": [
    {
     "data": {
      "text/plain": [
       "[0.4556325376033783,\n",
       " 0.41757625341415405,\n",
       " 0.4009217321872711,\n",
       " 0.3925963044166565,\n",
       " 0.3869978189468384,\n",
       " 0.385621577501297,\n",
       " 0.3844470977783203,\n",
       " 0.3830139935016632,\n",
       " 0.3856078088283539,\n",
       " 0.38776108622550964]"
      ]
     },
     "execution_count": 166,
     "metadata": {},
     "output_type": "execute_result"
    }
   ],
   "source": [
    "histories[6][0].history['val_loss'][0:10] # shows for the 2nd fold, the last 10 epochs has fluctuating loss"
   ]
  },
  {
   "cell_type": "code",
   "execution_count": 169,
   "id": "adfe7b76",
   "metadata": {},
   "outputs": [
    {
     "data": {
      "text/plain": [
       "[0.3853640556335449,\n",
       " 0.38401493430137634,\n",
       " 0.3953365981578827,\n",
       " 0.3956083059310913,\n",
       " 0.4009736478328705,\n",
       " 0.3980956971645355,\n",
       " 0.39409562945365906,\n",
       " 0.3917739987373352,\n",
       " 0.3987235426902771,\n",
       " 0.3995704650878906]"
      ]
     },
     "execution_count": 169,
     "metadata": {},
     "output_type": "execute_result"
    }
   ],
   "source": [
    "histories[6][0].history['val_loss'][-10:] # shows for the 2nd fold, the last 10 epochs has fluctuating loss"
   ]
  },
  {
   "cell_type": "markdown",
   "id": "142f4fcd",
   "metadata": {},
   "source": [
    "Conclusion: Training for 10 more epochs added a 1% improvement to cross-validated performance.  \n",
    "Taking a closer look, we are still overfitting at 20 epochs for one particular fold 6. It may be the exception.  \n",
    "Looking at another fold 7, we are overfitting within the first 15 folds. For that same fold, 8 epochs is the limit before loss increases.  \n",
    "I look at another fold 0, the last 10 folds have overfitted, the loss has 0.01 fluctuations.  \n",
    "We should run a few more models, each with different total number of epochs, and choose from there."
   ]
  },
  {
   "cell_type": "markdown",
   "id": "ccc9cb20",
   "metadata": {},
   "source": [
    "*Round 3: Evaluating cross-validated accuracy for epochs 10, 15, 20*"
   ]
  },
  {
   "cell_type": "code",
   "execution_count": 170,
   "id": "7d1f2aee",
   "metadata": {},
   "outputs": [
    {
     "name": "stdout",
     "output_type": "stream",
     "text": [
      "model fitted for one fold!\n",
      "model fitted for one fold!\n",
      "model fitted for one fold!\n",
      "model fitted for one fold!\n",
      "model fitted for one fold!\n",
      "model fitted for one fold!\n",
      "model fitted for one fold!\n",
      "model fitted for one fold!\n",
      "model fitted for one fold!\n",
      "model fitted for one fold!\n",
      "run has completed!\n"
     ]
    }
   ],
   "source": [
    "training_accuracies = []\n",
    "fitted_data_accuracies = []\n",
    "\n",
    "histories = {ele:[] for ele in range(k)}\n",
    "\n",
    "for i, (train_idx, vali_idx) in enumerate(kf.split(trng_x)): ## perform k-fold cross validation\n",
    "\n",
    "    # get current training and validation folds\n",
    "    trainfold_x = trng_x.loc[train_idx] ## k-1 folds\n",
    "    valifold_x = trng_x.loc[vali_idx]\n",
    "\n",
    "    trainfold_y = trng_y.loc[train_idx] # 1 fold\n",
    "    valifold_y = trng_y.loc[vali_idx]\n",
    "\n",
    "    # set up model\n",
    "    model = Sequential()\n",
    "    model.add(Dense(14, input_shape=(15,), activation='relu')) # using the best # nodes = 14\n",
    "    model.add(Dense(14, activation = 'relu'))\n",
    "    model.add(Dense(1, activation='sigmoid'))\n",
    "\n",
    "    # compile model\n",
    "    model.compile(loss='binary_crossentropy', optimizer='adam', metrics=['accuracy'])\n",
    "\n",
    "    # fit model\n",
    "    history = model.fit(trainfold_x, trainfold_y, epochs = 20, batch_size = 32, \n",
    "             validation_data = (valifold_x, valifold_y), verbose = 0)\n",
    "    \n",
    "    histories[i].append(history)\n",
    "    \n",
    "    print(f\"model fitted for one fold!\")\n",
    "    \n",
    "#     # NEW! get model's accuracy on the data it was fitted on (on k-1 folds)\n",
    "#     predictions = model.predict(trainfold_x, verbose = 0)\n",
    "#     class_predictions = [(ele[0] > 0.5).astype(int) for ele in predictions]\n",
    "#     table = pd.DataFrame({'actual':trainfold_y, 'pred':class_predictions})\n",
    "#     cfm = pd.crosstab(table['actual'], table['pred'], rownames=['actual'], colnames=['pred'])\n",
    "\n",
    "#     fd_accuracy = (cfm[0][0] + cfm[1][1]) / len(trainfold_y)\n",
    "#     fitted_data_accuracies.append(fd_accuracy)\n",
    "\n",
    "    # get model's cross-validated accuracy\n",
    "    predictions = model.predict(valifold_x, verbose = 0)\n",
    "    class_predictions = [(ele[0] > 0.5).astype(int) for ele in predictions]\n",
    "    table = pd.DataFrame({'actual':valifold_y, 'pred':class_predictions})\n",
    "    cfm = pd.crosstab(table['actual'], table['pred'], rownames=['actual'], colnames=['pred'])\n",
    "\n",
    "    accuracy = (cfm[0][0] + cfm[1][1]) / len(valifold_y)\n",
    "    training_accuracies.append(accuracy)\n",
    "        \n",
    "print(\"run has completed!\")"
   ]
  },
  {
   "cell_type": "code",
   "execution_count": 171,
   "id": "3219e303",
   "metadata": {},
   "outputs": [
    {
     "name": "stdout",
     "output_type": "stream",
     "text": [
      "0.907730\n"
     ]
    }
   ],
   "source": [
    "print(f\"{sum(training_accuracies)/len(training_accuracies):.6f}\")"
   ]
  },
  {
   "cell_type": "code",
   "execution_count": 172,
   "id": "597c160f",
   "metadata": {},
   "outputs": [
    {
     "name": "stdout",
     "output_type": "stream",
     "text": [
      "model fitted for one fold!\n",
      "model fitted for one fold!\n",
      "model fitted for one fold!\n",
      "model fitted for one fold!\n",
      "model fitted for one fold!\n",
      "model fitted for one fold!\n",
      "model fitted for one fold!\n",
      "model fitted for one fold!\n",
      "model fitted for one fold!\n",
      "model fitted for one fold!\n",
      "run has completed!\n"
     ]
    }
   ],
   "source": [
    "training_accuracies = []\n",
    "fitted_data_accuracies = []\n",
    "\n",
    "histories = {ele:[] for ele in range(k)}\n",
    "\n",
    "for i, (train_idx, vali_idx) in enumerate(kf.split(trng_x)): ## perform k-fold cross validation\n",
    "\n",
    "    # get current training and validation folds\n",
    "    trainfold_x = trng_x.loc[train_idx] ## k-1 folds\n",
    "    valifold_x = trng_x.loc[vali_idx]\n",
    "\n",
    "    trainfold_y = trng_y.loc[train_idx] # 1 fold\n",
    "    valifold_y = trng_y.loc[vali_idx]\n",
    "\n",
    "    # set up model\n",
    "    model = Sequential()\n",
    "    model.add(Dense(14, input_shape=(15,), activation='relu')) # using the best # nodes = 14\n",
    "    model.add(Dense(14, activation = 'relu'))\n",
    "    model.add(Dense(1, activation='sigmoid'))\n",
    "\n",
    "    # compile model\n",
    "    model.compile(loss='binary_crossentropy', optimizer='adam', metrics=['accuracy'])\n",
    "\n",
    "    # fit model\n",
    "    history = model.fit(trainfold_x, trainfold_y, epochs = 15, batch_size = 32, \n",
    "             validation_data = (valifold_x, valifold_y), verbose = 0)\n",
    "    \n",
    "    histories[i].append(history)\n",
    "    \n",
    "    print(f\"model fitted for one fold!\")\n",
    "    \n",
    "#     # NEW! get model's accuracy on the data it was fitted on (on k-1 folds)\n",
    "#     predictions = model.predict(trainfold_x, verbose = 0)\n",
    "#     class_predictions = [(ele[0] > 0.5).astype(int) for ele in predictions]\n",
    "#     table = pd.DataFrame({'actual':trainfold_y, 'pred':class_predictions})\n",
    "#     cfm = pd.crosstab(table['actual'], table['pred'], rownames=['actual'], colnames=['pred'])\n",
    "\n",
    "#     fd_accuracy = (cfm[0][0] + cfm[1][1]) / len(trainfold_y)\n",
    "#     fitted_data_accuracies.append(fd_accuracy)\n",
    "\n",
    "    # get model's cross-validated accuracy\n",
    "    predictions = model.predict(valifold_x, verbose = 0)\n",
    "    class_predictions = [(ele[0] > 0.5).astype(int) for ele in predictions]\n",
    "    table = pd.DataFrame({'actual':valifold_y, 'pred':class_predictions})\n",
    "    cfm = pd.crosstab(table['actual'], table['pred'], rownames=['actual'], colnames=['pred'])\n",
    "\n",
    "    accuracy = (cfm[0][0] + cfm[1][1]) / len(valifold_y)\n",
    "    training_accuracies.append(accuracy)\n",
    "        \n",
    "print(\"run has completed!\")"
   ]
  },
  {
   "cell_type": "code",
   "execution_count": 173,
   "id": "5c2325bf",
   "metadata": {},
   "outputs": [
    {
     "name": "stdout",
     "output_type": "stream",
     "text": [
      "0.899970\n"
     ]
    }
   ],
   "source": [
    "print(f\"{sum(training_accuracies)/len(training_accuracies):.6f}\")"
   ]
  },
  {
   "cell_type": "code",
   "execution_count": 175,
   "id": "632d91d8",
   "metadata": {},
   "outputs": [
    {
     "name": "stdout",
     "output_type": "stream",
     "text": [
      "model fitted for one fold!\n",
      "model fitted for one fold!\n",
      "model fitted for one fold!\n",
      "model fitted for one fold!\n",
      "model fitted for one fold!\n",
      "model fitted for one fold!\n",
      "model fitted for one fold!\n",
      "model fitted for one fold!\n",
      "model fitted for one fold!\n",
      "model fitted for one fold!\n",
      "run has completed!\n"
     ]
    }
   ],
   "source": [
    "training_accuracies = []\n",
    "fitted_data_accuracies = []\n",
    "\n",
    "histories = {ele:[] for ele in range(k)}\n",
    "\n",
    "for i, (train_idx, vali_idx) in enumerate(kf.split(trng_x)): ## perform k-fold cross validation\n",
    "\n",
    "    # get current training and validation folds\n",
    "    trainfold_x = trng_x.loc[train_idx] ## k-1 folds\n",
    "    valifold_x = trng_x.loc[vali_idx]\n",
    "\n",
    "    trainfold_y = trng_y.loc[train_idx] # 1 fold\n",
    "    valifold_y = trng_y.loc[vali_idx]\n",
    "\n",
    "    # set up model\n",
    "    model = Sequential()\n",
    "    model.add(Dense(14, input_shape=(15,), activation='relu')) # using the best # nodes = 14\n",
    "    model.add(Dense(14, activation = 'relu'))\n",
    "    model.add(Dense(1, activation='sigmoid'))\n",
    "\n",
    "    # compile model\n",
    "    model.compile(loss='binary_crossentropy', optimizer='adam', metrics=['accuracy'])\n",
    "\n",
    "    # fit model\n",
    "    history = model.fit(trainfold_x, trainfold_y, epochs = 10, batch_size = 32, \n",
    "             validation_data = (valifold_x, valifold_y), verbose = 0)\n",
    "    \n",
    "    histories[i].append(history)\n",
    "    \n",
    "    print(f\"model fitted for one fold!\")\n",
    "    \n",
    "#     # NEW! get model's accuracy on the data it was fitted on (on k-1 folds)\n",
    "#     predictions = model.predict(trainfold_x, verbose = 0)\n",
    "#     class_predictions = [(ele[0] > 0.5).astype(int) for ele in predictions]\n",
    "#     table = pd.DataFrame({'actual':trainfold_y, 'pred':class_predictions})\n",
    "#     cfm = pd.crosstab(table['actual'], table['pred'], rownames=['actual'], colnames=['pred'])\n",
    "\n",
    "#     fd_accuracy = (cfm[0][0] + cfm[1][1]) / len(trainfold_y)\n",
    "#     fitted_data_accuracies.append(fd_accuracy)\n",
    "\n",
    "    # get model's cross-validated accuracy\n",
    "    predictions = model.predict(valifold_x, verbose = 0)\n",
    "    class_predictions = [(ele[0] > 0.5).astype(int) for ele in predictions]\n",
    "    table = pd.DataFrame({'actual':valifold_y, 'pred':class_predictions})\n",
    "    cfm = pd.crosstab(table['actual'], table['pred'], rownames=['actual'], colnames=['pred'])\n",
    "\n",
    "    accuracy = (cfm[0][0] + cfm[1][1]) / len(valifold_y)\n",
    "    training_accuracies.append(accuracy)\n",
    "        \n",
    "print(\"run has completed!\")"
   ]
  },
  {
   "cell_type": "code",
   "execution_count": 176,
   "id": "c4b3ef9e",
   "metadata": {},
   "outputs": [
    {
     "name": "stdout",
     "output_type": "stream",
     "text": [
      "0.889668\n"
     ]
    }
   ],
   "source": [
    "print(f\"{sum(training_accuracies)/len(training_accuracies):.6f}\")"
   ]
  },
  {
   "cell_type": "code",
   "execution_count": 177,
   "id": "2a967a58",
   "metadata": {},
   "outputs": [
    {
     "name": "stdout",
     "output_type": "stream",
     "text": [
      "model fitted for one fold!\n",
      "model fitted for one fold!\n",
      "model fitted for one fold!\n",
      "model fitted for one fold!\n",
      "model fitted for one fold!\n",
      "model fitted for one fold!\n",
      "model fitted for one fold!\n",
      "model fitted for one fold!\n",
      "model fitted for one fold!\n",
      "model fitted for one fold!\n",
      "run has completed!\n"
     ]
    }
   ],
   "source": [
    "training_accuracies = []\n",
    "fitted_data_accuracies = []\n",
    "\n",
    "histories = {ele:[] for ele in range(k)}\n",
    "\n",
    "for i, (train_idx, vali_idx) in enumerate(kf.split(trng_x)): ## perform k-fold cross validation\n",
    "\n",
    "    # get current training and validation folds\n",
    "    trainfold_x = trng_x.loc[train_idx] ## k-1 folds\n",
    "    valifold_x = trng_x.loc[vali_idx]\n",
    "\n",
    "    trainfold_y = trng_y.loc[train_idx] # 1 fold\n",
    "    valifold_y = trng_y.loc[vali_idx]\n",
    "\n",
    "    # set up model\n",
    "    model = Sequential()\n",
    "    model.add(Dense(14, input_shape=(15,), activation='relu')) # using the best # nodes = 14\n",
    "    model.add(Dense(14, activation = 'relu'))\n",
    "    model.add(Dense(1, activation='sigmoid'))\n",
    "\n",
    "    # compile model\n",
    "    model.compile(loss='binary_crossentropy', optimizer='adam', metrics=['accuracy'])\n",
    "\n",
    "    # fit model\n",
    "    history = model.fit(trainfold_x, trainfold_y, epochs = 25, batch_size = 32, \n",
    "             validation_data = (valifold_x, valifold_y), verbose = 0)\n",
    "    \n",
    "    histories[i].append(history)\n",
    "    \n",
    "    print(f\"model fitted for one fold!\")\n",
    "    \n",
    "#     # NEW! get model's accuracy on the data it was fitted on (on k-1 folds)\n",
    "#     predictions = model.predict(trainfold_x, verbose = 0)\n",
    "#     class_predictions = [(ele[0] > 0.5).astype(int) for ele in predictions]\n",
    "#     table = pd.DataFrame({'actual':trainfold_y, 'pred':class_predictions})\n",
    "#     cfm = pd.crosstab(table['actual'], table['pred'], rownames=['actual'], colnames=['pred'])\n",
    "\n",
    "#     fd_accuracy = (cfm[0][0] + cfm[1][1]) / len(trainfold_y)\n",
    "#     fitted_data_accuracies.append(fd_accuracy)\n",
    "\n",
    "    # get model's cross-validated accuracy\n",
    "    predictions = model.predict(valifold_x, verbose = 0)\n",
    "    class_predictions = [(ele[0] > 0.5).astype(int) for ele in predictions]\n",
    "    table = pd.DataFrame({'actual':valifold_y, 'pred':class_predictions})\n",
    "    cfm = pd.crosstab(table['actual'], table['pred'], rownames=['actual'], colnames=['pred'])\n",
    "\n",
    "    accuracy = (cfm[0][0] + cfm[1][1]) / len(valifold_y)\n",
    "    training_accuracies.append(accuracy)\n",
    "        \n",
    "print(\"run has completed!\")"
   ]
  },
  {
   "cell_type": "code",
   "execution_count": 178,
   "id": "2f2a0349",
   "metadata": {},
   "outputs": [
    {
     "name": "stdout",
     "output_type": "stream",
     "text": [
      "0.921020\n"
     ]
    }
   ],
   "source": [
    "print(f\"{sum(training_accuracies)/len(training_accuracies):.6f}\")"
   ]
  },
  {
   "cell_type": "code",
   "execution_count": 179,
   "id": "2f7d54a6",
   "metadata": {},
   "outputs": [
    {
     "name": "stdout",
     "output_type": "stream",
     "text": [
      "model fitted for one fold!\n",
      "model fitted for one fold!\n",
      "model fitted for one fold!\n",
      "model fitted for one fold!\n",
      "model fitted for one fold!\n",
      "model fitted for one fold!\n",
      "model fitted for one fold!\n",
      "model fitted for one fold!\n",
      "model fitted for one fold!\n",
      "model fitted for one fold!\n",
      "run has completed!\n"
     ]
    }
   ],
   "source": [
    "training_accuracies = []\n",
    "fitted_data_accuracies = []\n",
    "\n",
    "histories = {ele:[] for ele in range(k)}\n",
    "\n",
    "for i, (train_idx, vali_idx) in enumerate(kf.split(trng_x)): ## perform k-fold cross validation\n",
    "\n",
    "    # get current training and validation folds\n",
    "    trainfold_x = trng_x.loc[train_idx] ## k-1 folds\n",
    "    valifold_x = trng_x.loc[vali_idx]\n",
    "\n",
    "    trainfold_y = trng_y.loc[train_idx] # 1 fold\n",
    "    valifold_y = trng_y.loc[vali_idx]\n",
    "\n",
    "    # set up model\n",
    "    model = Sequential()\n",
    "    model.add(Dense(14, input_shape=(15,), activation='relu')) # using the best # nodes = 14\n",
    "    model.add(Dense(14, activation = 'relu'))\n",
    "    model.add(Dense(1, activation='sigmoid'))\n",
    "\n",
    "    # compile model\n",
    "    model.compile(loss='binary_crossentropy', optimizer='adam', metrics=['accuracy'])\n",
    "\n",
    "    # fit model\n",
    "    history = model.fit(trainfold_x, trainfold_y, epochs = 30, batch_size = 32, \n",
    "             validation_data = (valifold_x, valifold_y), verbose = 0)\n",
    "    \n",
    "    histories[i].append(history)\n",
    "    \n",
    "    print(f\"model fitted for one fold!\")\n",
    "    \n",
    "#     # NEW! get model's accuracy on the data it was fitted on (on k-1 folds)\n",
    "#     predictions = model.predict(trainfold_x, verbose = 0)\n",
    "#     class_predictions = [(ele[0] > 0.5).astype(int) for ele in predictions]\n",
    "#     table = pd.DataFrame({'actual':trainfold_y, 'pred':class_predictions})\n",
    "#     cfm = pd.crosstab(table['actual'], table['pred'], rownames=['actual'], colnames=['pred'])\n",
    "\n",
    "#     fd_accuracy = (cfm[0][0] + cfm[1][1]) / len(trainfold_y)\n",
    "#     fitted_data_accuracies.append(fd_accuracy)\n",
    "\n",
    "    # get model's cross-validated accuracy\n",
    "    predictions = model.predict(valifold_x, verbose = 0)\n",
    "    class_predictions = [(ele[0] > 0.5).astype(int) for ele in predictions]\n",
    "    table = pd.DataFrame({'actual':valifold_y, 'pred':class_predictions})\n",
    "    cfm = pd.crosstab(table['actual'], table['pred'], rownames=['actual'], colnames=['pred'])\n",
    "\n",
    "    accuracy = (cfm[0][0] + cfm[1][1]) / len(valifold_y)\n",
    "    training_accuracies.append(accuracy)\n",
    "        \n",
    "print(\"run has completed!\")"
   ]
  },
  {
   "cell_type": "code",
   "execution_count": 180,
   "id": "5cab14d1",
   "metadata": {},
   "outputs": [
    {
     "name": "stdout",
     "output_type": "stream",
     "text": [
      "0.921170\n"
     ]
    }
   ],
   "source": [
    "print(f\"{sum(training_accuracies)/len(training_accuracies):.6f}\")"
   ]
  },
  {
   "cell_type": "code",
   "execution_count": 181,
   "id": "78628c2c",
   "metadata": {},
   "outputs": [
    {
     "data": {
      "text/plain": [
       "0.007759999999999989"
      ]
     },
     "execution_count": 181,
     "metadata": {},
     "output_type": "execute_result"
    }
   ],
   "source": [
    "0.907730 - 0.899970"
   ]
  },
  {
   "cell_type": "markdown",
   "id": "de0f493f",
   "metadata": {},
   "source": [
    "Conclusion:  \n",
    "for 20 epochs, 0.907730. \n",
    "for 15 epochs, 0.899970. \n",
    "for 10 epochs, 0.889668. We continue with 25 epochs.  \n",
    "for 25 epochs, 0.921020.\n",
    "for 30 epochs, 0.921170.  \n",
    "The observation is that 15 to 20 epochs only had a marginal 0.007 improvement. 25 to 30 epochs does not seem justified with 0.0001 improvement.\n",
    "\n",
    "for 20 epochs, 0.907730. \n",
    "for 15 epochs, 0.899970. \n",
    "for 25 epochs, 0.921020.\n",
    "for 10 epochs, 0.889668.\n",
    "\n",
    "10 to 20 epochs is 0.01 improvement. Let's keep at 20 epochs and look at the trajectories again."
   ]
  },
  {
   "cell_type": "markdown",
   "id": "1d7ea592",
   "metadata": {},
   "source": [
    "*Round 4 on the number of epochs*"
   ]
  },
  {
   "cell_type": "code",
   "execution_count": 182,
   "id": "769a21df",
   "metadata": {},
   "outputs": [
    {
     "name": "stdout",
     "output_type": "stream",
     "text": [
      "model fitted for one fold!\n",
      "model fitted for one fold!\n",
      "model fitted for one fold!\n",
      "model fitted for one fold!\n",
      "model fitted for one fold!\n",
      "model fitted for one fold!\n",
      "model fitted for one fold!\n",
      "model fitted for one fold!\n",
      "model fitted for one fold!\n",
      "model fitted for one fold!\n",
      "run has completed!\n"
     ]
    }
   ],
   "source": [
    "training_accuracies = []\n",
    "fitted_data_accuracies = []\n",
    "\n",
    "histories = {ele:[] for ele in range(k)}\n",
    "\n",
    "for i, (train_idx, vali_idx) in enumerate(kf.split(trng_x)): ## perform k-fold cross validation\n",
    "\n",
    "    # get current training and validation folds\n",
    "    trainfold_x = trng_x.loc[train_idx] ## k-1 folds\n",
    "    valifold_x = trng_x.loc[vali_idx]\n",
    "\n",
    "    trainfold_y = trng_y.loc[train_idx] # 1 fold\n",
    "    valifold_y = trng_y.loc[vali_idx]\n",
    "\n",
    "    # set up model\n",
    "    model = Sequential()\n",
    "    model.add(Dense(14, input_shape=(15,), activation='relu')) # using the best # nodes = 14\n",
    "    model.add(Dense(14, activation = 'relu'))\n",
    "    model.add(Dense(1, activation='sigmoid'))\n",
    "\n",
    "    # compile model\n",
    "    model.compile(loss='binary_crossentropy', optimizer='adam', metrics=['accuracy'])\n",
    "\n",
    "    # fit model\n",
    "    history = model.fit(trainfold_x, trainfold_y, epochs = 20, batch_size = 32, \n",
    "             validation_data = (valifold_x, valifold_y), verbose = 0)\n",
    "    \n",
    "    histories[i].append(history)\n",
    "    \n",
    "    print(f\"model fitted for one fold!\")\n",
    "    \n",
    "#     # NEW! get model's accuracy on the data it was fitted on (on k-1 folds)\n",
    "#     predictions = model.predict(trainfold_x, verbose = 0)\n",
    "#     class_predictions = [(ele[0] > 0.5).astype(int) for ele in predictions]\n",
    "#     table = pd.DataFrame({'actual':trainfold_y, 'pred':class_predictions})\n",
    "#     cfm = pd.crosstab(table['actual'], table['pred'], rownames=['actual'], colnames=['pred'])\n",
    "\n",
    "#     fd_accuracy = (cfm[0][0] + cfm[1][1]) / len(trainfold_y)\n",
    "#     fitted_data_accuracies.append(fd_accuracy)\n",
    "\n",
    "    # get model's cross-validated accuracy\n",
    "    predictions = model.predict(valifold_x, verbose = 0)\n",
    "    class_predictions = [(ele[0] > 0.5).astype(int) for ele in predictions]\n",
    "    table = pd.DataFrame({'actual':valifold_y, 'pred':class_predictions})\n",
    "    cfm = pd.crosstab(table['actual'], table['pred'], rownames=['actual'], colnames=['pred'])\n",
    "\n",
    "    accuracy = (cfm[0][0] + cfm[1][1]) / len(valifold_y)\n",
    "    training_accuracies.append(accuracy)\n",
    "        \n",
    "print(\"run has completed!\")"
   ]
  },
  {
   "cell_type": "code",
   "execution_count": 183,
   "id": "06c37269",
   "metadata": {
    "scrolled": false
   },
   "outputs": [
    {
     "name": "stdout",
     "output_type": "stream",
     "text": [
      "0.911166\n"
     ]
    }
   ],
   "source": [
    "print(f\"{sum(training_accuracies)/len(training_accuracies):.6f}\")"
   ]
  },
  {
   "cell_type": "code",
   "execution_count": 186,
   "id": "43567fa8",
   "metadata": {},
   "outputs": [
    {
     "data": {
      "text/plain": [
       "0.24771705269813538"
      ]
     },
     "execution_count": 186,
     "metadata": {},
     "output_type": "execute_result"
    }
   ],
   "source": [
    "min(histories[4][0].history['val_loss'])"
   ]
  },
  {
   "cell_type": "code",
   "execution_count": 187,
   "id": "06d78f97",
   "metadata": {},
   "outputs": [
    {
     "data": {
      "text/plain": [
       "19"
      ]
     },
     "execution_count": 187,
     "metadata": {},
     "output_type": "execute_result"
    }
   ],
   "source": [
    "histories[4][0].history['val_loss'].index(min(histories[4][0].history['val_loss']))"
   ]
  },
  {
   "cell_type": "code",
   "execution_count": 188,
   "id": "ebb1a98c",
   "metadata": {},
   "outputs": [
    {
     "data": {
      "text/plain": [
       "0.24771705269813538"
      ]
     },
     "execution_count": 188,
     "metadata": {},
     "output_type": "execute_result"
    }
   ],
   "source": [
    "histories[4][0].history['val_loss'][19]"
   ]
  },
  {
   "cell_type": "code",
   "execution_count": 193,
   "id": "77f0c74f",
   "metadata": {},
   "outputs": [
    {
     "data": {
      "image/png": "[encoded data removed]",
      "text/plain": [
       "<Figure size 1600x300 with 20 Axes>"
      ]
     },
     "metadata": {},
     "output_type": "display_data"
    }
   ],
   "source": [
    "# Plot for all folds\n",
    "fig, ax = plt.subplots(2, 10, layout=\"constrained\", figsize = (16, 3))\n",
    "fig.suptitle('Plots of Accuracy (Top) and Loss (Bottom)')\n",
    "for i in range(len(histories)):\n",
    "    ax[0, i].plot(histories[i][0].history['accuracy']);\n",
    "    ax[0, i].plot(histories[i][0].history['val_accuracy']);\n",
    "    #ax[0, i].set_title('model accuracy')\n",
    "    #ax[0, i].set_ylabel('accuracy')\n",
    "    #ax[0, i].set_xlabel('epoch')\n",
    "    #ax[0, i].legend(['train', 'val'], loc='upper left')\n",
    "    ax[0, i].set_xticks([0, 20])\n",
    "    \n",
    "    ax[1, i].plot(histories[i][0].history['loss']);\n",
    "    ax[1, i].plot(histories[i][0].history['val_loss']);\n",
    "    #ax[1, i].set_title('model loss')\n",
    "    #ax[1, i].set_ylabel('loss')\n",
    "    #ax[1, i].set_xlabel('epoch')\n",
    "    #ax[1, i].legend(['train', 'val'], loc='upper left')\n",
    "    ax[1, i].set_xticks([0, 20])\n",
    "    \n",
    "    the_min = min(histories[i][0].history['val_loss'])\n",
    "    min_loc = histories[i][0].history['val_loss'].index(the_min)\n",
    "    ax[1, i].plot([min_loc], [the_min], \"r+\")\n",
    "\n",
    "ax[0, 0].legend(['train', 'val'], loc='lower right')\n",
    "ax[1, 0].legend(['train', 'val'], loc='upper right');"
   ]
  },
  {
   "cell_type": "markdown",
   "id": "6322acce",
   "metadata": {},
   "source": [
    "Description of plots:  \n",
    "Above, for each fold of cross validation done, we tracked the change in training and validation performance in terms of loss and accuracy."
   ]
  },
  {
   "cell_type": "markdown",
   "id": "c459ecc5",
   "metadata": {},
   "source": [
    "Conclusion: 20 epochs - 0.911166. Based on the plots, besides for one fold, 20 epochs is okay.  \n",
    "Continue ahead with 20 epochs. "
   ]
  },
  {
   "cell_type": "markdown",
   "id": "9031ceaf",
   "metadata": {},
   "source": [
    "**final network configuration**  \n",
    "hidden 1 nodes: 4   \n",
    "hidden 2 nodes: nil  \n",
    "dropout btw input n hl1: nil  \n",
    "batch size: 64  \n",
    "epochs: 20  "
   ]
  },
  {
   "cell_type": "markdown",
   "id": "29efebbb",
   "metadata": {},
   "source": [
    "*fit on whole training set, evaluate model on validation set (before threshold tuning)*"
   ]
  },
  {
   "cell_type": "code",
   "execution_count": 101,
   "id": "b4f7baaa",
   "metadata": {},
   "outputs": [
    {
     "name": "stdout",
     "output_type": "stream",
     "text": [
      "model has been fitted\n"
     ]
    }
   ],
   "source": [
    "model_two = Sequential()\n",
    "model_two.add(Dense(4, input_shape=(15,), activation='relu'))\n",
    "model_two.add(Dense(1, activation='sigmoid'))\n",
    "\n",
    "model_two.compile(loss='binary_crossentropy', \n",
    "              optimizer='adam', \n",
    "              metrics=[])\n",
    "\n",
    "model_two.fit(trng_x, trng_y, epochs=20, batch_size=64, verbose = 0);\n",
    "print(\"model has been fitted\")"
   ]
  },
  {
   "cell_type": "code",
   "execution_count": 102,
   "id": "723ea94e",
   "metadata": {},
   "outputs": [
    {
     "name": "stdout",
     "output_type": "stream",
     "text": [
      "22/22 [==============================] - 0s 2ms/step\n"
     ]
    }
   ],
   "source": [
    "predictions_two = model_two.predict(vali_x)"
   ]
  },
  {
   "cell_type": "code",
   "execution_count": 103,
   "id": "cdd79eea",
   "metadata": {},
   "outputs": [],
   "source": [
    "class_predictions_two_ptone = [(ele[0] > 0.5).astype(int) for ele in predictions_two]\n",
    "table_two_ptone = pd.DataFrame({'actual':vali_y, 'pred':class_predictions_two_ptone})\n",
    "cfm_two_ptone = pd.crosstab(table_two_ptone['actual'], table_two_ptone['pred'], \n",
    "                            rownames=['actual'], colnames=['pred'])"
   ]
  },
  {
   "cell_type": "code",
   "execution_count": 104,
   "id": "a9917e3e",
   "metadata": {},
   "outputs": [
    {
     "data": {
      "text/html": [
       "<div>\n",
       "<style scoped>\n",
       "    .dataframe tbody tr th:only-of-type {\n",
       "        vertical-align: middle;\n",
       "    }\n",
       "\n",
       "    .dataframe tbody tr th {\n",
       "        vertical-align: top;\n",
       "    }\n",
       "\n",
       "    .dataframe thead th {\n",
       "        text-align: right;\n",
       "    }\n",
       "</style>\n",
       "<table border=\"1\" class=\"dataframe\">\n",
       "  <thead>\n",
       "    <tr style=\"text-align: right;\">\n",
       "      <th>pred</th>\n",
       "      <th>0</th>\n",
       "      <th>1</th>\n",
       "    </tr>\n",
       "    <tr>\n",
       "      <th>actual</th>\n",
       "      <th></th>\n",
       "      <th></th>\n",
       "    </tr>\n",
       "  </thead>\n",
       "  <tbody>\n",
       "    <tr>\n",
       "      <th>0</th>\n",
       "      <td>432</td>\n",
       "      <td>220</td>\n",
       "    </tr>\n",
       "    <tr>\n",
       "      <th>1</th>\n",
       "      <td>1</td>\n",
       "      <td>20</td>\n",
       "    </tr>\n",
       "  </tbody>\n",
       "</table>\n",
       "</div>"
      ],
      "text/plain": [
       "pred      0    1\n",
       "actual          \n",
       "0       432  220\n",
       "1         1   20"
      ]
     },
     "execution_count": 104,
     "metadata": {},
     "output_type": "execute_result"
    }
   ],
   "source": [
    "cfm_two_ptone"
   ]
  },
  {
   "cell_type": "code",
   "execution_count": 105,
   "id": "4b115761",
   "metadata": {},
   "outputs": [
    {
     "name": "stdout",
     "output_type": "stream",
     "text": [
      "precision is 0.083333\n",
      "recall is 0.952381\n",
      "f2 is 0.308642\n",
      "fpr is 0.337423\n"
     ]
    }
   ],
   "source": [
    "prec_two_ptone = sklearn.metrics.precision_score(y_true = vali_y, \n",
    "                                                 y_pred = class_predictions_two_ptone, \n",
    "                                                 zero_division = 0)\n",
    "rec_two_ptone = sklearn.metrics.recall_score(y_true = vali_y, \n",
    "                                             y_pred = class_predictions_two_ptone, \n",
    "                                             zero_division = 0)\n",
    "f2_two_ptone = sklearn.metrics.fbeta_score(y_true = vali_y, \n",
    "                                           y_pred = class_predictions_two_ptone, \n",
    "                                           beta = 2)\n",
    "\n",
    "print(f\"precision is {prec_two_ptone:.6f}\")\n",
    "print(f\"recall is {rec_two_ptone:.6f}\")\n",
    "print(f\"f2 is {f2_two_ptone:.6f}\")\n",
    "print(f\"fpr is {fpr(cfm_two_ptone):.6f}\")"
   ]
  },
  {
   "cell_type": "markdown",
   "id": "098ee879",
   "metadata": {},
   "source": [
    "*find the best threshold using validation set*"
   ]
  },
  {
   "cell_type": "code",
   "execution_count": 106,
   "id": "d2da9924",
   "metadata": {},
   "outputs": [],
   "source": [
    "f2_val_two = []\n",
    "prec_val_two = []\n",
    "rec_val_two = []\n",
    "\n",
    "threshold_values = np.linspace(0, 1, 21)\n",
    "\n",
    "for thres in threshold_values:\n",
    "    class_predictions = [(ele[0] > thres).astype(int) for ele in predictions_two]\n",
    "    \n",
    "    prec_met = sklearn.metrics.precision_score(y_true = vali_y, y_pred = class_predictions, zero_division = 0)\n",
    "    rec_met = sklearn.metrics.recall_score(y_true = vali_y, y_pred = class_predictions, zero_division = 0)\n",
    "    f2_met = sklearn.metrics.fbeta_score(y_true = vali_y, y_pred = class_predictions, beta = 2)\n",
    "    \n",
    "    f2_val_two.append(f2_met)\n",
    "    prec_val_two.append(prec_met)\n",
    "    rec_val_two.append(rec_met)"
   ]
  },
  {
   "cell_type": "code",
   "execution_count": 107,
   "id": "5fc80645",
   "metadata": {},
   "outputs": [],
   "source": [
    "df_two = pd.DataFrame({'threshold': threshold_values, \n",
    "              'precision' : prec_val_one, \n",
    "              'recall': rec_val_one, \n",
    "              'f2': f2_val_one})"
   ]
  },
  {
   "cell_type": "code",
   "execution_count": 202,
   "id": "2af29781",
   "metadata": {},
   "outputs": [],
   "source": [
    "df_two.to_csv(\"C:\\\\Users\\\\joann\\\\Downloads\\\\ST4248\\\\project\\\\df_two.csv\")"
   ]
  },
  {
   "cell_type": "code",
   "execution_count": 108,
   "id": "78ba2104",
   "metadata": {},
   "outputs": [
    {
     "data": {
      "text/html": [
       "<div>\n",
       "<style scoped>\n",
       "    .dataframe tbody tr th:only-of-type {\n",
       "        vertical-align: middle;\n",
       "    }\n",
       "\n",
       "    .dataframe tbody tr th {\n",
       "        vertical-align: top;\n",
       "    }\n",
       "\n",
       "    .dataframe thead th {\n",
       "        text-align: right;\n",
       "    }\n",
       "</style>\n",
       "<table border=\"1\" class=\"dataframe\">\n",
       "  <thead>\n",
       "    <tr style=\"text-align: right;\">\n",
       "      <th></th>\n",
       "      <th>threshold</th>\n",
       "      <th>precision</th>\n",
       "      <th>recall</th>\n",
       "      <th>f2</th>\n",
       "    </tr>\n",
       "  </thead>\n",
       "  <tbody>\n",
       "    <tr>\n",
       "      <th>0</th>\n",
       "      <td>0.00</td>\n",
       "      <td>0.031204</td>\n",
       "      <td>1.000000</td>\n",
       "      <td>0.138705</td>\n",
       "    </tr>\n",
       "    <tr>\n",
       "      <th>1</th>\n",
       "      <td>0.05</td>\n",
       "      <td>0.041750</td>\n",
       "      <td>1.000000</td>\n",
       "      <td>0.178876</td>\n",
       "    </tr>\n",
       "    <tr>\n",
       "      <th>2</th>\n",
       "      <td>0.10</td>\n",
       "      <td>0.049412</td>\n",
       "      <td>1.000000</td>\n",
       "      <td>0.206287</td>\n",
       "    </tr>\n",
       "    <tr>\n",
       "      <th>3</th>\n",
       "      <td>0.15</td>\n",
       "      <td>0.054688</td>\n",
       "      <td>1.000000</td>\n",
       "      <td>0.224359</td>\n",
       "    </tr>\n",
       "    <tr>\n",
       "      <th>4</th>\n",
       "      <td>0.20</td>\n",
       "      <td>0.060000</td>\n",
       "      <td>1.000000</td>\n",
       "      <td>0.241935</td>\n",
       "    </tr>\n",
       "    <tr>\n",
       "      <th>5</th>\n",
       "      <td>0.25</td>\n",
       "      <td>0.065217</td>\n",
       "      <td>1.000000</td>\n",
       "      <td>0.258621</td>\n",
       "    </tr>\n",
       "    <tr>\n",
       "      <th>6</th>\n",
       "      <td>0.30</td>\n",
       "      <td>0.069307</td>\n",
       "      <td>1.000000</td>\n",
       "      <td>0.271318</td>\n",
       "    </tr>\n",
       "    <tr>\n",
       "      <th>7</th>\n",
       "      <td>0.35</td>\n",
       "      <td>0.073171</td>\n",
       "      <td>1.000000</td>\n",
       "      <td>0.283019</td>\n",
       "    </tr>\n",
       "    <tr>\n",
       "      <th>8</th>\n",
       "      <td>0.40</td>\n",
       "      <td>0.074627</td>\n",
       "      <td>0.952381</td>\n",
       "      <td>0.284091</td>\n",
       "    </tr>\n",
       "    <tr>\n",
       "      <th>9</th>\n",
       "      <td>0.45</td>\n",
       "      <td>0.079365</td>\n",
       "      <td>0.952381</td>\n",
       "      <td>0.297619</td>\n",
       "    </tr>\n",
       "    <tr>\n",
       "      <th>10</th>\n",
       "      <td>0.50</td>\n",
       "      <td>0.082988</td>\n",
       "      <td>0.952381</td>\n",
       "      <td>0.307692</td>\n",
       "    </tr>\n",
       "    <tr>\n",
       "      <th>11</th>\n",
       "      <td>0.55</td>\n",
       "      <td>0.084821</td>\n",
       "      <td>0.904762</td>\n",
       "      <td>0.308442</td>\n",
       "    </tr>\n",
       "    <tr>\n",
       "      <th>12</th>\n",
       "      <td>0.60</td>\n",
       "      <td>0.091787</td>\n",
       "      <td>0.904762</td>\n",
       "      <td>0.326460</td>\n",
       "    </tr>\n",
       "    <tr>\n",
       "      <th>13</th>\n",
       "      <td>0.65</td>\n",
       "      <td>0.097938</td>\n",
       "      <td>0.904762</td>\n",
       "      <td>0.341727</td>\n",
       "    </tr>\n",
       "    <tr>\n",
       "      <th>14</th>\n",
       "      <td>0.70</td>\n",
       "      <td>0.099415</td>\n",
       "      <td>0.809524</td>\n",
       "      <td>0.333333</td>\n",
       "    </tr>\n",
       "    <tr>\n",
       "      <th>15</th>\n",
       "      <td>0.75</td>\n",
       "      <td>0.105263</td>\n",
       "      <td>0.761905</td>\n",
       "      <td>0.338983</td>\n",
       "    </tr>\n",
       "    <tr>\n",
       "      <th>16</th>\n",
       "      <td>0.80</td>\n",
       "      <td>0.131148</td>\n",
       "      <td>0.761905</td>\n",
       "      <td>0.388350</td>\n",
       "    </tr>\n",
       "    <tr>\n",
       "      <th>17</th>\n",
       "      <td>0.85</td>\n",
       "      <td>0.140187</td>\n",
       "      <td>0.714286</td>\n",
       "      <td>0.392670</td>\n",
       "    </tr>\n",
       "    <tr>\n",
       "      <th>18</th>\n",
       "      <td>0.90</td>\n",
       "      <td>0.180723</td>\n",
       "      <td>0.714286</td>\n",
       "      <td>0.449102</td>\n",
       "    </tr>\n",
       "    <tr>\n",
       "      <th>19</th>\n",
       "      <td>0.95</td>\n",
       "      <td>0.222222</td>\n",
       "      <td>0.476190</td>\n",
       "      <td>0.387597</td>\n",
       "    </tr>\n",
       "    <tr>\n",
       "      <th>20</th>\n",
       "      <td>1.00</td>\n",
       "      <td>0.000000</td>\n",
       "      <td>0.000000</td>\n",
       "      <td>0.000000</td>\n",
       "    </tr>\n",
       "  </tbody>\n",
       "</table>\n",
       "</div>"
      ],
      "text/plain": [
       "    threshold  precision    recall        f2\n",
       "0        0.00   0.031204  1.000000  0.138705\n",
       "1        0.05   0.041750  1.000000  0.178876\n",
       "2        0.10   0.049412  1.000000  0.206287\n",
       "3        0.15   0.054688  1.000000  0.224359\n",
       "4        0.20   0.060000  1.000000  0.241935\n",
       "5        0.25   0.065217  1.000000  0.258621\n",
       "6        0.30   0.069307  1.000000  0.271318\n",
       "7        0.35   0.073171  1.000000  0.283019\n",
       "8        0.40   0.074627  0.952381  0.284091\n",
       "9        0.45   0.079365  0.952381  0.297619\n",
       "10       0.50   0.082988  0.952381  0.307692\n",
       "11       0.55   0.084821  0.904762  0.308442\n",
       "12       0.60   0.091787  0.904762  0.326460\n",
       "13       0.65   0.097938  0.904762  0.341727\n",
       "14       0.70   0.099415  0.809524  0.333333\n",
       "15       0.75   0.105263  0.761905  0.338983\n",
       "16       0.80   0.131148  0.761905  0.388350\n",
       "17       0.85   0.140187  0.714286  0.392670\n",
       "18       0.90   0.180723  0.714286  0.449102\n",
       "19       0.95   0.222222  0.476190  0.387597\n",
       "20       1.00   0.000000  0.000000  0.000000"
      ]
     },
     "execution_count": 108,
     "metadata": {},
     "output_type": "execute_result"
    }
   ],
   "source": [
    "df_two"
   ]
  },
  {
   "cell_type": "code",
   "execution_count": 109,
   "id": "a112d0b8",
   "metadata": {},
   "outputs": [
    {
     "data": {
      "image/png": "[encoded data removed]",
      "text/plain": [
       "<Figure size 200x200 with 1 Axes>"
      ]
     },
     "metadata": {},
     "output_type": "display_data"
    }
   ],
   "source": [
    "# plot PRC\n",
    "plt.figure(figsize=(2, 2))\n",
    "plt.plot(rec_val_two, prec_val_two, \"ko-\", markerfacecolor = \"none\", lw = 0.8)\n",
    "plt.title('Precision Recall Curve')\n",
    "plt.xlabel('Recall')\n",
    "plt.ylabel('Precision')\n",
    "plt.xlim([0, 1])\n",
    "plt.ylim([0, 0.4]);"
   ]
  },
  {
   "cell_type": "markdown",
   "id": "fa003012",
   "metadata": {},
   "source": [
    "*evaluate performance on validation with selected threshold*"
   ]
  },
  {
   "cell_type": "code",
   "execution_count": 115,
   "id": "fcaa3254",
   "metadata": {},
   "outputs": [],
   "source": [
    "threshold_two = 0.50\n",
    "class_predictions_two_pttwo = [(ele[0] > threshold_two).astype(int) for ele in predictions_two]\n",
    "table_two_pttwo = pd.DataFrame({'actual':vali_y, 'pred':class_predictions_two_pttwo})\n",
    "cfm_two_pttwo = pd.crosstab(table_two_pttwo['actual'], table_two_pttwo['pred'], \n",
    "                            rownames=['actual'], colnames=['pred'])"
   ]
  },
  {
   "cell_type": "code",
   "execution_count": 116,
   "id": "e36b58f3",
   "metadata": {
    "scrolled": true
   },
   "outputs": [
    {
     "data": {
      "text/html": [
       "<div>\n",
       "<style scoped>\n",
       "    .dataframe tbody tr th:only-of-type {\n",
       "        vertical-align: middle;\n",
       "    }\n",
       "\n",
       "    .dataframe tbody tr th {\n",
       "        vertical-align: top;\n",
       "    }\n",
       "\n",
       "    .dataframe thead th {\n",
       "        text-align: right;\n",
       "    }\n",
       "</style>\n",
       "<table border=\"1\" class=\"dataframe\">\n",
       "  <thead>\n",
       "    <tr style=\"text-align: right;\">\n",
       "      <th>pred</th>\n",
       "      <th>0</th>\n",
       "      <th>1</th>\n",
       "    </tr>\n",
       "    <tr>\n",
       "      <th>actual</th>\n",
       "      <th></th>\n",
       "      <th></th>\n",
       "    </tr>\n",
       "  </thead>\n",
       "  <tbody>\n",
       "    <tr>\n",
       "      <th>0</th>\n",
       "      <td>432</td>\n",
       "      <td>220</td>\n",
       "    </tr>\n",
       "    <tr>\n",
       "      <th>1</th>\n",
       "      <td>1</td>\n",
       "      <td>20</td>\n",
       "    </tr>\n",
       "  </tbody>\n",
       "</table>\n",
       "</div>"
      ],
      "text/plain": [
       "pred      0    1\n",
       "actual          \n",
       "0       432  220\n",
       "1         1   20"
      ]
     },
     "execution_count": 116,
     "metadata": {},
     "output_type": "execute_result"
    }
   ],
   "source": [
    "cfm_two_pttwo"
   ]
  },
  {
   "cell_type": "code",
   "execution_count": 117,
   "id": "2e783927",
   "metadata": {},
   "outputs": [
    {
     "name": "stdout",
     "output_type": "stream",
     "text": [
      "precision is 0.083333\n",
      "recall is 0.952381\n",
      "f2 is 0.308642\n",
      "fpr is 0.337423\n"
     ]
    }
   ],
   "source": [
    "prec_two_pttwo = sklearn.metrics.precision_score(y_true = vali_y, \n",
    "                                                 y_pred = class_predictions_two_pttwo, \n",
    "                                                 zero_division = 0)\n",
    "rec_two_pttwo = sklearn.metrics.recall_score(y_true = vali_y, \n",
    "                                             y_pred = class_predictions_two_pttwo, \n",
    "                                             zero_division = 0)\n",
    "f2_two_pttwo = sklearn.metrics.fbeta_score(y_true = vali_y, \n",
    "                                           y_pred = class_predictions_two_pttwo, \n",
    "                                           beta = 2)\n",
    "\n",
    "print(f\"precision is {prec_two_pttwo:.6f}\")\n",
    "print(f\"recall is {rec_two_pttwo:.6f}\")\n",
    "print(f\"f2 is {f2_two_pttwo:.6f}\")\n",
    "print(f\"fpr is {fpr(cfm_two_pttwo):.6f}\")"
   ]
  },
  {
   "cell_type": "markdown",
   "id": "fec452b6",
   "metadata": {},
   "source": [
    "*evaluate performance on test set*"
   ]
  },
  {
   "cell_type": "code",
   "execution_count": 118,
   "id": "55b47dee",
   "metadata": {},
   "outputs": [
    {
     "name": "stdout",
     "output_type": "stream",
     "text": [
      "64/64 [==============================] - 0s 1ms/step\n"
     ]
    }
   ],
   "source": [
    "predictions_two_test = model_two.predict(test_x)\n",
    "\n",
    "class_predictions_two_test = [(ele[0] > threshold_two).astype(int) for ele in predictions_two_test]\n",
    "table_two_test = pd.DataFrame({'actual':test_y, 'pred':class_predictions_two_test})\n",
    "cfm_two_test = pd.crosstab(table_two_test['actual'], table_two_test['pred'], \n",
    "                            rownames=['actual'], colnames=['pred'])"
   ]
  },
  {
   "cell_type": "code",
   "execution_count": 119,
   "id": "d27e6268",
   "metadata": {},
   "outputs": [
    {
     "data": {
      "text/html": [
       "<div>\n",
       "<style scoped>\n",
       "    .dataframe tbody tr th:only-of-type {\n",
       "        vertical-align: middle;\n",
       "    }\n",
       "\n",
       "    .dataframe tbody tr th {\n",
       "        vertical-align: top;\n",
       "    }\n",
       "\n",
       "    .dataframe thead th {\n",
       "        text-align: right;\n",
       "    }\n",
       "</style>\n",
       "<table border=\"1\" class=\"dataframe\">\n",
       "  <thead>\n",
       "    <tr style=\"text-align: right;\">\n",
       "      <th>pred</th>\n",
       "      <th>0</th>\n",
       "      <th>1</th>\n",
       "    </tr>\n",
       "    <tr>\n",
       "      <th>actual</th>\n",
       "      <th></th>\n",
       "      <th></th>\n",
       "    </tr>\n",
       "  </thead>\n",
       "  <tbody>\n",
       "    <tr>\n",
       "      <th>0</th>\n",
       "      <td>1311</td>\n",
       "      <td>641</td>\n",
       "    </tr>\n",
       "    <tr>\n",
       "      <th>1</th>\n",
       "      <td>2</td>\n",
       "      <td>69</td>\n",
       "    </tr>\n",
       "  </tbody>\n",
       "</table>\n",
       "</div>"
      ],
      "text/plain": [
       "pred       0    1\n",
       "actual           \n",
       "0       1311  641\n",
       "1          2   69"
      ]
     },
     "execution_count": 119,
     "metadata": {},
     "output_type": "execute_result"
    }
   ],
   "source": [
    "cfm_two_test"
   ]
  },
  {
   "cell_type": "code",
   "execution_count": 211,
   "id": "87a20148",
   "metadata": {
    "scrolled": true
   },
   "outputs": [
    {
     "name": "stdout",
     "output_type": "stream",
     "text": [
      "precision is 0.115152\n",
      "recall is 0.802817\n",
      "f2 is 0.365854\n",
      "fpr is 0.224385\n"
     ]
    }
   ],
   "source": [
    "prec_two_test = sklearn.metrics.precision_score(y_true = test_y, \n",
    "                                                 y_pred = class_predictions_two_test, \n",
    "                                                 zero_division = 0)\n",
    "rec_two_test = sklearn.metrics.recall_score(y_true = test_y, \n",
    "                                             y_pred = class_predictions_two_test, \n",
    "                                             zero_division = 0)\n",
    "f2_two_test = sklearn.metrics.fbeta_score(y_true = test_y, \n",
    "                                           y_pred = class_predictions_two_test, \n",
    "                                           beta = 2)\n",
    "\n",
    "print(f\"precision is {prec_two_test:.6f}\")\n",
    "print(f\"recall is {rec_two_test:.6f}\")\n",
    "print(f\"f2 is {f2_two_test:.6f}\")\n",
    "print(f\"fpr is {fpr(cfm_two_test):.6f}\")"
   ]
  },
  {
   "cell_type": "markdown",
   "id": "9565001d",
   "metadata": {},
   "source": [
    "### End of Document"
   ]
  }
 ],
 "metadata": {
  "colab": {
   "provenance": []
  },
  "kernelspec": {
   "display_name": "Python 3 (ipykernel)",
   "language": "python",
   "name": "python3"
  },
  "language_info": {
   "codemirror_mode": {
    "name": "ipython",
    "version": 3
   },
   "file_extension": ".py",
   "mimetype": "text/x-python",
   "name": "python",
   "nbconvert_exporter": "python",
   "pygments_lexer": "ipython3",
   "version": "3.9.13"
  }
 },
 "nbformat": 4,
 "nbformat_minor": 5
}
