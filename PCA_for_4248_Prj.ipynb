{
  "nbformat": 4,
  "nbformat_minor": 0,
  "metadata": {
    "colab": {
      "provenance": [],
      "collapsed_sections": [
        "C14FG7_FGdIU",
        "1II9FUDZBFFi",
        "mp3ETd24IzWi",
        "GuN2YnJ1KZ-l"
      ]
    },
    "kernelspec": {
      "name": "ir",
      "display_name": "R"
    },
    "language_info": {
      "name": "R"
    },
    "gpuClass": "standard"
  },
  "cells": [
    {
      "cell_type": "markdown",
      "source": [
        "With PCA as dimension reduction method, we are hoping that the signals of bankruptcy are concentrated in the first few PC, and we can use fewer predictors for our classification problem. \n",
        "\n",
        "The number of principal components M can be tuned in model training for better validation results. As an initial preprocessing step, 6 principal components were selected based on the elbow method."
      ],
      "metadata": {
        "id": "ACSm3jqc_tI5"
      }
    },
    {
      "cell_type": "markdown",
      "source": [
        "Note: As outliers were removed, some comments on size of dataset are not accurate anymore, but they are still kept here"
      ],
      "metadata": {
        "id": "ncLYURiE_vRW"
      }
    },
    {
      "cell_type": "markdown",
      "source": [
        "Number of variables have changed from:\n",
        "96 (original) -> 29 (after feature selection) -> 6 (after PCA)\n",
        "\n",
        "Number of observations have changed from:\n",
        "* training set 4042 -> 6698 (after ADASYN sampling)\n",
        "* validation set 673 UNCHANGED\n",
        "* testing set 2023 UNCHANGED "
      ],
      "metadata": {
        "id": "X3JqjJLa_2Ie"
      }
    },
    {
      "cell_type": "code",
      "execution_count": null,
      "metadata": {
        "id": "aMEzxQwKjoWb"
      },
      "outputs": [],
      "source": [
        "# Upload data to session storage before proceeding\n",
        "df = read.csv(\"data.csv\")"
      ]
    },
    {
      "cell_type": "code",
      "source": [
        "# check correct dimensions\n",
        "dim(df)"
      ],
      "metadata": {
        "colab": {
          "base_uri": "https://localhost:8080/",
          "height": 34
        },
        "id": "BPp3-G_NA_ls",
        "outputId": "dea737de-6fab-4d97-8e59-d82049f6f15c"
      },
      "execution_count": null,
      "outputs": [
        {
          "output_type": "display_data",
          "data": {
            "text/html": [
              "<style>\n",
              ".list-inline {list-style: none; margin:0; padding: 0}\n",
              ".list-inline>li {display: inline-block}\n",
              ".list-inline>li:not(:last-child)::after {content: \"\\00b7\"; padding: 0 .5ex}\n",
              "</style>\n",
              "<ol class=list-inline><li>6819</li><li>96</li></ol>\n"
            ],
            "text/markdown": "1. 6819\n2. 96\n\n\n",
            "text/latex": "\\begin{enumerate*}\n\\item 6819\n\\item 96\n\\end{enumerate*}\n",
            "text/plain": [
              "[1] 6819   96"
            ]
          },
          "metadata": {}
        }
      ]
    },
    {
      "cell_type": "markdown",
      "source": [
        "# Creating Dictionary\n",
        "key = Y or X_, value = Bankrupt. or predictor name"
      ],
      "metadata": {
        "id": "C14FG7_FGdIU"
      }
    },
    {
      "cell_type": "code",
      "source": [
        "install.packages(\"hash\")\n",
        "library(hash)"
      ],
      "metadata": {
        "colab": {
          "base_uri": "https://localhost:8080/"
        },
        "id": "8wSlWzUCCY-L",
        "outputId": "916c15b4-6533-4100-88bd-333f6f8b5e99"
      },
      "execution_count": null,
      "outputs": [
        {
          "output_type": "stream",
          "name": "stderr",
          "text": [
            "Installing package into ‘/usr/local/lib/R/site-library’\n",
            "(as ‘lib’ is unspecified)\n",
            "\n",
            "hash-2.2.6.2 provided by Decision Patterns\n",
            "\n",
            "\n"
          ]
        }
      ]
    },
    {
      "cell_type": "code",
      "source": [
        "# create dictionary for dataset column names and shortforms\n",
        "column_names <- hash()\n",
        "key = 1\n",
        "for (word in colnames(df)) {\n",
        "  if (word == \"Bankrupt.\") {\n",
        "    column_names[\"Y\"] = list()\n",
        "    column_names[\"Y\"] = append(column_names[[\"Y\"]], word)\n",
        "    next;\n",
        "  }\n",
        "  else {\n",
        "    column_names[paste0(\"X\", key)] = list()\n",
        "    column_names[paste0(\"X\", key)] = append(column_names[[paste0(\"X\", key)]], word)\n",
        "    key = key + 1\n",
        "  }\n",
        "}"
      ],
      "metadata": {
        "id": "LG6fGac-CSZs"
      },
      "execution_count": null,
      "outputs": []
    },
    {
      "cell_type": "code",
      "source": [
        "column_names[[\"Y\"]]"
      ],
      "metadata": {
        "colab": {
          "base_uri": "https://localhost:8080/",
          "height": 62
        },
        "id": "x4PapNTEcKOB",
        "outputId": "459e9a52-1de8-4116-f6c1-c62b7ff83e54"
      },
      "execution_count": null,
      "outputs": [
        {
          "output_type": "display_data",
          "data": {
            "text/html": [
              "<ol>\n",
              "\t<li>'Bankrupt.'</li>\n",
              "</ol>\n"
            ],
            "text/markdown": "1. 'Bankrupt.'\n\n\n",
            "text/latex": "\\begin{enumerate}\n\\item 'Bankrupt.'\n\\end{enumerate}\n",
            "text/plain": [
              "[[1]]\n",
              "[1] \"Bankrupt.\"\n"
            ]
          },
          "metadata": {}
        }
      ]
    },
    {
      "cell_type": "markdown",
      "source": [
        "# Splitting Data and Sampling\n",
        "including outlier removal"
      ],
      "metadata": {
        "id": "1II9FUDZBFFi"
      }
    },
    {
      "cell_type": "code",
      "source": [
        "library(tidyverse)"
      ],
      "metadata": {
        "colab": {
          "base_uri": "https://localhost:8080/"
        },
        "id": "PhSd0PXsByeu",
        "outputId": "29158625-1d75-4ed8-f59f-4e1c54edaa49"
      },
      "execution_count": null,
      "outputs": [
        {
          "output_type": "stream",
          "name": "stderr",
          "text": [
            "Warning message in system(\"timedatectl\", intern = TRUE):\n",
            "“running command 'timedatectl' had status 1”\n",
            "── \u001b[1mAttaching packages\u001b[22m ─────────────────────────────────────── tidyverse 1.3.1 ──\n",
            "\n",
            "\u001b[32m✔\u001b[39m \u001b[34mggplot2\u001b[39m 3.4.1     \u001b[32m✔\u001b[39m \u001b[34mpurrr  \u001b[39m 1.0.1\n",
            "\u001b[32m✔\u001b[39m \u001b[34mtibble \u001b[39m 3.1.8     \u001b[32m✔\u001b[39m \u001b[34mdplyr  \u001b[39m 1.1.0\n",
            "\u001b[32m✔\u001b[39m \u001b[34mtidyr  \u001b[39m 1.3.0     \u001b[32m✔\u001b[39m \u001b[34mstringr\u001b[39m 1.4.1\n",
            "\u001b[32m✔\u001b[39m \u001b[34mreadr  \u001b[39m 2.1.4     \u001b[32m✔\u001b[39m \u001b[34mforcats\u001b[39m 1.0.0\n",
            "\n",
            "── \u001b[1mConflicts\u001b[22m ────────────────────────────────────────── tidyverse_conflicts() ──\n",
            "\u001b[31m✖\u001b[39m \u001b[34mdplyr\u001b[39m::\u001b[32mfilter()\u001b[39m masks \u001b[34mstats\u001b[39m::filter()\n",
            "\u001b[31m✖\u001b[39m \u001b[34mdplyr\u001b[39m::\u001b[32mlag()\u001b[39m    masks \u001b[34mstats\u001b[39m::lag()\n",
            "\n"
          ]
        }
      ]
    },
    {
      "cell_type": "code",
      "source": [
        "# changing colnames\n",
        "colnames(df) <- c(\"Y\", paste(\"X\", c(1:95), sep = \"\"))\n",
        "\n",
        "# changing Y col to a factor\n",
        "df$Y <- as.factor(df$Y)"
      ],
      "metadata": {
        "id": "uiGdXmprB1VL"
      },
      "execution_count": null,
      "outputs": []
    },
    {
      "cell_type": "code",
      "source": [
        "## outliers flagged from isolation forest\n",
        "outliers = c(57,  380,  428, 1036, 1428, 1430, 1441, 1444, 1521, 1625, 1641,\n",
        "\n",
        "       1685, 1754, 1756, 1847, 1862, 1866, 1870, 1871, 1952, 1968, 2002,\n",
        "\n",
        "       2005, 2006, 2100, 2174, 2199, 2296, 2362, 2365, 2366, 2394, 2436,\n",
        "\n",
        "       2441, 2471, 2491, 2497, 2594, 2606, 2641, 2723, 2736, 2771, 2931,\n",
        "\n",
        "       3147, 3170, 3208, 3225, 3393, 3541, 3596, 3623, 3683, 3696, 3843,\n",
        "\n",
        "       3846, 3848, 3907, 3909, 3932, 4117, 4228, 4296, 4328, 4339, 4438,\n",
        "\n",
        "       4448, 4450, 4779, 4825, 4876, 4878, 4919, 5026, 5034, 5164, 6019,\n",
        "\n",
        "       6611, 6614, 6642, 6643)\n",
        "\n",
        "df = df[-outliers, ]"
      ],
      "metadata": {
        "id": "L9diZqGUHSvr"
      },
      "execution_count": null,
      "outputs": []
    },
    {
      "cell_type": "code",
      "source": [
        "dim(df)"
      ],
      "metadata": {
        "colab": {
          "base_uri": "https://localhost:8080/",
          "height": 34
        },
        "id": "wuCtuP7jHilR",
        "outputId": "3dc529e4-e46d-4638-9c58-87fc507f7280"
      },
      "execution_count": null,
      "outputs": [
        {
          "output_type": "display_data",
          "data": {
            "text/html": [
              "<style>\n",
              ".list-inline {list-style: none; margin:0; padding: 0}\n",
              ".list-inline>li {display: inline-block}\n",
              ".list-inline>li:not(:last-child)::after {content: \"\\00b7\"; padding: 0 .5ex}\n",
              "</style>\n",
              "<ol class=list-inline><li>6738</li><li>96</li></ol>\n"
            ],
            "text/markdown": "1. 6738\n2. 96\n\n\n",
            "text/latex": "\\begin{enumerate*}\n\\item 6738\n\\item 96\n\\end{enumerate*}\n",
            "text/plain": [
              "[1] 6738   96"
            ]
          },
          "metadata": {}
        }
      ]
    },
    {
      "cell_type": "code",
      "source": [
        "set.seed(4248)\n",
        "\n",
        "# randomly shuffle the rows\n",
        "rows <- 1:nrow(df)\n",
        "shuffled_rows <- sample(rows)\n",
        "\n",
        "# no. of rows for each split\n",
        "train <- floor(0.6 * length(shuffled_rows)) #4091\n",
        "val <- floor(0.1 * length(shuffled_rows)) #681\n",
        "test <- length(shuffled_rows) - train - val #2047\n",
        "\n",
        "# split into train, validation, and test sets\n",
        "train_no <- shuffled_rows[1:train]\n",
        "val_no <- shuffled_rows[(train + 1):(train + val)]\n",
        "test_no <- shuffled_rows[(train + val + 1):length(shuffled_rows)]\n",
        "\n",
        "train_set <- df[train_no, ]\n",
        "val_set <- df[val_no, ] \n",
        "test_set <- df[test_no, ] "
      ],
      "metadata": {
        "id": "Cg2I5fhtGxPt"
      },
      "execution_count": null,
      "outputs": []
    },
    {
      "cell_type": "code",
      "source": [
        "print(dim(train_set))\n",
        "print(dim(val_set))\n",
        "print(dim(test_set))"
      ],
      "metadata": {
        "colab": {
          "base_uri": "https://localhost:8080/"
        },
        "id": "mTVNCaUuIlvz",
        "outputId": "6ff900d2-71d0-48b7-bc86-8da0d15a90b4"
      },
      "execution_count": null,
      "outputs": [
        {
          "output_type": "stream",
          "name": "stdout",
          "text": [
            "[1] 4042   96\n",
            "[1] 673  96\n",
            "[1] 2023   96\n"
          ]
        }
      ]
    },
    {
      "cell_type": "code",
      "source": [
        "install.packages('themis')\n",
        "library('themis')"
      ],
      "metadata": {
        "colab": {
          "base_uri": "https://localhost:8080/"
        },
        "id": "g4lz_r-rIIn9",
        "outputId": "41bee24f-d443-47f1-f317-3369f66d9dbc"
      },
      "execution_count": null,
      "outputs": [
        {
          "output_type": "stream",
          "name": "stderr",
          "text": [
            "Installing package into ‘/usr/local/lib/R/site-library’\n",
            "(as ‘lib’ is unspecified)\n",
            "\n",
            "also installing the dependencies ‘listenv’, ‘parallelly’, ‘future’, ‘globals’, ‘future.apply’, ‘numDeriv’, ‘progressr’, ‘SQUAREM’, ‘Rcpp’, ‘lava’, ‘prodlim’, ‘clock’, ‘ipred’, ‘timeDate’, ‘recipes’, ‘gower’, ‘RANN’, ‘ROSE’, ‘hardhat’\n",
            "\n",
            "\n",
            "Loading required package: recipes\n",
            "\n",
            "\n",
            "Attaching package: ‘recipes’\n",
            "\n",
            "\n",
            "The following object is masked from ‘package:stringr’:\n",
            "\n",
            "    fixed\n",
            "\n",
            "\n",
            "The following object is masked from ‘package:stats’:\n",
            "\n",
            "    step\n",
            "\n",
            "\n"
          ]
        }
      ]
    },
    {
      "cell_type": "code",
      "source": [
        "# ADASYN\n",
        "adasyn_data <- adasyn(train_set, \"Y\", over_ratio=0.7)\n",
        "table(adasyn_data$Y) # 3966 2776\n",
        "table(train_set$Y) # original 3966 125\n",
        "2776/(2776 +3966) #0.41"
      ],
      "metadata": {
        "colab": {
          "base_uri": "https://localhost:8080/",
          "height": 138
        },
        "id": "Lqxd4gGsIGLg",
        "outputId": "133891c7-cb33-4048-e863-730e6b500e74"
      },
      "execution_count": null,
      "outputs": [
        {
          "output_type": "display_data",
          "data": {
            "text/plain": [
              "\n",
              "   0    1 \n",
              "3940 2758 "
            ]
          },
          "metadata": {}
        },
        {
          "output_type": "display_data",
          "data": {
            "text/plain": [
              "\n",
              "   0    1 \n",
              "3940  102 "
            ]
          },
          "metadata": {}
        },
        {
          "output_type": "display_data",
          "data": {
            "text/html": [
              "0.41174725600712"
            ],
            "text/markdown": "0.41174725600712",
            "text/latex": "0.41174725600712",
            "text/plain": [
              "[1] 0.4117473"
            ]
          },
          "metadata": {}
        }
      ]
    },
    {
      "cell_type": "code",
      "source": [
        "table(adasyn_data$Y)\n",
        "table(train_set$Y)\n",
        "2758/(2758+3940)"
      ],
      "metadata": {
        "colab": {
          "base_uri": "https://localhost:8080/",
          "height": 138
        },
        "id": "sKvInIT6JklF",
        "outputId": "fa909e59-2cd0-460b-9478-67f8c6603e11"
      },
      "execution_count": null,
      "outputs": [
        {
          "output_type": "display_data",
          "data": {
            "text/plain": [
              "\n",
              "   0    1 \n",
              "3940 2758 "
            ]
          },
          "metadata": {}
        },
        {
          "output_type": "display_data",
          "data": {
            "text/plain": [
              "\n",
              "   0    1 \n",
              "3940  102 "
            ]
          },
          "metadata": {}
        },
        {
          "output_type": "display_data",
          "data": {
            "text/html": [
              "0.411764705882353"
            ],
            "text/markdown": "0.411764705882353",
            "text/latex": "0.411764705882353",
            "text/plain": [
              "[1] 0.4117647"
            ]
          },
          "metadata": {}
        }
      ]
    },
    {
      "cell_type": "code",
      "source": [
        "dim(adasyn_data)"
      ],
      "metadata": {
        "colab": {
          "base_uri": "https://localhost:8080/",
          "height": 34
        },
        "id": "x3-mMlDyQWM4",
        "outputId": "7ee51a19-81fd-428f-b90f-d20398612326"
      },
      "execution_count": null,
      "outputs": [
        {
          "output_type": "display_data",
          "data": {
            "text/html": [
              "<style>\n",
              ".list-inline {list-style: none; margin:0; padding: 0}\n",
              ".list-inline>li {display: inline-block}\n",
              ".list-inline>li:not(:last-child)::after {content: \"\\00b7\"; padding: 0 .5ex}\n",
              "</style>\n",
              "<ol class=list-inline><li>6698</li><li>96</li></ol>\n"
            ],
            "text/markdown": "1. 6698\n2. 96\n\n\n",
            "text/latex": "\\begin{enumerate*}\n\\item 6698\n\\item 96\n\\end{enumerate*}\n",
            "text/plain": [
              "[1] 6698   96"
            ]
          },
          "metadata": {}
        }
      ]
    },
    {
      "cell_type": "markdown",
      "source": [
        "train_set - data for training\n",
        "\n",
        "adasyn_data - minority oversampled data for training\n",
        "\n",
        "val_set - data for validation\n",
        "\n",
        "test_set - data for testing"
      ],
      "metadata": {
        "id": "NFSbe4lzJ1nw"
      }
    },
    {
      "cell_type": "markdown",
      "source": [
        "# Feature Selection"
      ],
      "metadata": {
        "id": "mp3ETd24IzWi"
      }
    },
    {
      "cell_type": "code",
      "source": [
        "install.packages(\"glmnet\")\n",
        "library(glmnet)"
      ],
      "metadata": {
        "colab": {
          "base_uri": "https://localhost:8080/"
        },
        "id": "OdGGDRc6KIHS",
        "outputId": "82add62b-eaa0-4605-daea-fa2bf606ed95"
      },
      "execution_count": null,
      "outputs": [
        {
          "output_type": "stream",
          "name": "stderr",
          "text": [
            "Installing package into ‘/usr/local/lib/R/site-library’\n",
            "(as ‘lib’ is unspecified)\n",
            "\n",
            "also installing the dependencies ‘iterators’, ‘foreach’, ‘shape’, ‘RcppEigen’\n",
            "\n",
            "\n",
            "Loading required package: Matrix\n",
            "\n",
            "\n",
            "Attaching package: ‘Matrix’\n",
            "\n",
            "\n",
            "The following objects are masked from ‘package:tidyr’:\n",
            "\n",
            "    expand, pack, unpack\n",
            "\n",
            "\n",
            "Loaded glmnet 4.1-6\n",
            "\n"
          ]
        }
      ]
    },
    {
      "cell_type": "code",
      "source": [
        "x<-model.matrix(Y~., adasyn_data )[,-1]\n",
        "y<-adasyn_data[,1]\n",
        "set.seed(1)\n",
        "grid<-10^seq(10, -2, length=100)"
      ],
      "metadata": {
        "id": "3sCrjXn19Ukj"
      },
      "execution_count": null,
      "outputs": []
    },
    {
      "cell_type": "code",
      "source": [
        "cv.out <- cv.glmnet(x, y, alpha = 1, family = \"binomial\")\n",
        "bestlam <- cv.out$lambda.min\n",
        "out <- glmnet(x, y, alpha =1, lambda=grid, family = \"binomial\")\n",
        "lasso.coef <- predict(out, type = \"coefficient\", s=bestlam)[1:96]\n",
        "which(lasso.coef!=0)\n",
        "#variables after feature selection:\n",
        "# 1  2 13 20 28 37 38 39 44 46 47 49 50 52 58 61 72 75 81 85 87 93"
      ],
      "metadata": {
        "colab": {
          "base_uri": "https://localhost:8080/",
          "height": 34
        },
        "id": "5WnzWQWFI3Gd",
        "outputId": "b197f0b2-4d5a-4f5f-cf3f-a59ccafd2e51"
      },
      "execution_count": null,
      "outputs": [
        {
          "output_type": "display_data",
          "data": {
            "text/html": [
              "<style>\n",
              ".list-inline {list-style: none; margin:0; padding: 0}\n",
              ".list-inline>li {display: inline-block}\n",
              ".list-inline>li:not(:last-child)::after {content: \"\\00b7\"; padding: 0 .5ex}\n",
              "</style>\n",
              "<ol class=list-inline><li>1</li><li>4</li><li>12</li><li>16</li><li>20</li><li>27</li><li>35</li><li>36</li><li>37</li><li>38</li><li>39</li><li>41</li><li>45</li><li>47</li><li>49</li><li>50</li><li>51</li><li>52</li><li>53</li><li>58</li><li>61</li><li>69</li><li>73</li><li>75</li><li>82</li><li>83</li><li>87</li><li>93</li></ol>\n"
            ],
            "text/markdown": "1. 1\n2. 4\n3. 12\n4. 16\n5. 20\n6. 27\n7. 35\n8. 36\n9. 37\n10. 38\n11. 39\n12. 41\n13. 45\n14. 47\n15. 49\n16. 50\n17. 51\n18. 52\n19. 53\n20. 58\n21. 61\n22. 69\n23. 73\n24. 75\n25. 82\n26. 83\n27. 87\n28. 93\n\n\n",
            "text/latex": "\\begin{enumerate*}\n\\item 1\n\\item 4\n\\item 12\n\\item 16\n\\item 20\n\\item 27\n\\item 35\n\\item 36\n\\item 37\n\\item 38\n\\item 39\n\\item 41\n\\item 45\n\\item 47\n\\item 49\n\\item 50\n\\item 51\n\\item 52\n\\item 53\n\\item 58\n\\item 61\n\\item 69\n\\item 73\n\\item 75\n\\item 82\n\\item 83\n\\item 87\n\\item 93\n\\end{enumerate*}\n",
            "text/plain": [
              " [1]  1  4 12 16 20 27 35 36 37 38 39 41 45 47 49 50 51 52 53 58 61 69 73 75 82\n",
              "[26] 83 87 93"
            ]
          },
          "metadata": {}
        }
      ]
    },
    {
      "cell_type": "code",
      "source": [
        "which(lasso.coef!=0)"
      ],
      "metadata": {
        "colab": {
          "base_uri": "https://localhost:8080/",
          "height": 34
        },
        "id": "ycrBhX8qKWln",
        "outputId": "8011ab18-de4d-4d9f-c873-81ceb01618e2"
      },
      "execution_count": null,
      "outputs": [
        {
          "output_type": "display_data",
          "data": {
            "text/html": [
              "<style>\n",
              ".list-inline {list-style: none; margin:0; padding: 0}\n",
              ".list-inline>li {display: inline-block}\n",
              ".list-inline>li:not(:last-child)::after {content: \"\\00b7\"; padding: 0 .5ex}\n",
              "</style>\n",
              "<ol class=list-inline><li>1</li><li>4</li><li>12</li><li>16</li><li>20</li><li>27</li><li>35</li><li>36</li><li>37</li><li>38</li><li>39</li><li>41</li><li>45</li><li>47</li><li>49</li><li>50</li><li>51</li><li>52</li><li>53</li><li>58</li><li>61</li><li>69</li><li>73</li><li>75</li><li>82</li><li>83</li><li>87</li><li>93</li></ol>\n"
            ],
            "text/markdown": "1. 1\n2. 4\n3. 12\n4. 16\n5. 20\n6. 27\n7. 35\n8. 36\n9. 37\n10. 38\n11. 39\n12. 41\n13. 45\n14. 47\n15. 49\n16. 50\n17. 51\n18. 52\n19. 53\n20. 58\n21. 61\n22. 69\n23. 73\n24. 75\n25. 82\n26. 83\n27. 87\n28. 93\n\n\n",
            "text/latex": "\\begin{enumerate*}\n\\item 1\n\\item 4\n\\item 12\n\\item 16\n\\item 20\n\\item 27\n\\item 35\n\\item 36\n\\item 37\n\\item 38\n\\item 39\n\\item 41\n\\item 45\n\\item 47\n\\item 49\n\\item 50\n\\item 51\n\\item 52\n\\item 53\n\\item 58\n\\item 61\n\\item 69\n\\item 73\n\\item 75\n\\item 82\n\\item 83\n\\item 87\n\\item 93\n\\end{enumerate*}\n",
            "text/plain": [
              " [1]  1  4 12 16 20 27 35 36 37 38 39 41 45 47 49 50 51 52 53 58 61 69 73 75 82\n",
              "[26] 83 87 93"
            ]
          },
          "metadata": {}
        }
      ]
    },
    {
      "cell_type": "markdown",
      "source": [
        "Final variables selected from LASSO"
      ],
      "metadata": {
        "id": "6SuEPH1WQCTz"
      }
    },
    {
      "cell_type": "code",
      "source": [
        "subset = c()\n",
        "for (ele in which(lasso.coef!=0)) {\n",
        "  subset = c(subset, paste0(\"X\", ele))\n",
        "}"
      ],
      "metadata": {
        "id": "3NXa4vkDNEic"
      },
      "execution_count": null,
      "outputs": []
    },
    {
      "cell_type": "code",
      "source": [
        "subset = c(subset, \"Y\")"
      ],
      "metadata": {
        "id": "hDLdXX8QP1hT"
      },
      "execution_count": null,
      "outputs": []
    },
    {
      "cell_type": "code",
      "source": [
        "print(subset)"
      ],
      "metadata": {
        "colab": {
          "base_uri": "https://localhost:8080/"
        },
        "id": "sr-18qU4P3nC",
        "outputId": "0b0bf097-5226-475e-91dd-2946f848e4c4"
      },
      "execution_count": null,
      "outputs": [
        {
          "output_type": "stream",
          "name": "stdout",
          "text": [
            " [1] \"X1\"  \"X4\"  \"X12\" \"X16\" \"X20\" \"X27\" \"X35\" \"X36\" \"X37\" \"X38\" \"X39\" \"X41\"\n",
            "[13] \"X45\" \"X47\" \"X49\" \"X50\" \"X51\" \"X52\" \"X53\" \"X58\" \"X61\" \"X69\" \"X73\" \"X75\"\n",
            "[25] \"X82\" \"X83\" \"X87\" \"X93\" \"Y\"  \n"
          ]
        }
      ]
    },
    {
      "cell_type": "code",
      "source": [
        "dim(adasyn_data)"
      ],
      "metadata": {
        "colab": {
          "base_uri": "https://localhost:8080/",
          "height": 34
        },
        "id": "g3A5UVNWQPWE",
        "outputId": "5334a232-634a-4766-db1e-7958e1cc46b1"
      },
      "execution_count": null,
      "outputs": [
        {
          "output_type": "display_data",
          "data": {
            "text/html": [
              "<style>\n",
              ".list-inline {list-style: none; margin:0; padding: 0}\n",
              ".list-inline>li {display: inline-block}\n",
              ".list-inline>li:not(:last-child)::after {content: \"\\00b7\"; padding: 0 .5ex}\n",
              "</style>\n",
              "<ol class=list-inline><li>6698</li><li>96</li></ol>\n"
            ],
            "text/markdown": "1. 6698\n2. 96\n\n\n",
            "text/latex": "\\begin{enumerate*}\n\\item 6698\n\\item 96\n\\end{enumerate*}\n",
            "text/plain": [
              "[1] 6698   96"
            ]
          },
          "metadata": {}
        }
      ]
    },
    {
      "cell_type": "code",
      "source": [
        "## Removal of X95 which has sd = 0 not necessary since it wasn't selected in LASSO\n",
        "## Extracting the subset of predictors for training, validation and testing sets\n",
        "\n",
        "adasyn_data = adasyn_data %>% select(c(subset))\n",
        "train_set = train_set %>% select(c(subset))\n",
        "val_set = val_set %>% select(c(subset))\n",
        "test_set = test_set %>% select(c(subset))"
      ],
      "metadata": {
        "id": "LA-XQxOIMq0T",
        "colab": {
          "base_uri": "https://localhost:8080/"
        },
        "outputId": "6bf4d77c-1746-459e-9eee-a10185524ae8"
      },
      "execution_count": null,
      "outputs": [
        {
          "output_type": "stream",
          "name": "stderr",
          "text": [
            "Warning message:\n",
            "“\u001b[1m\u001b[22mUsing an external vector in selections was deprecated in tidyselect 1.1.0.\n",
            "\u001b[36mℹ\u001b[39m Please use `all_of()` or `any_of()` instead.\n",
            "  # Was:\n",
            "  data %>% select(subset)\n",
            "\n",
            "  # Now:\n",
            "  data %>% select(all_of(subset))\n",
            "\n",
            "See <https://tidyselect.r-lib.org/reference/faq-external-vector.html>.”\n"
          ]
        }
      ]
    },
    {
      "cell_type": "code",
      "source": [
        "print(dim(adasyn_data))\n",
        "print(dim(val_set))\n",
        "print(dim(test_set))"
      ],
      "metadata": {
        "colab": {
          "base_uri": "https://localhost:8080/"
        },
        "id": "ikJZie9bQcGp",
        "outputId": "5b7f6085-9417-491d-ce69-ae3fbd414f87"
      },
      "execution_count": null,
      "outputs": [
        {
          "output_type": "stream",
          "name": "stdout",
          "text": [
            "[1] 6698   29\n",
            "[1] 673  29\n",
            "[1] 2023   29\n"
          ]
        }
      ]
    },
    {
      "cell_type": "markdown",
      "source": [
        "28 variables + 1 response set:\n",
        "* train_set - data for training\n",
        "\n",
        "* adasyn_data - minority oversampled data for training\n",
        "\n",
        "* val_set - data for validation\n",
        "\n",
        "* test_set - data for testing"
      ],
      "metadata": {
        "id": "Ys5UmNd9Qu1N"
      }
    },
    {
      "cell_type": "markdown",
      "source": [
        "# Dimension Reduction with PCA"
      ],
      "metadata": {
        "id": "GuN2YnJ1KZ-l"
      }
    },
    {
      "cell_type": "code",
      "source": [
        "training_x = adasyn_data %>% select(-\"Y\")\n",
        "training_y = adasyn_data %>% select(\"Y\")"
      ],
      "metadata": {
        "id": "6DnNZHVFRU12"
      },
      "execution_count": null,
      "outputs": []
    },
    {
      "cell_type": "code",
      "source": [
        "colnames(training_x)\n",
        "colnames(training_y)"
      ],
      "metadata": {
        "colab": {
          "base_uri": "https://localhost:8080/",
          "height": 69
        },
        "id": "4zMGAVWUSOiY",
        "outputId": "57ddf69b-e9ca-42bb-957f-cc1f7bd60744"
      },
      "execution_count": null,
      "outputs": [
        {
          "output_type": "display_data",
          "data": {
            "text/html": [
              "<style>\n",
              ".list-inline {list-style: none; margin:0; padding: 0}\n",
              ".list-inline>li {display: inline-block}\n",
              ".list-inline>li:not(:last-child)::after {content: \"\\00b7\"; padding: 0 .5ex}\n",
              "</style>\n",
              "<ol class=list-inline><li>'X1'</li><li>'X4'</li><li>'X12'</li><li>'X16'</li><li>'X20'</li><li>'X27'</li><li>'X35'</li><li>'X36'</li><li>'X37'</li><li>'X38'</li><li>'X39'</li><li>'X41'</li><li>'X45'</li><li>'X47'</li><li>'X49'</li><li>'X50'</li><li>'X51'</li><li>'X52'</li><li>'X53'</li><li>'X58'</li><li>'X61'</li><li>'X69'</li><li>'X73'</li><li>'X75'</li><li>'X82'</li><li>'X83'</li><li>'X87'</li><li>'X93'</li></ol>\n"
            ],
            "text/markdown": "1. 'X1'\n2. 'X4'\n3. 'X12'\n4. 'X16'\n5. 'X20'\n6. 'X27'\n7. 'X35'\n8. 'X36'\n9. 'X37'\n10. 'X38'\n11. 'X39'\n12. 'X41'\n13. 'X45'\n14. 'X47'\n15. 'X49'\n16. 'X50'\n17. 'X51'\n18. 'X52'\n19. 'X53'\n20. 'X58'\n21. 'X61'\n22. 'X69'\n23. 'X73'\n24. 'X75'\n25. 'X82'\n26. 'X83'\n27. 'X87'\n28. 'X93'\n\n\n",
            "text/latex": "\\begin{enumerate*}\n\\item 'X1'\n\\item 'X4'\n\\item 'X12'\n\\item 'X16'\n\\item 'X20'\n\\item 'X27'\n\\item 'X35'\n\\item 'X36'\n\\item 'X37'\n\\item 'X38'\n\\item 'X39'\n\\item 'X41'\n\\item 'X45'\n\\item 'X47'\n\\item 'X49'\n\\item 'X50'\n\\item 'X51'\n\\item 'X52'\n\\item 'X53'\n\\item 'X58'\n\\item 'X61'\n\\item 'X69'\n\\item 'X73'\n\\item 'X75'\n\\item 'X82'\n\\item 'X83'\n\\item 'X87'\n\\item 'X93'\n\\end{enumerate*}\n",
            "text/plain": [
              " [1] \"X1\"  \"X4\"  \"X12\" \"X16\" \"X20\" \"X27\" \"X35\" \"X36\" \"X37\" \"X38\" \"X39\" \"X41\"\n",
              "[13] \"X45\" \"X47\" \"X49\" \"X50\" \"X51\" \"X52\" \"X53\" \"X58\" \"X61\" \"X69\" \"X73\" \"X75\"\n",
              "[25] \"X82\" \"X83\" \"X87\" \"X93\""
            ]
          },
          "metadata": {}
        },
        {
          "output_type": "display_data",
          "data": {
            "text/html": [
              "'Y'"
            ],
            "text/markdown": "'Y'",
            "text/latex": "'Y'",
            "text/plain": [
              "[1] \"Y\""
            ]
          },
          "metadata": {}
        }
      ]
    },
    {
      "cell_type": "code",
      "source": [
        "options(scipen = 100)\n",
        "data.frame(apply(training_x, 2, mean)) # some variables have very large scale"
      ],
      "metadata": {
        "id": "q41jluueSyCP",
        "colab": {
          "base_uri": "https://localhost:8080/",
          "height": 976
        },
        "outputId": "c048370d-60a6-4861-a1f7-4bdfb991a1bd"
      },
      "execution_count": null,
      "outputs": [
        {
          "output_type": "display_data",
          "data": {
            "text/html": [
              "<table class=\"dataframe\">\n",
              "<caption>A data.frame: 28 × 1</caption>\n",
              "<thead>\n",
              "\t<tr><th></th><th scope=col>apply.training_x..2..mean.</th></tr>\n",
              "\t<tr><th></th><th scope=col>&lt;dbl&gt;</th></tr>\n",
              "</thead>\n",
              "<tbody>\n",
              "\t<tr><th scope=row>X1</th><td>         0.479119018</td></tr>\n",
              "\t<tr><th scope=row>X4</th><td>         0.604944875</td></tr>\n",
              "\t<tr><th scope=row>X12</th><td>1693833208.681266069</td></tr>\n",
              "\t<tr><th scope=row>X16</th><td>         0.180228011</td></tr>\n",
              "\t<tr><th scope=row>X20</th><td>         0.320850917</td></tr>\n",
              "\t<tr><th scope=row>X27</th><td>         0.689036921</td></tr>\n",
              "\t<tr><th scope=row>X35</th><td>         0.630245778</td></tr>\n",
              "\t<tr><th scope=row>X36</th><td>  10757414.726010077</td></tr>\n",
              "\t<tr><th scope=row>X37</th><td>         0.138938626</td></tr>\n",
              "\t<tr><th scope=row>X38</th><td>         0.861061374</td></tr>\n",
              "\t<tr><th scope=row>X39</th><td>         0.011401875</td></tr>\n",
              "\t<tr><th scope=row>X41</th><td>         0.005867023</td></tr>\n",
              "\t<tr><th scope=row>X45</th><td>         0.126778741</td></tr>\n",
              "\t<tr><th scope=row>X47</th><td>   6432700.064216668</td></tr>\n",
              "\t<tr><th scope=row>X49</th><td>1407103109.386487961</td></tr>\n",
              "\t<tr><th scope=row>X50</th><td>         0.038639256</td></tr>\n",
              "\t<tr><th scope=row>X51</th><td>         0.036576320</td></tr>\n",
              "\t<tr><th scope=row>X52</th><td>         0.394982693</td></tr>\n",
              "\t<tr><th scope=row>X53</th><td>  15380897.386679854</td></tr>\n",
              "\t<tr><th scope=row>X58</th><td>   1316810.997414810</td></tr>\n",
              "\t<tr><th scope=row>X61</th><td>         0.349138274</td></tr>\n",
              "\t<tr><th scope=row>X69</th><td>         0.002433455</td></tr>\n",
              "\t<tr><th scope=row>X73</th><td>         0.594048851</td></tr>\n",
              "\t<tr><th scope=row>X75</th><td>         0.671624785</td></tr>\n",
              "\t<tr><th scope=row>X82</th><td>         0.581650565</td></tr>\n",
              "\t<tr><th scope=row>X83</th><td>         0.314710641</td></tr>\n",
              "\t<tr><th scope=row>X87</th><td>  30354010.632066857</td></tr>\n",
              "\t<tr><th scope=row>X93</th><td>         0.565568511</td></tr>\n",
              "</tbody>\n",
              "</table>\n"
            ],
            "text/markdown": "\nA data.frame: 28 × 1\n\n| <!--/--> | apply.training_x..2..mean. &lt;dbl&gt; |\n|---|---|\n| X1 |          0.479119018 |\n| X4 |          0.604944875 |\n| X12 | 1693833208.681266069 |\n| X16 |          0.180228011 |\n| X20 |          0.320850917 |\n| X27 |          0.689036921 |\n| X35 |          0.630245778 |\n| X36 |   10757414.726010077 |\n| X37 |          0.138938626 |\n| X38 |          0.861061374 |\n| X39 |          0.011401875 |\n| X41 |          0.005867023 |\n| X45 |          0.126778741 |\n| X47 |    6432700.064216668 |\n| X49 | 1407103109.386487961 |\n| X50 |          0.038639256 |\n| X51 |          0.036576320 |\n| X52 |          0.394982693 |\n| X53 |   15380897.386679854 |\n| X58 |    1316810.997414810 |\n| X61 |          0.349138274 |\n| X69 |          0.002433455 |\n| X73 |          0.594048851 |\n| X75 |          0.671624785 |\n| X82 |          0.581650565 |\n| X83 |          0.314710641 |\n| X87 |   30354010.632066857 |\n| X93 |          0.565568511 |\n\n",
            "text/latex": "A data.frame: 28 × 1\n\\begin{tabular}{r|l}\n  & apply.training\\_x..2..mean.\\\\\n  & <dbl>\\\\\n\\hline\n\tX1 &          0.479119018\\\\\n\tX4 &          0.604944875\\\\\n\tX12 & 1693833208.681266069\\\\\n\tX16 &          0.180228011\\\\\n\tX20 &          0.320850917\\\\\n\tX27 &          0.689036921\\\\\n\tX35 &          0.630245778\\\\\n\tX36 &   10757414.726010077\\\\\n\tX37 &          0.138938626\\\\\n\tX38 &          0.861061374\\\\\n\tX39 &          0.011401875\\\\\n\tX41 &          0.005867023\\\\\n\tX45 &          0.126778741\\\\\n\tX47 &    6432700.064216668\\\\\n\tX49 & 1407103109.386487961\\\\\n\tX50 &          0.038639256\\\\\n\tX51 &          0.036576320\\\\\n\tX52 &          0.394982693\\\\\n\tX53 &   15380897.386679854\\\\\n\tX58 &    1316810.997414810\\\\\n\tX61 &          0.349138274\\\\\n\tX69 &          0.002433455\\\\\n\tX73 &          0.594048851\\\\\n\tX75 &          0.671624785\\\\\n\tX82 &          0.581650565\\\\\n\tX83 &          0.314710641\\\\\n\tX87 &   30354010.632066857\\\\\n\tX93 &          0.565568511\\\\\n\\end{tabular}\n",
            "text/plain": [
              "    apply.training_x..2..mean.\n",
              "X1           0.479119018      \n",
              "X4           0.604944875      \n",
              "X12 1693833208.681266069      \n",
              "X16          0.180228011      \n",
              "X20          0.320850917      \n",
              "X27          0.689036921      \n",
              "X35          0.630245778      \n",
              "X36   10757414.726010077      \n",
              "X37          0.138938626      \n",
              "X38          0.861061374      \n",
              "X39          0.011401875      \n",
              "X41          0.005867023      \n",
              "X45          0.126778741      \n",
              "X47    6432700.064216668      \n",
              "X49 1407103109.386487961      \n",
              "X50          0.038639256      \n",
              "X51          0.036576320      \n",
              "X52          0.394982693      \n",
              "X53   15380897.386679854      \n",
              "X58    1316810.997414810      \n",
              "X61          0.349138274      \n",
              "X69          0.002433455      \n",
              "X73          0.594048851      \n",
              "X75          0.671624785      \n",
              "X82          0.581650565      \n",
              "X83          0.314710641      \n",
              "X87   30354010.632066857      \n",
              "X93          0.565568511      "
            ]
          },
          "metadata": {}
        }
      ]
    },
    {
      "cell_type": "code",
      "source": [
        "data.frame(apply(training_x, 2, var)) # expected that the same vars have larger variance"
      ],
      "metadata": {
        "id": "VFPimBWVT1OQ",
        "colab": {
          "base_uri": "https://localhost:8080/",
          "height": 976
        },
        "outputId": "96a8b14d-2e97-41d2-e9df-b7634d27e0ea"
      },
      "execution_count": null,
      "outputs": [
        {
          "output_type": "display_data",
          "data": {
            "text/html": [
              "<table class=\"dataframe\">\n",
              "<caption>A data.frame: 28 × 1</caption>\n",
              "<thead>\n",
              "\t<tr><th></th><th scope=col>apply.training_x..2..var.</th></tr>\n",
              "\t<tr><th></th><th scope=col>&lt;dbl&gt;</th></tr>\n",
              "</thead>\n",
              "<tbody>\n",
              "\t<tr><th scope=row>X1</th><td>                  0.003775400178</td></tr>\n",
              "\t<tr><th scope=row>X4</th><td>                  0.000138809999</td></tr>\n",
              "\t<tr><th scope=row>X12</th><td>5852657904226684928.000000000000</td></tr>\n",
              "\t<tr><th scope=row>X16</th><td>                  0.000808816323</td></tr>\n",
              "\t<tr><th scope=row>X20</th><td>                  0.000154016079</td></tr>\n",
              "\t<tr><th scope=row>X27</th><td>                  0.000097504636</td></tr>\n",
              "\t<tr><th scope=row>X35</th><td>                  0.000091652787</td></tr>\n",
              "\t<tr><th scope=row>X36</th><td>  39648727931798016.000000000000</td></tr>\n",
              "\t<tr><th scope=row>X37</th><td>                  0.003620051694</td></tr>\n",
              "\t<tr><th scope=row>X38</th><td>                  0.003620051694</td></tr>\n",
              "\t<tr><th scope=row>X39</th><td>                  0.002161790406</td></tr>\n",
              "\t<tr><th scope=row>X41</th><td>                  0.000001756487</td></tr>\n",
              "\t<tr><th scope=row>X45</th><td>                  0.008453001054</td></tr>\n",
              "\t<tr><th scope=row>X47</th><td>  47083865559268176.000000000000</td></tr>\n",
              "\t<tr><th scope=row>X49</th><td>7451005886967611392.000000000000</td></tr>\n",
              "\t<tr><th scope=row>X50</th><td>                  0.000911785586</td></tr>\n",
              "\t<tr><th scope=row>X51</th><td>                  0.002525222520</td></tr>\n",
              "\t<tr><th scope=row>X52</th><td>                  0.000675238386</td></tr>\n",
              "\t<tr><th scope=row>X53</th><td>  71964146489998952.000000000000</td></tr>\n",
              "\t<tr><th scope=row>X58</th><td>  11614272917264878.000000000000</td></tr>\n",
              "\t<tr><th scope=row>X61</th><td>                  0.000901967881</td></tr>\n",
              "\t<tr><th scope=row>X69</th><td>                  0.000148741342</td></tr>\n",
              "\t<tr><th scope=row>X73</th><td>                  0.000026545240</td></tr>\n",
              "\t<tr><th scope=row>X75</th><td>                  0.000016300503</td></tr>\n",
              "\t<tr><th scope=row>X82</th><td>                  0.002727539859</td></tr>\n",
              "\t<tr><th scope=row>X83</th><td>                  0.000032835123</td></tr>\n",
              "\t<tr><th scope=row>X87</th><td> 200096116409090144.000000000000</td></tr>\n",
              "\t<tr><th scope=row>X93</th><td>                  0.000115932426</td></tr>\n",
              "</tbody>\n",
              "</table>\n"
            ],
            "text/markdown": "\nA data.frame: 28 × 1\n\n| <!--/--> | apply.training_x..2..var. &lt;dbl&gt; |\n|---|---|\n| X1 |                   0.003775400178 |\n| X4 |                   0.000138809999 |\n| X12 | 5852657904226684928.000000000000 |\n| X16 |                   0.000808816323 |\n| X20 |                   0.000154016079 |\n| X27 |                   0.000097504636 |\n| X35 |                   0.000091652787 |\n| X36 |   39648727931798016.000000000000 |\n| X37 |                   0.003620051694 |\n| X38 |                   0.003620051694 |\n| X39 |                   0.002161790406 |\n| X41 |                   0.000001756487 |\n| X45 |                   0.008453001054 |\n| X47 |   47083865559268176.000000000000 |\n| X49 | 7451005886967611392.000000000000 |\n| X50 |                   0.000911785586 |\n| X51 |                   0.002525222520 |\n| X52 |                   0.000675238386 |\n| X53 |   71964146489998952.000000000000 |\n| X58 |   11614272917264878.000000000000 |\n| X61 |                   0.000901967881 |\n| X69 |                   0.000148741342 |\n| X73 |                   0.000026545240 |\n| X75 |                   0.000016300503 |\n| X82 |                   0.002727539859 |\n| X83 |                   0.000032835123 |\n| X87 |  200096116409090144.000000000000 |\n| X93 |                   0.000115932426 |\n\n",
            "text/latex": "A data.frame: 28 × 1\n\\begin{tabular}{r|l}\n  & apply.training\\_x..2..var.\\\\\n  & <dbl>\\\\\n\\hline\n\tX1 &                   0.003775400178\\\\\n\tX4 &                   0.000138809999\\\\\n\tX12 & 5852657904226684928.000000000000\\\\\n\tX16 &                   0.000808816323\\\\\n\tX20 &                   0.000154016079\\\\\n\tX27 &                   0.000097504636\\\\\n\tX35 &                   0.000091652787\\\\\n\tX36 &   39648727931798016.000000000000\\\\\n\tX37 &                   0.003620051694\\\\\n\tX38 &                   0.003620051694\\\\\n\tX39 &                   0.002161790406\\\\\n\tX41 &                   0.000001756487\\\\\n\tX45 &                   0.008453001054\\\\\n\tX47 &   47083865559268176.000000000000\\\\\n\tX49 & 7451005886967611392.000000000000\\\\\n\tX50 &                   0.000911785586\\\\\n\tX51 &                   0.002525222520\\\\\n\tX52 &                   0.000675238386\\\\\n\tX53 &   71964146489998952.000000000000\\\\\n\tX58 &   11614272917264878.000000000000\\\\\n\tX61 &                   0.000901967881\\\\\n\tX69 &                   0.000148741342\\\\\n\tX73 &                   0.000026545240\\\\\n\tX75 &                   0.000016300503\\\\\n\tX82 &                   0.002727539859\\\\\n\tX83 &                   0.000032835123\\\\\n\tX87 &  200096116409090144.000000000000\\\\\n\tX93 &                   0.000115932426\\\\\n\\end{tabular}\n",
            "text/plain": [
              "    apply.training_x..2..var.       \n",
              "X1                    0.003775400178\n",
              "X4                    0.000138809999\n",
              "X12 5852657904226684928.000000000000\n",
              "X16                   0.000808816323\n",
              "X20                   0.000154016079\n",
              "X27                   0.000097504636\n",
              "X35                   0.000091652787\n",
              "X36   39648727931798016.000000000000\n",
              "X37                   0.003620051694\n",
              "X38                   0.003620051694\n",
              "X39                   0.002161790406\n",
              "X41                   0.000001756487\n",
              "X45                   0.008453001054\n",
              "X47   47083865559268176.000000000000\n",
              "X49 7451005886967611392.000000000000\n",
              "X50                   0.000911785586\n",
              "X51                   0.002525222520\n",
              "X52                   0.000675238386\n",
              "X53   71964146489998952.000000000000\n",
              "X58   11614272917264878.000000000000\n",
              "X61                   0.000901967881\n",
              "X69                   0.000148741342\n",
              "X73                   0.000026545240\n",
              "X75                   0.000016300503\n",
              "X82                   0.002727539859\n",
              "X83                   0.000032835123\n",
              "X87  200096116409090144.000000000000\n",
              "X93                   0.000115932426"
            ]
          },
          "metadata": {}
        }
      ]
    },
    {
      "cell_type": "code",
      "source": [
        "# center variables to mean 0 and scale to sd 1\n",
        "pr.out = prcomp(training_x, scale = T, retx = T)"
      ],
      "metadata": {
        "id": "U2uwNJk3MLlq"
      },
      "execution_count": null,
      "outputs": []
    },
    {
      "cell_type": "code",
      "source": [
        "pr.out$rotation^2 %>% apply(2, sum) # check\n",
        "\n",
        "# For the rotation matrix below, PC1 = -0.379X1 + -0.296X4 + ..., the square of coefs add up to 1\n",
        "# tells us how to get PCs from various predictor variables"
      ],
      "metadata": {
        "colab": {
          "base_uri": "https://localhost:8080/",
          "height": 104
        },
        "id": "346PmngtrgZn",
        "outputId": "b516ac4f-c47d-4e35-b4ce-4fab7cc1932a"
      },
      "execution_count": null,
      "outputs": [
        {
          "output_type": "display_data",
          "data": {
            "text/html": [
              "<style>\n",
              ".dl-inline {width: auto; margin:0; padding: 0}\n",
              ".dl-inline>dt, .dl-inline>dd {float: none; width: auto; display: inline-block}\n",
              ".dl-inline>dt::after {content: \":\\0020\"; padding-right: .5ex}\n",
              ".dl-inline>dt:not(:first-of-type) {padding-left: .5ex}\n",
              "</style><dl class=dl-inline><dt>PC1</dt><dd>1</dd><dt>PC2</dt><dd>1</dd><dt>PC3</dt><dd>0.999999999999999</dd><dt>PC4</dt><dd>1</dd><dt>PC5</dt><dd>1</dd><dt>PC6</dt><dd>0.999999999999999</dd><dt>PC7</dt><dd>0.999999999999999</dd><dt>PC8</dt><dd>0.999999999999999</dd><dt>PC9</dt><dd>1</dd><dt>PC10</dt><dd>1</dd><dt>PC11</dt><dd>1</dd><dt>PC12</dt><dd>1</dd><dt>PC13</dt><dd>0.999999999999999</dd><dt>PC14</dt><dd>1</dd><dt>PC15</dt><dd>1</dd><dt>PC16</dt><dd>1</dd><dt>PC17</dt><dd>1</dd><dt>PC18</dt><dd>1</dd><dt>PC19</dt><dd>1</dd><dt>PC20</dt><dd>1</dd><dt>PC21</dt><dd>1</dd><dt>PC22</dt><dd>1</dd><dt>PC23</dt><dd>1</dd><dt>PC24</dt><dd>1</dd><dt>PC25</dt><dd>1</dd><dt>PC26</dt><dd>1</dd><dt>PC27</dt><dd>0.999999999999999</dd><dt>PC28</dt><dd>1</dd></dl>\n"
            ],
            "text/markdown": "PC1\n:   1PC2\n:   1PC3\n:   0.999999999999999PC4\n:   1PC5\n:   1PC6\n:   0.999999999999999PC7\n:   0.999999999999999PC8\n:   0.999999999999999PC9\n:   1PC10\n:   1PC11\n:   1PC12\n:   1PC13\n:   0.999999999999999PC14\n:   1PC15\n:   1PC16\n:   1PC17\n:   1PC18\n:   1PC19\n:   1PC20\n:   1PC21\n:   1PC22\n:   1PC23\n:   1PC24\n:   1PC25\n:   1PC26\n:   1PC27\n:   0.999999999999999PC28\n:   1\n\n",
            "text/latex": "\\begin{description*}\n\\item[PC1] 1\n\\item[PC2] 1\n\\item[PC3] 0.999999999999999\n\\item[PC4] 1\n\\item[PC5] 1\n\\item[PC6] 0.999999999999999\n\\item[PC7] 0.999999999999999\n\\item[PC8] 0.999999999999999\n\\item[PC9] 1\n\\item[PC10] 1\n\\item[PC11] 1\n\\item[PC12] 1\n\\item[PC13] 0.999999999999999\n\\item[PC14] 1\n\\item[PC15] 1\n\\item[PC16] 1\n\\item[PC17] 1\n\\item[PC18] 1\n\\item[PC19] 1\n\\item[PC20] 1\n\\item[PC21] 1\n\\item[PC22] 1\n\\item[PC23] 1\n\\item[PC24] 1\n\\item[PC25] 1\n\\item[PC26] 1\n\\item[PC27] 0.999999999999999\n\\item[PC28] 1\n\\end{description*}\n",
            "text/plain": [
              " PC1  PC2  PC3  PC4  PC5  PC6  PC7  PC8  PC9 PC10 PC11 PC12 PC13 PC14 PC15 PC16 \n",
              "   1    1    1    1    1    1    1    1    1    1    1    1    1    1    1    1 \n",
              "PC17 PC18 PC19 PC20 PC21 PC22 PC23 PC24 PC25 PC26 PC27 PC28 \n",
              "   1    1    1    1    1    1    1    1    1    1    1    1 "
            ]
          },
          "metadata": {}
        }
      ]
    },
    {
      "cell_type": "code",
      "source": [
        "pr.out$rotation # Each PC is a linear combination of 28 variables, the coefficient is as shown in each entry below."
      ],
      "metadata": {
        "colab": {
          "base_uri": "https://localhost:8080/",
          "height": 964
        },
        "id": "mR_iKpG6Weo-",
        "outputId": "ff7c07fb-abe3-4fd2-e87b-e8a4ff15e058"
      },
      "execution_count": null,
      "outputs": [
        {
          "output_type": "display_data",
          "data": {
            "text/html": [
              "<table class=\"dataframe\">\n",
              "<caption>A matrix: 28 × 28 of type dbl</caption>\n",
              "<thead>\n",
              "\t<tr><th></th><th scope=col>PC1</th><th scope=col>PC2</th><th scope=col>PC3</th><th scope=col>PC4</th><th scope=col>PC5</th><th scope=col>PC6</th><th scope=col>PC7</th><th scope=col>PC8</th><th scope=col>PC9</th><th scope=col>PC10</th><th scope=col>⋯</th><th scope=col>PC19</th><th scope=col>PC20</th><th scope=col>PC21</th><th scope=col>PC22</th><th scope=col>PC23</th><th scope=col>PC24</th><th scope=col>PC25</th><th scope=col>PC26</th><th scope=col>PC27</th><th scope=col>PC28</th></tr>\n",
              "</thead>\n",
              "<tbody>\n",
              "\t<tr><th scope=row>X1</th><td>-0.379347296</td><td> 0.112897881</td><td>-0.0002756565</td><td> 0.10700917</td><td>-0.127026584</td><td> 0.032050009</td><td>-0.037951532</td><td> 0.10921013</td><td> 0.0229645094</td><td> 0.0203322848</td><td>⋯</td><td> 0.228222571</td><td>-0.0597367358</td><td>-0.179292511</td><td> 0.4527486885</td><td> 0.0614262177</td><td>-0.580838095</td><td> 0.2205428300</td><td>-0.06403424282</td><td>-0.0042787579</td><td>-0.000000000000000258344828</td></tr>\n",
              "\t<tr><th scope=row>X4</th><td>-0.296833187</td><td>-0.047381264</td><td>-0.0061632182</td><td> 0.11701838</td><td>-0.009391422</td><td> 0.049074259</td><td>-0.209565137</td><td> 0.12323993</td><td> 0.1817066701</td><td>-0.0589428502</td><td>⋯</td><td>-0.290407450</td><td> 0.2083934210</td><td> 0.404641693</td><td>-0.2859965188</td><td>-0.0735013430</td><td>-0.036281811</td><td>-0.0728522284</td><td>-0.01136134593</td><td> 0.0029055403</td><td>-0.000000000000000501801714</td></tr>\n",
              "\t<tr><th scope=row>X12</th><td>-0.071263689</td><td>-0.029651588</td><td> 0.0352757576</td><td>-0.08536303</td><td>-0.143468517</td><td> 0.048358059</td><td>-0.269071330</td><td>-0.42315379</td><td> 0.1637471354</td><td> 0.1518509552</td><td>⋯</td><td>-0.111965623</td><td> 0.0400666298</td><td>-0.007111246</td><td> 0.0006949702</td><td>-0.0027930520</td><td>-0.048156573</td><td> 0.0267589392</td><td>-0.01453417613</td><td>-0.0017894501</td><td>-0.000000000000000010959768</td></tr>\n",
              "\t<tr><th scope=row>X16</th><td>-0.318916552</td><td> 0.082144670</td><td>-0.0106875233</td><td> 0.19310271</td><td>-0.190520128</td><td> 0.045570413</td><td> 0.054284889</td><td> 0.08320257</td><td>-0.0670989348</td><td> 0.0828382845</td><td>⋯</td><td> 0.659595677</td><td> 0.0529745545</td><td> 0.248138578</td><td>-0.1813518625</td><td>-0.2149189756</td><td> 0.337887367</td><td>-0.0747686319</td><td> 0.11650759184</td><td> 0.0012123819</td><td> 0.000000000000000218536029</td></tr>\n",
              "\t<tr><th scope=row>X20</th><td>-0.299907300</td><td> 0.127351798</td><td> 0.0452475693</td><td>-0.31964621</td><td> 0.190350161</td><td>-0.089064906</td><td>-0.197986504</td><td> 0.12897793</td><td>-0.1697260858</td><td> 0.0497929244</td><td>⋯</td><td> 0.099067782</td><td> 0.0215037874</td><td> 0.081154372</td><td>-0.3072396962</td><td> 0.4327826702</td><td>-0.049911135</td><td> 0.1173538792</td><td>-0.48659669453</td><td> 0.0084414117</td><td> 0.000000000000000073914925</td></tr>\n",
              "\t<tr><th scope=row>X27</th><td>-0.029225642</td><td> 0.041103148</td><td>-0.0053921252</td><td> 0.06591588</td><td>-0.081288035</td><td> 0.042832475</td><td> 0.026116949</td><td> 0.06832587</td><td> 0.4197124718</td><td> 0.0107639895</td><td>⋯</td><td>-0.051092247</td><td> 0.0171647583</td><td> 0.027162230</td><td>-0.0428583335</td><td>-0.0084895893</td><td> 0.019161157</td><td>-0.0026146845</td><td> 0.00668210190</td><td> 0.0001377030</td><td>-0.000000000000000132575408</td></tr>\n",
              "\t<tr><th scope=row>X35</th><td>-0.036140134</td><td> 0.035572825</td><td> 0.0048266590</td><td>-0.01684632</td><td>-0.085283170</td><td> 0.078764272</td><td> 0.052779830</td><td>-0.13150999</td><td>-0.0091327833</td><td> 0.7137058173</td><td>⋯</td><td> 0.014083879</td><td> 0.0129925925</td><td> 0.027246311</td><td> 0.0074057458</td><td>-0.0075888246</td><td>-0.014760857</td><td>-0.0007533235</td><td>-0.00446365422</td><td>-0.0005558952</td><td> 0.000000000000000250717865</td></tr>\n",
              "\t<tr><th scope=row>X36</th><td>-0.050394429</td><td>-0.072520000</td><td>-0.0075684204</td><td>-0.13049123</td><td> 0.256653908</td><td>-0.206883355</td><td> 0.630153115</td><td>-0.22812533</td><td> 0.2149287454</td><td>-0.0204405623</td><td>⋯</td><td> 0.221254721</td><td> 0.0254885688</td><td> 0.030268601</td><td>-0.2222839235</td><td> 0.3374629554</td><td>-0.159885485</td><td>-0.0646252196</td><td> 0.14061714160</td><td>-0.0078337816</td><td>-0.000000000000000090715921</td></tr>\n",
              "\t<tr><th scope=row>X37</th><td> 0.371405955</td><td> 0.203400342</td><td> 0.0105772119</td><td>-0.17309064</td><td> 0.177916731</td><td>-0.019676427</td><td>-0.148412310</td><td> 0.21507423</td><td> 0.0304412143</td><td> 0.0852750838</td><td>⋯</td><td> 0.251478271</td><td> 0.0194507477</td><td> 0.051781300</td><td> 0.0620592644</td><td>-0.0930043297</td><td>-0.059094641</td><td>-0.1100084089</td><td>-0.05950233504</td><td>-0.0036896113</td><td> 0.707106781186547239670404</td></tr>\n",
              "\t<tr><th scope=row>X38</th><td>-0.371405955</td><td>-0.203400342</td><td>-0.0105772119</td><td> 0.17309064</td><td>-0.177916731</td><td> 0.019676427</td><td> 0.148412310</td><td>-0.21507423</td><td>-0.0304412143</td><td>-0.0852750838</td><td>⋯</td><td>-0.251478271</td><td>-0.0194507477</td><td>-0.051781300</td><td>-0.0620592644</td><td> 0.0930043297</td><td> 0.059094641</td><td> 0.1100084089</td><td> 0.05950233504</td><td> 0.0036896113</td><td> 0.707106781186547572737311</td></tr>\n",
              "\t<tr><th scope=row>X39</th><td> 0.036531339</td><td> 0.079787856</td><td>-0.0945443392</td><td> 0.42917393</td><td> 0.233211009</td><td>-0.449715079</td><td>-0.138560781</td><td>-0.05798147</td><td> 0.0253267822</td><td> 0.0658551093</td><td>⋯</td><td>-0.036103685</td><td> 0.1110582573</td><td> 0.355486378</td><td> 0.4481325712</td><td> 0.3513030488</td><td> 0.202441792</td><td>-0.0121067778</td><td> 0.02333863030</td><td> 0.0157029701</td><td> 0.000000000000000096414944</td></tr>\n",
              "\t<tr><th scope=row>X41</th><td> 0.059224826</td><td>-0.020018575</td><td>-0.0075034708</td><td> 0.10969534</td><td>-0.031762956</td><td>-0.002108625</td><td> 0.211242306</td><td> 0.03304718</td><td>-0.5975960009</td><td>-0.1509601104</td><td>⋯</td><td>-0.133738360</td><td> 0.0125448913</td><td> 0.012159498</td><td>-0.0059249874</td><td> 0.0384978653</td><td> 0.024746093</td><td>-0.0146321884</td><td> 0.02161767277</td><td>-0.0023270989</td><td>-0.000000000000000134757846</td></tr>\n",
              "\t<tr><th scope=row>X45</th><td>-0.048778477</td><td> 0.513555210</td><td>-0.0330079576</td><td>-0.04310994</td><td>-0.161445753</td><td> 0.018662252</td><td> 0.082838854</td><td>-0.24219475</td><td> 0.0188634780</td><td>-0.0398882454</td><td>⋯</td><td>-0.152722681</td><td>-0.0552469591</td><td>-0.073226518</td><td> 0.0530428997</td><td> 0.0650020250</td><td> 0.040852685</td><td>-0.6506385313</td><td>-0.20208340818</td><td>-0.0112781533</td><td>-0.000000000000000040382552</td></tr>\n",
              "\t<tr><th scope=row>X47</th><td>-0.028067353</td><td> 0.045582264</td><td>-0.0208897175</td><td> 0.18197956</td><td> 0.466884437</td><td> 0.443131392</td><td>-0.050753552</td><td>-0.17456967</td><td>-0.0355311723</td><td>-0.0282492862</td><td>⋯</td><td> 0.071619337</td><td> 0.6479712781</td><td>-0.259673965</td><td> 0.0174468277</td><td> 0.0005129974</td><td> 0.034097742</td><td> 0.0102000240</td><td>-0.00522218008</td><td> 0.0003985291</td><td>-0.000000000000000139535551</td></tr>\n",
              "\t<tr><th scope=row>X49</th><td> 0.039090079</td><td>-0.250578859</td><td> 0.0589193548</td><td>-0.12541299</td><td> 0.166631088</td><td>-0.015582317</td><td> 0.047495912</td><td> 0.28111214</td><td> 0.0843547274</td><td> 0.3541382212</td><td>⋯</td><td>-0.263936950</td><td> 0.0233959418</td><td> 0.052433935</td><td>-0.0205917624</td><td> 0.0125073320</td><td> 0.026493026</td><td>-0.0386548109</td><td>-0.00585125981</td><td>-0.0042927672</td><td> 0.000000000000000131920117</td></tr>\n",
              "\t<tr><th scope=row>X50</th><td> 0.097527932</td><td> 0.524966919</td><td>-0.0289977745</td><td>-0.15864305</td><td>-0.029455563</td><td>-0.001045486</td><td> 0.009220814</td><td>-0.14549200</td><td> 0.0359747530</td><td> 0.0015901240</td><td>⋯</td><td>-0.114825173</td><td>-0.0513399654</td><td> 0.009153920</td><td>-0.0894914468</td><td> 0.0631184253</td><td> 0.269601774</td><td> 0.6291928431</td><td> 0.23485674565</td><td> 0.0096244299</td><td> 0.000000000000000377461359</td></tr>\n",
              "\t<tr><th scope=row>X51</th><td> 0.029959042</td><td> 0.418786768</td><td>-0.0642591770</td><td> 0.16827728</td><td>-0.001747859</td><td>-0.033421462</td><td> 0.302347718</td><td> 0.14690638</td><td>-0.0292865484</td><td> 0.0537836733</td><td>⋯</td><td>-0.215181111</td><td> 0.2083971350</td><td> 0.279593571</td><td>-0.1359602935</td><td>-0.2789382778</td><td>-0.412120008</td><td> 0.0869419239</td><td>-0.01770799879</td><td>-0.0001716112</td><td>-0.000000000000000626985677</td></tr>\n",
              "\t<tr><th scope=row>X52</th><td>-0.174644029</td><td> 0.216493157</td><td>-0.0357791082</td><td> 0.26494883</td><td> 0.021431847</td><td> 0.159830462</td><td> 0.112389171</td><td> 0.39520549</td><td> 0.1192732691</td><td> 0.1333504170</td><td>⋯</td><td>-0.136257529</td><td>-0.1704031034</td><td>-0.439507367</td><td>-0.0224530314</td><td> 0.2405796898</td><td> 0.307436461</td><td>-0.0452787658</td><td> 0.00455668743</td><td>-0.0041454937</td><td> 0.000000000000000323610293</td></tr>\n",
              "\t<tr><th scope=row>X53</th><td> 0.024831501</td><td> 0.028830015</td><td>-0.0707315356</td><td> 0.37592174</td><td> 0.224213095</td><td>-0.481910444</td><td>-0.226849162</td><td>-0.10331987</td><td> 0.0046425958</td><td> 0.0673148321</td><td>⋯</td><td> 0.035444845</td><td>-0.1596219049</td><td>-0.399823330</td><td>-0.4353140952</td><td>-0.2575011269</td><td>-0.157686231</td><td> 0.0085860201</td><td>-0.01793720339</td><td>-0.0074227303</td><td>-0.000000000000000047085178</td></tr>\n",
              "\t<tr><th scope=row>X58</th><td> 0.001795209</td><td> 0.006940876</td><td>-0.0044992240</td><td> 0.03647178</td><td>-0.005320436</td><td> 0.026665942</td><td> 0.040778620</td><td> 0.19544364</td><td> 0.2193673424</td><td> 0.1362866185</td><td>⋯</td><td> 0.004651954</td><td> 0.0033088847</td><td> 0.019405998</td><td> 0.0058086395</td><td> 0.0018965541</td><td>-0.007397887</td><td> 0.0007973103</td><td> 0.00008972808</td><td> 0.0002745967</td><td>-0.000000000000000005337056</td></tr>\n",
              "\t<tr><th scope=row>X61</th><td>-0.312292397</td><td>-0.009227700</td><td> 0.0091233328</td><td>-0.22995801</td><td> 0.305900743</td><td>-0.205891852</td><td> 0.255588050</td><td>-0.06451291</td><td> 0.0473128457</td><td> 0.0008440539</td><td>⋯</td><td>-0.096984528</td><td>-0.0377940408</td><td>-0.047850756</td><td> 0.3087324472</td><td>-0.5358588152</td><td> 0.293079230</td><td> 0.0931439205</td><td>-0.35320242245</td><td> 0.0390188439</td><td>-0.000000000000000150455207</td></tr>\n",
              "\t<tr><th scope=row>X69</th><td>-0.039943334</td><td> 0.032762583</td><td>-0.0198591218</td><td> 0.19369766</td><td> 0.460668595</td><td> 0.457797491</td><td>-0.036227592</td><td>-0.15308438</td><td>-0.0231805057</td><td>-0.0207503868</td><td>⋯</td><td>-0.004283809</td><td>-0.6385159222</td><td> 0.296580779</td><td>-0.0202922613</td><td>-0.0328673634</td><td>-0.090520450</td><td>-0.0072166422</td><td> 0.00508575367</td><td>-0.0017870780</td><td> 0.000000000000000155530950</td></tr>\n",
              "\t<tr><th scope=row>X73</th><td>-0.014152865</td><td>-0.060722897</td><td>-0.6962384816</td><td>-0.09571183</td><td>-0.010510612</td><td> 0.026496082</td><td>-0.010128489</td><td> 0.01325605</td><td> 0.0003839643</td><td> 0.0117503143</td><td>⋯</td><td> 0.003083790</td><td> 0.0009366033</td><td> 0.003714641</td><td> 0.0086136143</td><td>-0.0068345175</td><td> 0.010863485</td><td> 0.0136016567</td><td>-0.02358214128</td><td>-0.7066784904</td><td>-0.000000000000000192030601</td></tr>\n",
              "\t<tr><th scope=row>X75</th><td>-0.010348567</td><td>-0.054717524</td><td>-0.6952917436</td><td>-0.10136412</td><td>-0.017572323</td><td> 0.037414961</td><td>-0.022098840</td><td> 0.02045231</td><td>-0.0053586046</td><td> 0.0151198433</td><td>⋯</td><td> 0.006956400</td><td>-0.0052009706</td><td>-0.013995412</td><td>-0.0117749344</td><td> 0.0103943971</td><td>-0.021982668</td><td>-0.0232508723</td><td> 0.02731133989</td><td> 0.7051601958</td><td> 0.000000000000000144003890</td></tr>\n",
              "\t<tr><th scope=row>X82</th><td>-0.329031985</td><td> 0.110196150</td><td> 0.0459704021</td><td>-0.33299724</td><td> 0.246346878</td><td>-0.125241448</td><td>-0.170377975</td><td> 0.09736142</td><td>-0.0906304202</td><td> 0.0304921597</td><td>⋯</td><td>-0.077513096</td><td>-0.0068007653</td><td>-0.056172358</td><td> 0.0822577281</td><td>-0.0442717536</td><td>-0.075344812</td><td>-0.2385535421</td><td> 0.70232374397</td><td>-0.0324452460</td><td> 0.000000000000000064123149</td></tr>\n",
              "\t<tr><th scope=row>X83</th><td>-0.176655637</td><td> 0.120141858</td><td>-0.0132020725</td><td>-0.09413809</td><td> 0.009819559</td><td>-0.063353160</td><td>-0.228952041</td><td>-0.03361440</td><td>-0.1479645916</td><td>-0.1497891173</td><td>⋯</td><td>-0.021335607</td><td> 0.0191062468</td><td> 0.023360684</td><td>-0.0448136853</td><td>-0.0184960920</td><td> 0.033614260</td><td>-0.0171465360</td><td>-0.01448135389</td><td>-0.0044051627</td><td>-0.000000000000000037817396</td></tr>\n",
              "\t<tr><th scope=row>X87</th><td> 0.026507055</td><td> 0.038527188</td><td>-0.0002424837</td><td>-0.05308408</td><td> 0.003282315</td><td> 0.003041355</td><td>-0.117595110</td><td>-0.25671579</td><td> 0.3493024898</td><td>-0.1377701276</td><td>⋯</td><td> 0.123710249</td><td>-0.0104215229</td><td>-0.015083596</td><td> 0.0355492484</td><td>-0.0066056169</td><td>-0.005242093</td><td> 0.0063335210</td><td>-0.03131377177</td><td> 0.0013757112</td><td>-0.000000000000000106543183</td></tr>\n",
              "\t<tr><th scope=row>X93</th><td>-0.001496789</td><td> 0.014498852</td><td> 0.0035948057</td><td>-0.02950095</td><td> 0.041939651</td><td> 0.002423439</td><td> 0.014447822</td><td> 0.28040301</td><td> 0.3100015563</td><td>-0.4442993659</td><td>⋯</td><td>-0.005315073</td><td>-0.0055604203</td><td>-0.006641076</td><td> 0.0051140414</td><td> 0.0056779773</td><td> 0.024117569</td><td> 0.0059764366</td><td>-0.00603055430</td><td> 0.0007436823</td><td> 0.000000000000000207580388</td></tr>\n",
              "</tbody>\n",
              "</table>\n"
            ],
            "text/markdown": "\nA matrix: 28 × 28 of type dbl\n\n| <!--/--> | PC1 | PC2 | PC3 | PC4 | PC5 | PC6 | PC7 | PC8 | PC9 | PC10 | ⋯ | PC19 | PC20 | PC21 | PC22 | PC23 | PC24 | PC25 | PC26 | PC27 | PC28 |\n|---|---|---|---|---|---|---|---|---|---|---|---|---|---|---|---|---|---|---|---|---|---|\n| X1 | -0.379347296 |  0.112897881 | -0.0002756565 |  0.10700917 | -0.127026584 |  0.032050009 | -0.037951532 |  0.10921013 |  0.0229645094 |  0.0203322848 | ⋯ |  0.228222571 | -0.0597367358 | -0.179292511 |  0.4527486885 |  0.0614262177 | -0.580838095 |  0.2205428300 | -0.06403424282 | -0.0042787579 | -0.000000000000000258344828 |\n| X4 | -0.296833187 | -0.047381264 | -0.0061632182 |  0.11701838 | -0.009391422 |  0.049074259 | -0.209565137 |  0.12323993 |  0.1817066701 | -0.0589428502 | ⋯ | -0.290407450 |  0.2083934210 |  0.404641693 | -0.2859965188 | -0.0735013430 | -0.036281811 | -0.0728522284 | -0.01136134593 |  0.0029055403 | -0.000000000000000501801714 |\n| X12 | -0.071263689 | -0.029651588 |  0.0352757576 | -0.08536303 | -0.143468517 |  0.048358059 | -0.269071330 | -0.42315379 |  0.1637471354 |  0.1518509552 | ⋯ | -0.111965623 |  0.0400666298 | -0.007111246 |  0.0006949702 | -0.0027930520 | -0.048156573 |  0.0267589392 | -0.01453417613 | -0.0017894501 | -0.000000000000000010959768 |\n| X16 | -0.318916552 |  0.082144670 | -0.0106875233 |  0.19310271 | -0.190520128 |  0.045570413 |  0.054284889 |  0.08320257 | -0.0670989348 |  0.0828382845 | ⋯ |  0.659595677 |  0.0529745545 |  0.248138578 | -0.1813518625 | -0.2149189756 |  0.337887367 | -0.0747686319 |  0.11650759184 |  0.0012123819 |  0.000000000000000218536029 |\n| X20 | -0.299907300 |  0.127351798 |  0.0452475693 | -0.31964621 |  0.190350161 | -0.089064906 | -0.197986504 |  0.12897793 | -0.1697260858 |  0.0497929244 | ⋯ |  0.099067782 |  0.0215037874 |  0.081154372 | -0.3072396962 |  0.4327826702 | -0.049911135 |  0.1173538792 | -0.48659669453 |  0.0084414117 |  0.000000000000000073914925 |\n| X27 | -0.029225642 |  0.041103148 | -0.0053921252 |  0.06591588 | -0.081288035 |  0.042832475 |  0.026116949 |  0.06832587 |  0.4197124718 |  0.0107639895 | ⋯ | -0.051092247 |  0.0171647583 |  0.027162230 | -0.0428583335 | -0.0084895893 |  0.019161157 | -0.0026146845 |  0.00668210190 |  0.0001377030 | -0.000000000000000132575408 |\n| X35 | -0.036140134 |  0.035572825 |  0.0048266590 | -0.01684632 | -0.085283170 |  0.078764272 |  0.052779830 | -0.13150999 | -0.0091327833 |  0.7137058173 | ⋯ |  0.014083879 |  0.0129925925 |  0.027246311 |  0.0074057458 | -0.0075888246 | -0.014760857 | -0.0007533235 | -0.00446365422 | -0.0005558952 |  0.000000000000000250717865 |\n| X36 | -0.050394429 | -0.072520000 | -0.0075684204 | -0.13049123 |  0.256653908 | -0.206883355 |  0.630153115 | -0.22812533 |  0.2149287454 | -0.0204405623 | ⋯ |  0.221254721 |  0.0254885688 |  0.030268601 | -0.2222839235 |  0.3374629554 | -0.159885485 | -0.0646252196 |  0.14061714160 | -0.0078337816 | -0.000000000000000090715921 |\n| X37 |  0.371405955 |  0.203400342 |  0.0105772119 | -0.17309064 |  0.177916731 | -0.019676427 | -0.148412310 |  0.21507423 |  0.0304412143 |  0.0852750838 | ⋯ |  0.251478271 |  0.0194507477 |  0.051781300 |  0.0620592644 | -0.0930043297 | -0.059094641 | -0.1100084089 | -0.05950233504 | -0.0036896113 |  0.707106781186547239670404 |\n| X38 | -0.371405955 | -0.203400342 | -0.0105772119 |  0.17309064 | -0.177916731 |  0.019676427 |  0.148412310 | -0.21507423 | -0.0304412143 | -0.0852750838 | ⋯ | -0.251478271 | -0.0194507477 | -0.051781300 | -0.0620592644 |  0.0930043297 |  0.059094641 |  0.1100084089 |  0.05950233504 |  0.0036896113 |  0.707106781186547572737311 |\n| X39 |  0.036531339 |  0.079787856 | -0.0945443392 |  0.42917393 |  0.233211009 | -0.449715079 | -0.138560781 | -0.05798147 |  0.0253267822 |  0.0658551093 | ⋯ | -0.036103685 |  0.1110582573 |  0.355486378 |  0.4481325712 |  0.3513030488 |  0.202441792 | -0.0121067778 |  0.02333863030 |  0.0157029701 |  0.000000000000000096414944 |\n| X41 |  0.059224826 | -0.020018575 | -0.0075034708 |  0.10969534 | -0.031762956 | -0.002108625 |  0.211242306 |  0.03304718 | -0.5975960009 | -0.1509601104 | ⋯ | -0.133738360 |  0.0125448913 |  0.012159498 | -0.0059249874 |  0.0384978653 |  0.024746093 | -0.0146321884 |  0.02161767277 | -0.0023270989 | -0.000000000000000134757846 |\n| X45 | -0.048778477 |  0.513555210 | -0.0330079576 | -0.04310994 | -0.161445753 |  0.018662252 |  0.082838854 | -0.24219475 |  0.0188634780 | -0.0398882454 | ⋯ | -0.152722681 | -0.0552469591 | -0.073226518 |  0.0530428997 |  0.0650020250 |  0.040852685 | -0.6506385313 | -0.20208340818 | -0.0112781533 | -0.000000000000000040382552 |\n| X47 | -0.028067353 |  0.045582264 | -0.0208897175 |  0.18197956 |  0.466884437 |  0.443131392 | -0.050753552 | -0.17456967 | -0.0355311723 | -0.0282492862 | ⋯ |  0.071619337 |  0.6479712781 | -0.259673965 |  0.0174468277 |  0.0005129974 |  0.034097742 |  0.0102000240 | -0.00522218008 |  0.0003985291 | -0.000000000000000139535551 |\n| X49 |  0.039090079 | -0.250578859 |  0.0589193548 | -0.12541299 |  0.166631088 | -0.015582317 |  0.047495912 |  0.28111214 |  0.0843547274 |  0.3541382212 | ⋯ | -0.263936950 |  0.0233959418 |  0.052433935 | -0.0205917624 |  0.0125073320 |  0.026493026 | -0.0386548109 | -0.00585125981 | -0.0042927672 |  0.000000000000000131920117 |\n| X50 |  0.097527932 |  0.524966919 | -0.0289977745 | -0.15864305 | -0.029455563 | -0.001045486 |  0.009220814 | -0.14549200 |  0.0359747530 |  0.0015901240 | ⋯ | -0.114825173 | -0.0513399654 |  0.009153920 | -0.0894914468 |  0.0631184253 |  0.269601774 |  0.6291928431 |  0.23485674565 |  0.0096244299 |  0.000000000000000377461359 |\n| X51 |  0.029959042 |  0.418786768 | -0.0642591770 |  0.16827728 | -0.001747859 | -0.033421462 |  0.302347718 |  0.14690638 | -0.0292865484 |  0.0537836733 | ⋯ | -0.215181111 |  0.2083971350 |  0.279593571 | -0.1359602935 | -0.2789382778 | -0.412120008 |  0.0869419239 | -0.01770799879 | -0.0001716112 | -0.000000000000000626985677 |\n| X52 | -0.174644029 |  0.216493157 | -0.0357791082 |  0.26494883 |  0.021431847 |  0.159830462 |  0.112389171 |  0.39520549 |  0.1192732691 |  0.1333504170 | ⋯ | -0.136257529 | -0.1704031034 | -0.439507367 | -0.0224530314 |  0.2405796898 |  0.307436461 | -0.0452787658 |  0.00455668743 | -0.0041454937 |  0.000000000000000323610293 |\n| X53 |  0.024831501 |  0.028830015 | -0.0707315356 |  0.37592174 |  0.224213095 | -0.481910444 | -0.226849162 | -0.10331987 |  0.0046425958 |  0.0673148321 | ⋯ |  0.035444845 | -0.1596219049 | -0.399823330 | -0.4353140952 | -0.2575011269 | -0.157686231 |  0.0085860201 | -0.01793720339 | -0.0074227303 | -0.000000000000000047085178 |\n| X58 |  0.001795209 |  0.006940876 | -0.0044992240 |  0.03647178 | -0.005320436 |  0.026665942 |  0.040778620 |  0.19544364 |  0.2193673424 |  0.1362866185 | ⋯ |  0.004651954 |  0.0033088847 |  0.019405998 |  0.0058086395 |  0.0018965541 | -0.007397887 |  0.0007973103 |  0.00008972808 |  0.0002745967 | -0.000000000000000005337056 |\n| X61 | -0.312292397 | -0.009227700 |  0.0091233328 | -0.22995801 |  0.305900743 | -0.205891852 |  0.255588050 | -0.06451291 |  0.0473128457 |  0.0008440539 | ⋯ | -0.096984528 | -0.0377940408 | -0.047850756 |  0.3087324472 | -0.5358588152 |  0.293079230 |  0.0931439205 | -0.35320242245 |  0.0390188439 | -0.000000000000000150455207 |\n| X69 | -0.039943334 |  0.032762583 | -0.0198591218 |  0.19369766 |  0.460668595 |  0.457797491 | -0.036227592 | -0.15308438 | -0.0231805057 | -0.0207503868 | ⋯ | -0.004283809 | -0.6385159222 |  0.296580779 | -0.0202922613 | -0.0328673634 | -0.090520450 | -0.0072166422 |  0.00508575367 | -0.0017870780 |  0.000000000000000155530950 |\n| X73 | -0.014152865 | -0.060722897 | -0.6962384816 | -0.09571183 | -0.010510612 |  0.026496082 | -0.010128489 |  0.01325605 |  0.0003839643 |  0.0117503143 | ⋯ |  0.003083790 |  0.0009366033 |  0.003714641 |  0.0086136143 | -0.0068345175 |  0.010863485 |  0.0136016567 | -0.02358214128 | -0.7066784904 | -0.000000000000000192030601 |\n| X75 | -0.010348567 | -0.054717524 | -0.6952917436 | -0.10136412 | -0.017572323 |  0.037414961 | -0.022098840 |  0.02045231 | -0.0053586046 |  0.0151198433 | ⋯ |  0.006956400 | -0.0052009706 | -0.013995412 | -0.0117749344 |  0.0103943971 | -0.021982668 | -0.0232508723 |  0.02731133989 |  0.7051601958 |  0.000000000000000144003890 |\n| X82 | -0.329031985 |  0.110196150 |  0.0459704021 | -0.33299724 |  0.246346878 | -0.125241448 | -0.170377975 |  0.09736142 | -0.0906304202 |  0.0304921597 | ⋯ | -0.077513096 | -0.0068007653 | -0.056172358 |  0.0822577281 | -0.0442717536 | -0.075344812 | -0.2385535421 |  0.70232374397 | -0.0324452460 |  0.000000000000000064123149 |\n| X83 | -0.176655637 |  0.120141858 | -0.0132020725 | -0.09413809 |  0.009819559 | -0.063353160 | -0.228952041 | -0.03361440 | -0.1479645916 | -0.1497891173 | ⋯ | -0.021335607 |  0.0191062468 |  0.023360684 | -0.0448136853 | -0.0184960920 |  0.033614260 | -0.0171465360 | -0.01448135389 | -0.0044051627 | -0.000000000000000037817396 |\n| X87 |  0.026507055 |  0.038527188 | -0.0002424837 | -0.05308408 |  0.003282315 |  0.003041355 | -0.117595110 | -0.25671579 |  0.3493024898 | -0.1377701276 | ⋯ |  0.123710249 | -0.0104215229 | -0.015083596 |  0.0355492484 | -0.0066056169 | -0.005242093 |  0.0063335210 | -0.03131377177 |  0.0013757112 | -0.000000000000000106543183 |\n| X93 | -0.001496789 |  0.014498852 |  0.0035948057 | -0.02950095 |  0.041939651 |  0.002423439 |  0.014447822 |  0.28040301 |  0.3100015563 | -0.4442993659 | ⋯ | -0.005315073 | -0.0055604203 | -0.006641076 |  0.0051140414 |  0.0056779773 |  0.024117569 |  0.0059764366 | -0.00603055430 |  0.0007436823 |  0.000000000000000207580388 |\n\n",
            "text/latex": "A matrix: 28 × 28 of type dbl\n\\begin{tabular}{r|lllllllllllllllllllll}\n  & PC1 & PC2 & PC3 & PC4 & PC5 & PC6 & PC7 & PC8 & PC9 & PC10 & ⋯ & PC19 & PC20 & PC21 & PC22 & PC23 & PC24 & PC25 & PC26 & PC27 & PC28\\\\\n\\hline\n\tX1 & -0.379347296 &  0.112897881 & -0.0002756565 &  0.10700917 & -0.127026584 &  0.032050009 & -0.037951532 &  0.10921013 &  0.0229645094 &  0.0203322848 & ⋯ &  0.228222571 & -0.0597367358 & -0.179292511 &  0.4527486885 &  0.0614262177 & -0.580838095 &  0.2205428300 & -0.06403424282 & -0.0042787579 & -0.000000000000000258344828\\\\\n\tX4 & -0.296833187 & -0.047381264 & -0.0061632182 &  0.11701838 & -0.009391422 &  0.049074259 & -0.209565137 &  0.12323993 &  0.1817066701 & -0.0589428502 & ⋯ & -0.290407450 &  0.2083934210 &  0.404641693 & -0.2859965188 & -0.0735013430 & -0.036281811 & -0.0728522284 & -0.01136134593 &  0.0029055403 & -0.000000000000000501801714\\\\\n\tX12 & -0.071263689 & -0.029651588 &  0.0352757576 & -0.08536303 & -0.143468517 &  0.048358059 & -0.269071330 & -0.42315379 &  0.1637471354 &  0.1518509552 & ⋯ & -0.111965623 &  0.0400666298 & -0.007111246 &  0.0006949702 & -0.0027930520 & -0.048156573 &  0.0267589392 & -0.01453417613 & -0.0017894501 & -0.000000000000000010959768\\\\\n\tX16 & -0.318916552 &  0.082144670 & -0.0106875233 &  0.19310271 & -0.190520128 &  0.045570413 &  0.054284889 &  0.08320257 & -0.0670989348 &  0.0828382845 & ⋯ &  0.659595677 &  0.0529745545 &  0.248138578 & -0.1813518625 & -0.2149189756 &  0.337887367 & -0.0747686319 &  0.11650759184 &  0.0012123819 &  0.000000000000000218536029\\\\\n\tX20 & -0.299907300 &  0.127351798 &  0.0452475693 & -0.31964621 &  0.190350161 & -0.089064906 & -0.197986504 &  0.12897793 & -0.1697260858 &  0.0497929244 & ⋯ &  0.099067782 &  0.0215037874 &  0.081154372 & -0.3072396962 &  0.4327826702 & -0.049911135 &  0.1173538792 & -0.48659669453 &  0.0084414117 &  0.000000000000000073914925\\\\\n\tX27 & -0.029225642 &  0.041103148 & -0.0053921252 &  0.06591588 & -0.081288035 &  0.042832475 &  0.026116949 &  0.06832587 &  0.4197124718 &  0.0107639895 & ⋯ & -0.051092247 &  0.0171647583 &  0.027162230 & -0.0428583335 & -0.0084895893 &  0.019161157 & -0.0026146845 &  0.00668210190 &  0.0001377030 & -0.000000000000000132575408\\\\\n\tX35 & -0.036140134 &  0.035572825 &  0.0048266590 & -0.01684632 & -0.085283170 &  0.078764272 &  0.052779830 & -0.13150999 & -0.0091327833 &  0.7137058173 & ⋯ &  0.014083879 &  0.0129925925 &  0.027246311 &  0.0074057458 & -0.0075888246 & -0.014760857 & -0.0007533235 & -0.00446365422 & -0.0005558952 &  0.000000000000000250717865\\\\\n\tX36 & -0.050394429 & -0.072520000 & -0.0075684204 & -0.13049123 &  0.256653908 & -0.206883355 &  0.630153115 & -0.22812533 &  0.2149287454 & -0.0204405623 & ⋯ &  0.221254721 &  0.0254885688 &  0.030268601 & -0.2222839235 &  0.3374629554 & -0.159885485 & -0.0646252196 &  0.14061714160 & -0.0078337816 & -0.000000000000000090715921\\\\\n\tX37 &  0.371405955 &  0.203400342 &  0.0105772119 & -0.17309064 &  0.177916731 & -0.019676427 & -0.148412310 &  0.21507423 &  0.0304412143 &  0.0852750838 & ⋯ &  0.251478271 &  0.0194507477 &  0.051781300 &  0.0620592644 & -0.0930043297 & -0.059094641 & -0.1100084089 & -0.05950233504 & -0.0036896113 &  0.707106781186547239670404\\\\\n\tX38 & -0.371405955 & -0.203400342 & -0.0105772119 &  0.17309064 & -0.177916731 &  0.019676427 &  0.148412310 & -0.21507423 & -0.0304412143 & -0.0852750838 & ⋯ & -0.251478271 & -0.0194507477 & -0.051781300 & -0.0620592644 &  0.0930043297 &  0.059094641 &  0.1100084089 &  0.05950233504 &  0.0036896113 &  0.707106781186547572737311\\\\\n\tX39 &  0.036531339 &  0.079787856 & -0.0945443392 &  0.42917393 &  0.233211009 & -0.449715079 & -0.138560781 & -0.05798147 &  0.0253267822 &  0.0658551093 & ⋯ & -0.036103685 &  0.1110582573 &  0.355486378 &  0.4481325712 &  0.3513030488 &  0.202441792 & -0.0121067778 &  0.02333863030 &  0.0157029701 &  0.000000000000000096414944\\\\\n\tX41 &  0.059224826 & -0.020018575 & -0.0075034708 &  0.10969534 & -0.031762956 & -0.002108625 &  0.211242306 &  0.03304718 & -0.5975960009 & -0.1509601104 & ⋯ & -0.133738360 &  0.0125448913 &  0.012159498 & -0.0059249874 &  0.0384978653 &  0.024746093 & -0.0146321884 &  0.02161767277 & -0.0023270989 & -0.000000000000000134757846\\\\\n\tX45 & -0.048778477 &  0.513555210 & -0.0330079576 & -0.04310994 & -0.161445753 &  0.018662252 &  0.082838854 & -0.24219475 &  0.0188634780 & -0.0398882454 & ⋯ & -0.152722681 & -0.0552469591 & -0.073226518 &  0.0530428997 &  0.0650020250 &  0.040852685 & -0.6506385313 & -0.20208340818 & -0.0112781533 & -0.000000000000000040382552\\\\\n\tX47 & -0.028067353 &  0.045582264 & -0.0208897175 &  0.18197956 &  0.466884437 &  0.443131392 & -0.050753552 & -0.17456967 & -0.0355311723 & -0.0282492862 & ⋯ &  0.071619337 &  0.6479712781 & -0.259673965 &  0.0174468277 &  0.0005129974 &  0.034097742 &  0.0102000240 & -0.00522218008 &  0.0003985291 & -0.000000000000000139535551\\\\\n\tX49 &  0.039090079 & -0.250578859 &  0.0589193548 & -0.12541299 &  0.166631088 & -0.015582317 &  0.047495912 &  0.28111214 &  0.0843547274 &  0.3541382212 & ⋯ & -0.263936950 &  0.0233959418 &  0.052433935 & -0.0205917624 &  0.0125073320 &  0.026493026 & -0.0386548109 & -0.00585125981 & -0.0042927672 &  0.000000000000000131920117\\\\\n\tX50 &  0.097527932 &  0.524966919 & -0.0289977745 & -0.15864305 & -0.029455563 & -0.001045486 &  0.009220814 & -0.14549200 &  0.0359747530 &  0.0015901240 & ⋯ & -0.114825173 & -0.0513399654 &  0.009153920 & -0.0894914468 &  0.0631184253 &  0.269601774 &  0.6291928431 &  0.23485674565 &  0.0096244299 &  0.000000000000000377461359\\\\\n\tX51 &  0.029959042 &  0.418786768 & -0.0642591770 &  0.16827728 & -0.001747859 & -0.033421462 &  0.302347718 &  0.14690638 & -0.0292865484 &  0.0537836733 & ⋯ & -0.215181111 &  0.2083971350 &  0.279593571 & -0.1359602935 & -0.2789382778 & -0.412120008 &  0.0869419239 & -0.01770799879 & -0.0001716112 & -0.000000000000000626985677\\\\\n\tX52 & -0.174644029 &  0.216493157 & -0.0357791082 &  0.26494883 &  0.021431847 &  0.159830462 &  0.112389171 &  0.39520549 &  0.1192732691 &  0.1333504170 & ⋯ & -0.136257529 & -0.1704031034 & -0.439507367 & -0.0224530314 &  0.2405796898 &  0.307436461 & -0.0452787658 &  0.00455668743 & -0.0041454937 &  0.000000000000000323610293\\\\\n\tX53 &  0.024831501 &  0.028830015 & -0.0707315356 &  0.37592174 &  0.224213095 & -0.481910444 & -0.226849162 & -0.10331987 &  0.0046425958 &  0.0673148321 & ⋯ &  0.035444845 & -0.1596219049 & -0.399823330 & -0.4353140952 & -0.2575011269 & -0.157686231 &  0.0085860201 & -0.01793720339 & -0.0074227303 & -0.000000000000000047085178\\\\\n\tX58 &  0.001795209 &  0.006940876 & -0.0044992240 &  0.03647178 & -0.005320436 &  0.026665942 &  0.040778620 &  0.19544364 &  0.2193673424 &  0.1362866185 & ⋯ &  0.004651954 &  0.0033088847 &  0.019405998 &  0.0058086395 &  0.0018965541 & -0.007397887 &  0.0007973103 &  0.00008972808 &  0.0002745967 & -0.000000000000000005337056\\\\\n\tX61 & -0.312292397 & -0.009227700 &  0.0091233328 & -0.22995801 &  0.305900743 & -0.205891852 &  0.255588050 & -0.06451291 &  0.0473128457 &  0.0008440539 & ⋯ & -0.096984528 & -0.0377940408 & -0.047850756 &  0.3087324472 & -0.5358588152 &  0.293079230 &  0.0931439205 & -0.35320242245 &  0.0390188439 & -0.000000000000000150455207\\\\\n\tX69 & -0.039943334 &  0.032762583 & -0.0198591218 &  0.19369766 &  0.460668595 &  0.457797491 & -0.036227592 & -0.15308438 & -0.0231805057 & -0.0207503868 & ⋯ & -0.004283809 & -0.6385159222 &  0.296580779 & -0.0202922613 & -0.0328673634 & -0.090520450 & -0.0072166422 &  0.00508575367 & -0.0017870780 &  0.000000000000000155530950\\\\\n\tX73 & -0.014152865 & -0.060722897 & -0.6962384816 & -0.09571183 & -0.010510612 &  0.026496082 & -0.010128489 &  0.01325605 &  0.0003839643 &  0.0117503143 & ⋯ &  0.003083790 &  0.0009366033 &  0.003714641 &  0.0086136143 & -0.0068345175 &  0.010863485 &  0.0136016567 & -0.02358214128 & -0.7066784904 & -0.000000000000000192030601\\\\\n\tX75 & -0.010348567 & -0.054717524 & -0.6952917436 & -0.10136412 & -0.017572323 &  0.037414961 & -0.022098840 &  0.02045231 & -0.0053586046 &  0.0151198433 & ⋯ &  0.006956400 & -0.0052009706 & -0.013995412 & -0.0117749344 &  0.0103943971 & -0.021982668 & -0.0232508723 &  0.02731133989 &  0.7051601958 &  0.000000000000000144003890\\\\\n\tX82 & -0.329031985 &  0.110196150 &  0.0459704021 & -0.33299724 &  0.246346878 & -0.125241448 & -0.170377975 &  0.09736142 & -0.0906304202 &  0.0304921597 & ⋯ & -0.077513096 & -0.0068007653 & -0.056172358 &  0.0822577281 & -0.0442717536 & -0.075344812 & -0.2385535421 &  0.70232374397 & -0.0324452460 &  0.000000000000000064123149\\\\\n\tX83 & -0.176655637 &  0.120141858 & -0.0132020725 & -0.09413809 &  0.009819559 & -0.063353160 & -0.228952041 & -0.03361440 & -0.1479645916 & -0.1497891173 & ⋯ & -0.021335607 &  0.0191062468 &  0.023360684 & -0.0448136853 & -0.0184960920 &  0.033614260 & -0.0171465360 & -0.01448135389 & -0.0044051627 & -0.000000000000000037817396\\\\\n\tX87 &  0.026507055 &  0.038527188 & -0.0002424837 & -0.05308408 &  0.003282315 &  0.003041355 & -0.117595110 & -0.25671579 &  0.3493024898 & -0.1377701276 & ⋯ &  0.123710249 & -0.0104215229 & -0.015083596 &  0.0355492484 & -0.0066056169 & -0.005242093 &  0.0063335210 & -0.03131377177 &  0.0013757112 & -0.000000000000000106543183\\\\\n\tX93 & -0.001496789 &  0.014498852 &  0.0035948057 & -0.02950095 &  0.041939651 &  0.002423439 &  0.014447822 &  0.28040301 &  0.3100015563 & -0.4442993659 & ⋯ & -0.005315073 & -0.0055604203 & -0.006641076 &  0.0051140414 &  0.0056779773 &  0.024117569 &  0.0059764366 & -0.00603055430 &  0.0007436823 &  0.000000000000000207580388\\\\\n\\end{tabular}\n",
            "text/plain": [
              "    PC1          PC2          PC3           PC4         PC5         \n",
              "X1  -0.379347296  0.112897881 -0.0002756565  0.10700917 -0.127026584\n",
              "X4  -0.296833187 -0.047381264 -0.0061632182  0.11701838 -0.009391422\n",
              "X12 -0.071263689 -0.029651588  0.0352757576 -0.08536303 -0.143468517\n",
              "X16 -0.318916552  0.082144670 -0.0106875233  0.19310271 -0.190520128\n",
              "X20 -0.299907300  0.127351798  0.0452475693 -0.31964621  0.190350161\n",
              "X27 -0.029225642  0.041103148 -0.0053921252  0.06591588 -0.081288035\n",
              "X35 -0.036140134  0.035572825  0.0048266590 -0.01684632 -0.085283170\n",
              "X36 -0.050394429 -0.072520000 -0.0075684204 -0.13049123  0.256653908\n",
              "X37  0.371405955  0.203400342  0.0105772119 -0.17309064  0.177916731\n",
              "X38 -0.371405955 -0.203400342 -0.0105772119  0.17309064 -0.177916731\n",
              "X39  0.036531339  0.079787856 -0.0945443392  0.42917393  0.233211009\n",
              "X41  0.059224826 -0.020018575 -0.0075034708  0.10969534 -0.031762956\n",
              "X45 -0.048778477  0.513555210 -0.0330079576 -0.04310994 -0.161445753\n",
              "X47 -0.028067353  0.045582264 -0.0208897175  0.18197956  0.466884437\n",
              "X49  0.039090079 -0.250578859  0.0589193548 -0.12541299  0.166631088\n",
              "X50  0.097527932  0.524966919 -0.0289977745 -0.15864305 -0.029455563\n",
              "X51  0.029959042  0.418786768 -0.0642591770  0.16827728 -0.001747859\n",
              "X52 -0.174644029  0.216493157 -0.0357791082  0.26494883  0.021431847\n",
              "X53  0.024831501  0.028830015 -0.0707315356  0.37592174  0.224213095\n",
              "X58  0.001795209  0.006940876 -0.0044992240  0.03647178 -0.005320436\n",
              "X61 -0.312292397 -0.009227700  0.0091233328 -0.22995801  0.305900743\n",
              "X69 -0.039943334  0.032762583 -0.0198591218  0.19369766  0.460668595\n",
              "X73 -0.014152865 -0.060722897 -0.6962384816 -0.09571183 -0.010510612\n",
              "X75 -0.010348567 -0.054717524 -0.6952917436 -0.10136412 -0.017572323\n",
              "X82 -0.329031985  0.110196150  0.0459704021 -0.33299724  0.246346878\n",
              "X83 -0.176655637  0.120141858 -0.0132020725 -0.09413809  0.009819559\n",
              "X87  0.026507055  0.038527188 -0.0002424837 -0.05308408  0.003282315\n",
              "X93 -0.001496789  0.014498852  0.0035948057 -0.02950095  0.041939651\n",
              "    PC6          PC7          PC8         PC9           PC10          ⋯\n",
              "X1   0.032050009 -0.037951532  0.10921013  0.0229645094  0.0203322848 ⋯\n",
              "X4   0.049074259 -0.209565137  0.12323993  0.1817066701 -0.0589428502 ⋯\n",
              "X12  0.048358059 -0.269071330 -0.42315379  0.1637471354  0.1518509552 ⋯\n",
              "X16  0.045570413  0.054284889  0.08320257 -0.0670989348  0.0828382845 ⋯\n",
              "X20 -0.089064906 -0.197986504  0.12897793 -0.1697260858  0.0497929244 ⋯\n",
              "X27  0.042832475  0.026116949  0.06832587  0.4197124718  0.0107639895 ⋯\n",
              "X35  0.078764272  0.052779830 -0.13150999 -0.0091327833  0.7137058173 ⋯\n",
              "X36 -0.206883355  0.630153115 -0.22812533  0.2149287454 -0.0204405623 ⋯\n",
              "X37 -0.019676427 -0.148412310  0.21507423  0.0304412143  0.0852750838 ⋯\n",
              "X38  0.019676427  0.148412310 -0.21507423 -0.0304412143 -0.0852750838 ⋯\n",
              "X39 -0.449715079 -0.138560781 -0.05798147  0.0253267822  0.0658551093 ⋯\n",
              "X41 -0.002108625  0.211242306  0.03304718 -0.5975960009 -0.1509601104 ⋯\n",
              "X45  0.018662252  0.082838854 -0.24219475  0.0188634780 -0.0398882454 ⋯\n",
              "X47  0.443131392 -0.050753552 -0.17456967 -0.0355311723 -0.0282492862 ⋯\n",
              "X49 -0.015582317  0.047495912  0.28111214  0.0843547274  0.3541382212 ⋯\n",
              "X50 -0.001045486  0.009220814 -0.14549200  0.0359747530  0.0015901240 ⋯\n",
              "X51 -0.033421462  0.302347718  0.14690638 -0.0292865484  0.0537836733 ⋯\n",
              "X52  0.159830462  0.112389171  0.39520549  0.1192732691  0.1333504170 ⋯\n",
              "X53 -0.481910444 -0.226849162 -0.10331987  0.0046425958  0.0673148321 ⋯\n",
              "X58  0.026665942  0.040778620  0.19544364  0.2193673424  0.1362866185 ⋯\n",
              "X61 -0.205891852  0.255588050 -0.06451291  0.0473128457  0.0008440539 ⋯\n",
              "X69  0.457797491 -0.036227592 -0.15308438 -0.0231805057 -0.0207503868 ⋯\n",
              "X73  0.026496082 -0.010128489  0.01325605  0.0003839643  0.0117503143 ⋯\n",
              "X75  0.037414961 -0.022098840  0.02045231 -0.0053586046  0.0151198433 ⋯\n",
              "X82 -0.125241448 -0.170377975  0.09736142 -0.0906304202  0.0304921597 ⋯\n",
              "X83 -0.063353160 -0.228952041 -0.03361440 -0.1479645916 -0.1497891173 ⋯\n",
              "X87  0.003041355 -0.117595110 -0.25671579  0.3493024898 -0.1377701276 ⋯\n",
              "X93  0.002423439  0.014447822  0.28040301  0.3100015563 -0.4442993659 ⋯\n",
              "    PC19         PC20          PC21         PC22          PC23         \n",
              "X1   0.228222571 -0.0597367358 -0.179292511  0.4527486885  0.0614262177\n",
              "X4  -0.290407450  0.2083934210  0.404641693 -0.2859965188 -0.0735013430\n",
              "X12 -0.111965623  0.0400666298 -0.007111246  0.0006949702 -0.0027930520\n",
              "X16  0.659595677  0.0529745545  0.248138578 -0.1813518625 -0.2149189756\n",
              "X20  0.099067782  0.0215037874  0.081154372 -0.3072396962  0.4327826702\n",
              "X27 -0.051092247  0.0171647583  0.027162230 -0.0428583335 -0.0084895893\n",
              "X35  0.014083879  0.0129925925  0.027246311  0.0074057458 -0.0075888246\n",
              "X36  0.221254721  0.0254885688  0.030268601 -0.2222839235  0.3374629554\n",
              "X37  0.251478271  0.0194507477  0.051781300  0.0620592644 -0.0930043297\n",
              "X38 -0.251478271 -0.0194507477 -0.051781300 -0.0620592644  0.0930043297\n",
              "X39 -0.036103685  0.1110582573  0.355486378  0.4481325712  0.3513030488\n",
              "X41 -0.133738360  0.0125448913  0.012159498 -0.0059249874  0.0384978653\n",
              "X45 -0.152722681 -0.0552469591 -0.073226518  0.0530428997  0.0650020250\n",
              "X47  0.071619337  0.6479712781 -0.259673965  0.0174468277  0.0005129974\n",
              "X49 -0.263936950  0.0233959418  0.052433935 -0.0205917624  0.0125073320\n",
              "X50 -0.114825173 -0.0513399654  0.009153920 -0.0894914468  0.0631184253\n",
              "X51 -0.215181111  0.2083971350  0.279593571 -0.1359602935 -0.2789382778\n",
              "X52 -0.136257529 -0.1704031034 -0.439507367 -0.0224530314  0.2405796898\n",
              "X53  0.035444845 -0.1596219049 -0.399823330 -0.4353140952 -0.2575011269\n",
              "X58  0.004651954  0.0033088847  0.019405998  0.0058086395  0.0018965541\n",
              "X61 -0.096984528 -0.0377940408 -0.047850756  0.3087324472 -0.5358588152\n",
              "X69 -0.004283809 -0.6385159222  0.296580779 -0.0202922613 -0.0328673634\n",
              "X73  0.003083790  0.0009366033  0.003714641  0.0086136143 -0.0068345175\n",
              "X75  0.006956400 -0.0052009706 -0.013995412 -0.0117749344  0.0103943971\n",
              "X82 -0.077513096 -0.0068007653 -0.056172358  0.0822577281 -0.0442717536\n",
              "X83 -0.021335607  0.0191062468  0.023360684 -0.0448136853 -0.0184960920\n",
              "X87  0.123710249 -0.0104215229 -0.015083596  0.0355492484 -0.0066056169\n",
              "X93 -0.005315073 -0.0055604203 -0.006641076  0.0051140414  0.0056779773\n",
              "    PC24         PC25          PC26           PC27         \n",
              "X1  -0.580838095  0.2205428300 -0.06403424282 -0.0042787579\n",
              "X4  -0.036281811 -0.0728522284 -0.01136134593  0.0029055403\n",
              "X12 -0.048156573  0.0267589392 -0.01453417613 -0.0017894501\n",
              "X16  0.337887367 -0.0747686319  0.11650759184  0.0012123819\n",
              "X20 -0.049911135  0.1173538792 -0.48659669453  0.0084414117\n",
              "X27  0.019161157 -0.0026146845  0.00668210190  0.0001377030\n",
              "X35 -0.014760857 -0.0007533235 -0.00446365422 -0.0005558952\n",
              "X36 -0.159885485 -0.0646252196  0.14061714160 -0.0078337816\n",
              "X37 -0.059094641 -0.1100084089 -0.05950233504 -0.0036896113\n",
              "X38  0.059094641  0.1100084089  0.05950233504  0.0036896113\n",
              "X39  0.202441792 -0.0121067778  0.02333863030  0.0157029701\n",
              "X41  0.024746093 -0.0146321884  0.02161767277 -0.0023270989\n",
              "X45  0.040852685 -0.6506385313 -0.20208340818 -0.0112781533\n",
              "X47  0.034097742  0.0102000240 -0.00522218008  0.0003985291\n",
              "X49  0.026493026 -0.0386548109 -0.00585125981 -0.0042927672\n",
              "X50  0.269601774  0.6291928431  0.23485674565  0.0096244299\n",
              "X51 -0.412120008  0.0869419239 -0.01770799879 -0.0001716112\n",
              "X52  0.307436461 -0.0452787658  0.00455668743 -0.0041454937\n",
              "X53 -0.157686231  0.0085860201 -0.01793720339 -0.0074227303\n",
              "X58 -0.007397887  0.0007973103  0.00008972808  0.0002745967\n",
              "X61  0.293079230  0.0931439205 -0.35320242245  0.0390188439\n",
              "X69 -0.090520450 -0.0072166422  0.00508575367 -0.0017870780\n",
              "X73  0.010863485  0.0136016567 -0.02358214128 -0.7066784904\n",
              "X75 -0.021982668 -0.0232508723  0.02731133989  0.7051601958\n",
              "X82 -0.075344812 -0.2385535421  0.70232374397 -0.0324452460\n",
              "X83  0.033614260 -0.0171465360 -0.01448135389 -0.0044051627\n",
              "X87 -0.005242093  0.0063335210 -0.03131377177  0.0013757112\n",
              "X93  0.024117569  0.0059764366 -0.00603055430  0.0007436823\n",
              "    PC28                       \n",
              "X1  -0.000000000000000258344828\n",
              "X4  -0.000000000000000501801714\n",
              "X12 -0.000000000000000010959768\n",
              "X16  0.000000000000000218536029\n",
              "X20  0.000000000000000073914925\n",
              "X27 -0.000000000000000132575408\n",
              "X35  0.000000000000000250717865\n",
              "X36 -0.000000000000000090715921\n",
              "X37  0.707106781186547239670404\n",
              "X38  0.707106781186547572737311\n",
              "X39  0.000000000000000096414944\n",
              "X41 -0.000000000000000134757846\n",
              "X45 -0.000000000000000040382552\n",
              "X47 -0.000000000000000139535551\n",
              "X49  0.000000000000000131920117\n",
              "X50  0.000000000000000377461359\n",
              "X51 -0.000000000000000626985677\n",
              "X52  0.000000000000000323610293\n",
              "X53 -0.000000000000000047085178\n",
              "X58 -0.000000000000000005337056\n",
              "X61 -0.000000000000000150455207\n",
              "X69  0.000000000000000155530950\n",
              "X73 -0.000000000000000192030601\n",
              "X75  0.000000000000000144003890\n",
              "X82  0.000000000000000064123149\n",
              "X83 -0.000000000000000037817396\n",
              "X87 -0.000000000000000106543183\n",
              "X93  0.000000000000000207580388"
            ]
          },
          "metadata": {}
        }
      ]
    },
    {
      "cell_type": "code",
      "source": [
        "## Elbow of Scree Plot seems to be at the 6th principal component. \n",
        "\n",
        "pr.var = pr.out$sdev^2\n",
        "pve = pr.var/sum(pr.var)\n",
        "\n",
        "par(mfrow=c(2,2))\n",
        "plot(100*pve, xlab=\"Principal Component\", ylab=\"Percentage of Variance Explained\", ylim=c(0,20),type='h')\n",
        "\n",
        "plot(cumsum(pve), xlab=\"Principal Component\", ylab=\"Cumulative Proportion of Variance Explained\", ylim=c(0,1),type='h')"
      ],
      "metadata": {
        "colab": {
          "base_uri": "https://localhost:8080/",
          "height": 437
        },
        "id": "JZoyUjc3UGt9",
        "outputId": "1ef3be48-7a07-4163-d550-ee3e5bafb88b"
      },
      "execution_count": null,
      "outputs": [
        {
          "output_type": "display_data",
          "data": {
            "text/plain": [
              "plot without title"
            ],
            "image/png": "[encoded data removed]"
          },
          "metadata": {
            "image/png": {
              "width": 420,
              "height": 420
            }
          }
        }
      ]
    },
    {
      "cell_type": "code",
      "source": [
        "dim(pr.out$x) \n",
        "# is a matrix of our training obs being centred, scaled, and then multiplied by rotation matrix. "
      ],
      "metadata": {
        "colab": {
          "base_uri": "https://localhost:8080/",
          "height": 34
        },
        "id": "sBE80uwSZRqk",
        "outputId": "9bae80e3-af00-4755-8a64-14f6c71996e2"
      },
      "execution_count": null,
      "outputs": [
        {
          "output_type": "display_data",
          "data": {
            "text/html": [
              "<style>\n",
              ".list-inline {list-style: none; margin:0; padding: 0}\n",
              ".list-inline>li {display: inline-block}\n",
              ".list-inline>li:not(:last-child)::after {content: \"\\00b7\"; padding: 0 .5ex}\n",
              "</style>\n",
              "<ol class=list-inline><li>6698</li><li>28</li></ol>\n"
            ],
            "text/markdown": "1. 6698\n2. 28\n\n\n",
            "text/latex": "\\begin{enumerate*}\n\\item 6698\n\\item 28\n\\end{enumerate*}\n",
            "text/plain": [
              "[1] 6698   28"
            ]
          },
          "metadata": {}
        }
      ]
    },
    {
      "cell_type": "code",
      "source": [
        "head(pr.out$x) # PC values for first 6 training observations "
      ],
      "metadata": {
        "colab": {
          "base_uri": "https://localhost:8080/",
          "height": 275
        },
        "id": "-LE7E1RldpZJ",
        "outputId": "a6a2bd21-5e8a-471d-bf2b-58d6410d58a5"
      },
      "execution_count": null,
      "outputs": [
        {
          "output_type": "display_data",
          "data": {
            "text/html": [
              "<table class=\"dataframe\">\n",
              "<caption>A matrix: 6 × 28 of type dbl</caption>\n",
              "<thead>\n",
              "\t<tr><th scope=col>PC1</th><th scope=col>PC2</th><th scope=col>PC3</th><th scope=col>PC4</th><th scope=col>PC5</th><th scope=col>PC6</th><th scope=col>PC7</th><th scope=col>PC8</th><th scope=col>PC9</th><th scope=col>PC10</th><th scope=col>⋯</th><th scope=col>PC19</th><th scope=col>PC20</th><th scope=col>PC21</th><th scope=col>PC22</th><th scope=col>PC23</th><th scope=col>PC24</th><th scope=col>PC25</th><th scope=col>PC26</th><th scope=col>PC27</th><th scope=col>PC28</th></tr>\n",
              "</thead>\n",
              "<tbody>\n",
              "\t<tr><td> 0.08173134</td><td>-0.6611753</td><td> 0.10922943</td><td> 0.06741956</td><td> 0.3122676</td><td> 0.09642304</td><td> 0.4357013</td><td> 1.10174846</td><td>-0.3687363</td><td> 0.41747280</td><td>⋯</td><td>-0.4630826</td><td>-0.05532071</td><td>-0.22619572</td><td> 0.10928915</td><td> 0.148525945</td><td>-0.28916194</td><td> 0.04231303</td><td> 0.06930758</td><td>-0.006053864</td><td> 0.0000000000000006909241</td></tr>\n",
              "\t<tr><td>-4.33964346</td><td>-0.1122683</td><td> 0.13807477</td><td>-0.29947995</td><td>-0.2598009</td><td>-0.18474522</td><td>-0.4701815</td><td>-1.08110880</td><td> 0.3686873</td><td> 0.04942822</td><td>⋯</td><td>-0.7984724</td><td>-0.06358911</td><td>-0.40133832</td><td> 0.61960163</td><td>-0.465057878</td><td>-0.04164068</td><td> 0.23784117</td><td>-0.14416750</td><td> 0.037781502</td><td> 0.0000000000000056918669</td></tr>\n",
              "\t<tr><td> 1.00910685</td><td> 0.7254249</td><td>-0.02634203</td><td> 0.09317345</td><td>-0.5924235</td><td> 0.42738675</td><td>-0.3385680</td><td>-0.50197973</td><td> 0.7390327</td><td> 0.14374277</td><td>⋯</td><td> 0.1988045</td><td>-0.08253509</td><td>-0.09189055</td><td> 0.19438630</td><td>-0.007992342</td><td>-0.05508618</td><td>-0.02117213</td><td>-0.16862419</td><td> 0.001426945</td><td> 0.0000000000000006794579</td></tr>\n",
              "\t<tr><td>-3.10609282</td><td>-0.8154083</td><td> 0.06119058</td><td> 0.89988989</td><td>-0.5548486</td><td> 0.22165872</td><td>-0.3619988</td><td> 0.83150899</td><td> 0.0506611</td><td>-0.14233333</td><td>⋯</td><td> 1.5301154</td><td> 0.13445009</td><td> 0.52229868</td><td> 0.10974167</td><td>-0.062648483</td><td>-0.61271217</td><td> 0.48381318</td><td> 0.11514619</td><td> 0.007088417</td><td>-0.0000000000000013404656</td></tr>\n",
              "\t<tr><td>-1.07227363</td><td>-2.4762024</td><td> 0.18976164</td><td> 0.83666066</td><td>-0.7189558</td><td> 0.34818854</td><td> 0.7711765</td><td>-0.45611861</td><td> 0.3834989</td><td> 0.48527887</td><td>⋯</td><td>-0.6364227</td><td>-0.17605334</td><td>-0.30319383</td><td>-0.13418182</td><td> 0.352061384</td><td> 0.37219471</td><td> 0.40661735</td><td> 0.25589702</td><td>-0.003801754</td><td> 0.0000000000000040792637</td></tr>\n",
              "\t<tr><td>-2.22046305</td><td> 0.0896748</td><td> 0.09535941</td><td>-0.47111169</td><td> 0.1249684</td><td>-0.24039836</td><td>-0.3206523</td><td>-0.00648672</td><td>-0.2979374</td><td>-0.10527478</td><td>⋯</td><td> 0.4124654</td><td>-0.08417801</td><td>-0.13125936</td><td> 0.05169083</td><td> 0.046439346</td><td>-0.04912729</td><td> 0.02591947</td><td> 0.22489199</td><td>-0.006519826</td><td>-0.0000000000000032546518</td></tr>\n",
              "</tbody>\n",
              "</table>\n"
            ],
            "text/markdown": "\nA matrix: 6 × 28 of type dbl\n\n| PC1 | PC2 | PC3 | PC4 | PC5 | PC6 | PC7 | PC8 | PC9 | PC10 | ⋯ | PC19 | PC20 | PC21 | PC22 | PC23 | PC24 | PC25 | PC26 | PC27 | PC28 |\n|---|---|---|---|---|---|---|---|---|---|---|---|---|---|---|---|---|---|---|---|---|\n|  0.08173134 | -0.6611753 |  0.10922943 |  0.06741956 |  0.3122676 |  0.09642304 |  0.4357013 |  1.10174846 | -0.3687363 |  0.41747280 | ⋯ | -0.4630826 | -0.05532071 | -0.22619572 |  0.10928915 |  0.148525945 | -0.28916194 |  0.04231303 |  0.06930758 | -0.006053864 |  0.0000000000000006909241 |\n| -4.33964346 | -0.1122683 |  0.13807477 | -0.29947995 | -0.2598009 | -0.18474522 | -0.4701815 | -1.08110880 |  0.3686873 |  0.04942822 | ⋯ | -0.7984724 | -0.06358911 | -0.40133832 |  0.61960163 | -0.465057878 | -0.04164068 |  0.23784117 | -0.14416750 |  0.037781502 |  0.0000000000000056918669 |\n|  1.00910685 |  0.7254249 | -0.02634203 |  0.09317345 | -0.5924235 |  0.42738675 | -0.3385680 | -0.50197973 |  0.7390327 |  0.14374277 | ⋯ |  0.1988045 | -0.08253509 | -0.09189055 |  0.19438630 | -0.007992342 | -0.05508618 | -0.02117213 | -0.16862419 |  0.001426945 |  0.0000000000000006794579 |\n| -3.10609282 | -0.8154083 |  0.06119058 |  0.89988989 | -0.5548486 |  0.22165872 | -0.3619988 |  0.83150899 |  0.0506611 | -0.14233333 | ⋯ |  1.5301154 |  0.13445009 |  0.52229868 |  0.10974167 | -0.062648483 | -0.61271217 |  0.48381318 |  0.11514619 |  0.007088417 | -0.0000000000000013404656 |\n| -1.07227363 | -2.4762024 |  0.18976164 |  0.83666066 | -0.7189558 |  0.34818854 |  0.7711765 | -0.45611861 |  0.3834989 |  0.48527887 | ⋯ | -0.6364227 | -0.17605334 | -0.30319383 | -0.13418182 |  0.352061384 |  0.37219471 |  0.40661735 |  0.25589702 | -0.003801754 |  0.0000000000000040792637 |\n| -2.22046305 |  0.0896748 |  0.09535941 | -0.47111169 |  0.1249684 | -0.24039836 | -0.3206523 | -0.00648672 | -0.2979374 | -0.10527478 | ⋯ |  0.4124654 | -0.08417801 | -0.13125936 |  0.05169083 |  0.046439346 | -0.04912729 |  0.02591947 |  0.22489199 | -0.006519826 | -0.0000000000000032546518 |\n\n",
            "text/latex": "A matrix: 6 × 28 of type dbl\n\\begin{tabular}{lllllllllllllllllllll}\n PC1 & PC2 & PC3 & PC4 & PC5 & PC6 & PC7 & PC8 & PC9 & PC10 & ⋯ & PC19 & PC20 & PC21 & PC22 & PC23 & PC24 & PC25 & PC26 & PC27 & PC28\\\\\n\\hline\n\t  0.08173134 & -0.6611753 &  0.10922943 &  0.06741956 &  0.3122676 &  0.09642304 &  0.4357013 &  1.10174846 & -0.3687363 &  0.41747280 & ⋯ & -0.4630826 & -0.05532071 & -0.22619572 &  0.10928915 &  0.148525945 & -0.28916194 &  0.04231303 &  0.06930758 & -0.006053864 &  0.0000000000000006909241\\\\\n\t -4.33964346 & -0.1122683 &  0.13807477 & -0.29947995 & -0.2598009 & -0.18474522 & -0.4701815 & -1.08110880 &  0.3686873 &  0.04942822 & ⋯ & -0.7984724 & -0.06358911 & -0.40133832 &  0.61960163 & -0.465057878 & -0.04164068 &  0.23784117 & -0.14416750 &  0.037781502 &  0.0000000000000056918669\\\\\n\t  1.00910685 &  0.7254249 & -0.02634203 &  0.09317345 & -0.5924235 &  0.42738675 & -0.3385680 & -0.50197973 &  0.7390327 &  0.14374277 & ⋯ &  0.1988045 & -0.08253509 & -0.09189055 &  0.19438630 & -0.007992342 & -0.05508618 & -0.02117213 & -0.16862419 &  0.001426945 &  0.0000000000000006794579\\\\\n\t -3.10609282 & -0.8154083 &  0.06119058 &  0.89988989 & -0.5548486 &  0.22165872 & -0.3619988 &  0.83150899 &  0.0506611 & -0.14233333 & ⋯ &  1.5301154 &  0.13445009 &  0.52229868 &  0.10974167 & -0.062648483 & -0.61271217 &  0.48381318 &  0.11514619 &  0.007088417 & -0.0000000000000013404656\\\\\n\t -1.07227363 & -2.4762024 &  0.18976164 &  0.83666066 & -0.7189558 &  0.34818854 &  0.7711765 & -0.45611861 &  0.3834989 &  0.48527887 & ⋯ & -0.6364227 & -0.17605334 & -0.30319383 & -0.13418182 &  0.352061384 &  0.37219471 &  0.40661735 &  0.25589702 & -0.003801754 &  0.0000000000000040792637\\\\\n\t -2.22046305 &  0.0896748 &  0.09535941 & -0.47111169 &  0.1249684 & -0.24039836 & -0.3206523 & -0.00648672 & -0.2979374 & -0.10527478 & ⋯ &  0.4124654 & -0.08417801 & -0.13125936 &  0.05169083 &  0.046439346 & -0.04912729 &  0.02591947 &  0.22489199 & -0.006519826 & -0.0000000000000032546518\\\\\n\\end{tabular}\n",
            "text/plain": [
              "     PC1         PC2        PC3         PC4         PC5        PC6        \n",
              "[1,]  0.08173134 -0.6611753  0.10922943  0.06741956  0.3122676  0.09642304\n",
              "[2,] -4.33964346 -0.1122683  0.13807477 -0.29947995 -0.2598009 -0.18474522\n",
              "[3,]  1.00910685  0.7254249 -0.02634203  0.09317345 -0.5924235  0.42738675\n",
              "[4,] -3.10609282 -0.8154083  0.06119058  0.89988989 -0.5548486  0.22165872\n",
              "[5,] -1.07227363 -2.4762024  0.18976164  0.83666066 -0.7189558  0.34818854\n",
              "[6,] -2.22046305  0.0896748  0.09535941 -0.47111169  0.1249684 -0.24039836\n",
              "     PC7        PC8         PC9        PC10        ⋯ PC19       PC20       \n",
              "[1,]  0.4357013  1.10174846 -0.3687363  0.41747280 ⋯ -0.4630826 -0.05532071\n",
              "[2,] -0.4701815 -1.08110880  0.3686873  0.04942822 ⋯ -0.7984724 -0.06358911\n",
              "[3,] -0.3385680 -0.50197973  0.7390327  0.14374277 ⋯  0.1988045 -0.08253509\n",
              "[4,] -0.3619988  0.83150899  0.0506611 -0.14233333 ⋯  1.5301154  0.13445009\n",
              "[5,]  0.7711765 -0.45611861  0.3834989  0.48527887 ⋯ -0.6364227 -0.17605334\n",
              "[6,] -0.3206523 -0.00648672 -0.2979374 -0.10527478 ⋯  0.4124654 -0.08417801\n",
              "     PC21        PC22        PC23         PC24        PC25        PC26       \n",
              "[1,] -0.22619572  0.10928915  0.148525945 -0.28916194  0.04231303  0.06930758\n",
              "[2,] -0.40133832  0.61960163 -0.465057878 -0.04164068  0.23784117 -0.14416750\n",
              "[3,] -0.09189055  0.19438630 -0.007992342 -0.05508618 -0.02117213 -0.16862419\n",
              "[4,]  0.52229868  0.10974167 -0.062648483 -0.61271217  0.48381318  0.11514619\n",
              "[5,] -0.30319383 -0.13418182  0.352061384  0.37219471  0.40661735  0.25589702\n",
              "[6,] -0.13125936  0.05169083  0.046439346 -0.04912729  0.02591947  0.22489199\n",
              "     PC27         PC28                     \n",
              "[1,] -0.006053864  0.0000000000000006909241\n",
              "[2,]  0.037781502  0.0000000000000056918669\n",
              "[3,]  0.001426945  0.0000000000000006794579\n",
              "[4,]  0.007088417 -0.0000000000000013404656\n",
              "[5,] -0.003801754  0.0000000000000040792637\n",
              "[6,] -0.006519826 -0.0000000000000032546518"
            ]
          },
          "metadata": {}
        }
      ]
    },
    {
      "cell_type": "code",
      "source": [
        "biplot(pr.out, scale = 0)\n",
        "\n",
        "# X37 is one of the most important variables for PC 1\n",
        "# X45 and X50 are the most important variables for PC 2"
      ],
      "metadata": {
        "colab": {
          "base_uri": "https://localhost:8080/",
          "height": 437
        },
        "id": "Qlg1jL7YXsAG",
        "outputId": "071e3ccf-0bd8-4e6b-b221-1c87fd95315d"
      },
      "execution_count": null,
      "outputs": [
        {
          "output_type": "display_data",
          "data": {
            "text/plain": [
              "plot without title"
            ],
            "image/png": "[encoded data removed]"
          },
          "metadata": {
            "image/png": {
              "width": 420,
              "height": 420
            }
          }
        }
      ]
    },
    {
      "cell_type": "code",
      "source": [
        "# verified: X37 is one of the most important variables for PC 1\n",
        "data.frame(pr.out$rotation) %>% select(\"PC1\") %>% arrange(-abs(PC1)) %>% head()\n",
        "column_names[[\"X1\"]]\n",
        "\n",
        "# verified: X45 and X50 are the most important variables for PC 2\n",
        "data.frame(pr.out$rotation) %>% select(\"PC2\") %>% arrange(-abs(PC2)) %>% head()\n",
        "column_names[[\"X45\"]]\n",
        "column_names[[\"X50\"]]"
      ],
      "metadata": {
        "colab": {
          "base_uri": "https://localhost:8080/",
          "height": 677
        },
        "id": "7cxJ4aNQfEuy",
        "outputId": "904e6b0e-befa-40e0-afb3-fed27767ccc1"
      },
      "execution_count": null,
      "outputs": [
        {
          "output_type": "display_data",
          "data": {
            "text/html": [
              "<table class=\"dataframe\">\n",
              "<caption>A data.frame: 6 × 1</caption>\n",
              "<thead>\n",
              "\t<tr><th></th><th scope=col>PC1</th></tr>\n",
              "\t<tr><th></th><th scope=col>&lt;dbl&gt;</th></tr>\n",
              "</thead>\n",
              "<tbody>\n",
              "\t<tr><th scope=row>X1</th><td>-0.3793473</td></tr>\n",
              "\t<tr><th scope=row>X37</th><td> 0.3714060</td></tr>\n",
              "\t<tr><th scope=row>X38</th><td>-0.3714060</td></tr>\n",
              "\t<tr><th scope=row>X82</th><td>-0.3290320</td></tr>\n",
              "\t<tr><th scope=row>X16</th><td>-0.3189166</td></tr>\n",
              "\t<tr><th scope=row>X61</th><td>-0.3122924</td></tr>\n",
              "</tbody>\n",
              "</table>\n"
            ],
            "text/markdown": "\nA data.frame: 6 × 1\n\n| <!--/--> | PC1 &lt;dbl&gt; |\n|---|---|\n| X1 | -0.3793473 |\n| X37 |  0.3714060 |\n| X38 | -0.3714060 |\n| X82 | -0.3290320 |\n| X16 | -0.3189166 |\n| X61 | -0.3122924 |\n\n",
            "text/latex": "A data.frame: 6 × 1\n\\begin{tabular}{r|l}\n  & PC1\\\\\n  & <dbl>\\\\\n\\hline\n\tX1 & -0.3793473\\\\\n\tX37 &  0.3714060\\\\\n\tX38 & -0.3714060\\\\\n\tX82 & -0.3290320\\\\\n\tX16 & -0.3189166\\\\\n\tX61 & -0.3122924\\\\\n\\end{tabular}\n",
            "text/plain": [
              "    PC1       \n",
              "X1  -0.3793473\n",
              "X37  0.3714060\n",
              "X38 -0.3714060\n",
              "X82 -0.3290320\n",
              "X16 -0.3189166\n",
              "X61 -0.3122924"
            ]
          },
          "metadata": {}
        },
        {
          "output_type": "display_data",
          "data": {
            "text/html": [
              "<ol>\n",
              "\t<li>'ROA.C..before.interest.and.depreciation.before.interest'</li>\n",
              "</ol>\n"
            ],
            "text/markdown": "1. 'ROA.C..before.interest.and.depreciation.before.interest'\n\n\n",
            "text/latex": "\\begin{enumerate}\n\\item 'ROA.C..before.interest.and.depreciation.before.interest'\n\\end{enumerate}\n",
            "text/plain": [
              "[[1]]\n",
              "[1] \"ROA.C..before.interest.and.depreciation.before.interest\"\n"
            ]
          },
          "metadata": {}
        },
        {
          "output_type": "display_data",
          "data": {
            "text/html": [
              "<table class=\"dataframe\">\n",
              "<caption>A data.frame: 6 × 1</caption>\n",
              "<thead>\n",
              "\t<tr><th></th><th scope=col>PC2</th></tr>\n",
              "\t<tr><th></th><th scope=col>&lt;dbl&gt;</th></tr>\n",
              "</thead>\n",
              "<tbody>\n",
              "\t<tr><th scope=row>X50</th><td> 0.5249669</td></tr>\n",
              "\t<tr><th scope=row>X45</th><td> 0.5135552</td></tr>\n",
              "\t<tr><th scope=row>X51</th><td> 0.4187868</td></tr>\n",
              "\t<tr><th scope=row>X49</th><td>-0.2505789</td></tr>\n",
              "\t<tr><th scope=row>X52</th><td> 0.2164932</td></tr>\n",
              "\t<tr><th scope=row>X37</th><td> 0.2034003</td></tr>\n",
              "</tbody>\n",
              "</table>\n"
            ],
            "text/markdown": "\nA data.frame: 6 × 1\n\n| <!--/--> | PC2 &lt;dbl&gt; |\n|---|---|\n| X50 |  0.5249669 |\n| X45 |  0.5135552 |\n| X51 |  0.4187868 |\n| X49 | -0.2505789 |\n| X52 |  0.2164932 |\n| X37 |  0.2034003 |\n\n",
            "text/latex": "A data.frame: 6 × 1\n\\begin{tabular}{r|l}\n  & PC2\\\\\n  & <dbl>\\\\\n\\hline\n\tX50 &  0.5249669\\\\\n\tX45 &  0.5135552\\\\\n\tX51 &  0.4187868\\\\\n\tX49 & -0.2505789\\\\\n\tX52 &  0.2164932\\\\\n\tX37 &  0.2034003\\\\\n\\end{tabular}\n",
            "text/plain": [
              "    PC2       \n",
              "X50  0.5249669\n",
              "X45  0.5135552\n",
              "X51  0.4187868\n",
              "X49 -0.2505789\n",
              "X52  0.2164932\n",
              "X37  0.2034003"
            ]
          },
          "metadata": {}
        },
        {
          "output_type": "display_data",
          "data": {
            "text/html": [
              "<ol>\n",
              "\t<li>'Total.Asset.Turnover'</li>\n",
              "</ol>\n"
            ],
            "text/markdown": "1. 'Total.Asset.Turnover'\n\n\n",
            "text/latex": "\\begin{enumerate}\n\\item 'Total.Asset.Turnover'\n\\end{enumerate}\n",
            "text/plain": [
              "[[1]]\n",
              "[1] \"Total.Asset.Turnover\"\n"
            ]
          },
          "metadata": {}
        },
        {
          "output_type": "display_data",
          "data": {
            "text/html": [
              "<ol>\n",
              "\t<li>'Net.Worth.Turnover.Rate..times.'</li>\n",
              "</ol>\n"
            ],
            "text/markdown": "1. 'Net.Worth.Turnover.Rate..times.'\n\n\n",
            "text/latex": "\\begin{enumerate}\n\\item 'Net.Worth.Turnover.Rate..times.'\n\\end{enumerate}\n",
            "text/plain": [
              "[[1]]\n",
              "[1] \"Net.Worth.Turnover.Rate..times.\"\n"
            ]
          },
          "metadata": {}
        }
      ]
    },
    {
      "cell_type": "markdown",
      "source": [
        "Transforming dataset into PC-predictors"
      ],
      "metadata": {
        "id": "nk6KVmdqqnXy"
      }
    },
    {
      "cell_type": "code",
      "source": [
        "# can ignore, for familiarising with matrix multiplication syntax\n",
        "v1 = c(1,2)\n",
        "v2 = c(3,4)\n",
        "v3 = c(2,4)\n",
        "v4 = c(6,0)\n",
        "matrix(rbind(v1, v2), nrow = 2)%*%matrix(rbind(v3, v4), nrow = 2)"
      ],
      "metadata": {
        "colab": {
          "base_uri": "https://localhost:8080/",
          "height": 132
        },
        "id": "WyMJFoekvet1",
        "outputId": "220a8dd1-ff50-4cf9-cffa-091f34f057ef"
      },
      "execution_count": null,
      "outputs": [
        {
          "output_type": "display_data",
          "data": {
            "text/html": [
              "<table class=\"dataframe\">\n",
              "<caption>A matrix: 2 × 2 of type dbl</caption>\n",
              "<tbody>\n",
              "\t<tr><td>14</td><td> 4</td></tr>\n",
              "\t<tr><td>30</td><td>12</td></tr>\n",
              "</tbody>\n",
              "</table>\n"
            ],
            "text/markdown": "\nA matrix: 2 × 2 of type dbl\n\n| 14 |  4 |\n| 30 | 12 |\n\n",
            "text/latex": "A matrix: 2 × 2 of type dbl\n\\begin{tabular}{ll}\n\t 14 &  4\\\\\n\t 30 & 12\\\\\n\\end{tabular}\n",
            "text/plain": [
              "     [,1] [,2]\n",
              "[1,] 14    4  \n",
              "[2,] 30   12  "
            ]
          },
          "metadata": {}
        }
      ]
    },
    {
      "cell_type": "code",
      "source": [
        "data.matrix(scale(training_x, scale = T)) %>% head()\n",
        "data.matrix(scale(training_x, scale = T)) %>% dim()\n",
        "\n",
        "data.matrix(pr.out$rotation) %>% head()\n",
        "data.matrix(pr.out$rotation) %>% dim()"
      ],
      "metadata": {
        "colab": {
          "base_uri": "https://localhost:8080/",
          "height": 547
        },
        "id": "N0BJhosCuh6U",
        "outputId": "7c3d522a-9332-4d41-fe9e-4f2f7942e98a"
      },
      "execution_count": null,
      "outputs": [
        {
          "output_type": "display_data",
          "data": {
            "text/html": [
              "<table class=\"dataframe\">\n",
              "<caption>A matrix: 6 × 28 of type dbl</caption>\n",
              "<thead>\n",
              "\t<tr><th scope=col>X1</th><th scope=col>X4</th><th scope=col>X12</th><th scope=col>X16</th><th scope=col>X20</th><th scope=col>X27</th><th scope=col>X35</th><th scope=col>X36</th><th scope=col>X37</th><th scope=col>X38</th><th scope=col>⋯</th><th scope=col>X53</th><th scope=col>X58</th><th scope=col>X61</th><th scope=col>X69</th><th scope=col>X73</th><th scope=col>X75</th><th scope=col>X82</th><th scope=col>X83</th><th scope=col>X87</th><th scope=col>X93</th></tr>\n",
              "</thead>\n",
              "<tbody>\n",
              "\t<tr><td> 0.2505791</td><td>-0.16450858</td><td>-0.70015480</td><td>-0.3274413</td><td> 0.003594193</td><td>0.11206891</td><td>0.22686769</td><td>-0.05402481</td><td>-0.03400411</td><td> 0.03400411</td><td>⋯</td><td>-0.0573355</td><td>-0.01221877</td><td>-0.1158682</td><td>-0.008453914</td><td>-0.028130325</td><td>-0.012881918</td><td> 0.09898941</td><td>-0.01130564</td><td>-0.06785733</td><td> 0.14187723</td></tr>\n",
              "\t<tr><td> 1.6897972</td><td> 1.18059839</td><td> 2.30907122</td><td> 0.6223256</td><td> 0.867114079</td><td>0.04104518</td><td>0.04164234</td><td>-0.05402481</td><td>-1.68715463</td><td> 1.68715463</td><td>⋯</td><td>-0.0573355</td><td>-0.01221877</td><td> 2.0907207</td><td> 0.012046988</td><td>-0.009149673</td><td>-0.007563594</td><td> 1.46699567</td><td> 0.64855082</td><td>-0.06785733</td><td>-0.03477127</td></tr>\n",
              "\t<tr><td> 0.2386782</td><td> 0.33096057</td><td> 0.77965690</td><td>-0.1985338</td><td>-0.674682153</td><td>0.05237110</td><td>0.13218026</td><td>-0.05402481</td><td> 0.71317973</td><td>-0.71317973</td><td>⋯</td><td>-0.0573355</td><td>-0.01221877</td><td>-0.4110252</td><td>-0.013165275</td><td>-0.017247776</td><td>-0.014713241</td><td>-0.75902673</td><td>-0.62834721</td><td>-0.06785733</td><td> 0.06029966</td></tr>\n",
              "\t<tr><td> 2.3205460</td><td> 1.64487133</td><td>-0.70015480</td><td> 2.0121561</td><td> 0.639122030</td><td>0.03883610</td><td>0.03827981</td><td>-0.05402481</td><td>-0.86711158</td><td> 0.86711158</td><td>⋯</td><td>-0.0573355</td><td>-0.01221877</td><td> 0.1805966</td><td> 0.057927671</td><td>-0.011810446</td><td>-0.013749073</td><td> 0.43618031</td><td>-0.05496909</td><td>-0.06785733</td><td>-0.03808938</td></tr>\n",
              "\t<tr><td>-0.0786797</td><td>-0.30213889</td><td> 0.23402800</td><td> 0.3941445</td><td>-0.244347160</td><td>0.02017578</td><td>0.03953182</td><td>-0.05402481</td><td>-2.06451513</td><td> 2.06451513</td><td>⋯</td><td>-0.0573355</td><td>-0.01221877</td><td>-0.1626814</td><td> 0.002575218</td><td>-0.014620707</td><td>-0.046070395</td><td>-0.28635369</td><td>-1.60693307</td><td>-0.06785733</td><td>-0.03585786</td></tr>\n",
              "\t<tr><td> 0.6702849</td><td>-0.03177178</td><td> 0.06455236</td><td> 0.7408613</td><td> 1.092256227</td><td>0.03028613</td><td>0.05026330</td><td>-0.05402481</td><td>-0.74752197</td><td> 0.74752197</td><td>⋯</td><td>-0.0573355</td><td>-0.01221877</td><td> 0.6366943</td><td> 0.007882861</td><td>-0.009613107</td><td>-0.007568179</td><td> 1.30753688</td><td> 0.68550410</td><td>-0.06785733</td><td>-0.02515779</td></tr>\n",
              "</tbody>\n",
              "</table>\n"
            ],
            "text/markdown": "\nA matrix: 6 × 28 of type dbl\n\n| X1 | X4 | X12 | X16 | X20 | X27 | X35 | X36 | X37 | X38 | ⋯ | X53 | X58 | X61 | X69 | X73 | X75 | X82 | X83 | X87 | X93 |\n|---|---|---|---|---|---|---|---|---|---|---|---|---|---|---|---|---|---|---|---|---|\n|  0.2505791 | -0.16450858 | -0.70015480 | -0.3274413 |  0.003594193 | 0.11206891 | 0.22686769 | -0.05402481 | -0.03400411 |  0.03400411 | ⋯ | -0.0573355 | -0.01221877 | -0.1158682 | -0.008453914 | -0.028130325 | -0.012881918 |  0.09898941 | -0.01130564 | -0.06785733 |  0.14187723 |\n|  1.6897972 |  1.18059839 |  2.30907122 |  0.6223256 |  0.867114079 | 0.04104518 | 0.04164234 | -0.05402481 | -1.68715463 |  1.68715463 | ⋯ | -0.0573355 | -0.01221877 |  2.0907207 |  0.012046988 | -0.009149673 | -0.007563594 |  1.46699567 |  0.64855082 | -0.06785733 | -0.03477127 |\n|  0.2386782 |  0.33096057 |  0.77965690 | -0.1985338 | -0.674682153 | 0.05237110 | 0.13218026 | -0.05402481 |  0.71317973 | -0.71317973 | ⋯ | -0.0573355 | -0.01221877 | -0.4110252 | -0.013165275 | -0.017247776 | -0.014713241 | -0.75902673 | -0.62834721 | -0.06785733 |  0.06029966 |\n|  2.3205460 |  1.64487133 | -0.70015480 |  2.0121561 |  0.639122030 | 0.03883610 | 0.03827981 | -0.05402481 | -0.86711158 |  0.86711158 | ⋯ | -0.0573355 | -0.01221877 |  0.1805966 |  0.057927671 | -0.011810446 | -0.013749073 |  0.43618031 | -0.05496909 | -0.06785733 | -0.03808938 |\n| -0.0786797 | -0.30213889 |  0.23402800 |  0.3941445 | -0.244347160 | 0.02017578 | 0.03953182 | -0.05402481 | -2.06451513 |  2.06451513 | ⋯ | -0.0573355 | -0.01221877 | -0.1626814 |  0.002575218 | -0.014620707 | -0.046070395 | -0.28635369 | -1.60693307 | -0.06785733 | -0.03585786 |\n|  0.6702849 | -0.03177178 |  0.06455236 |  0.7408613 |  1.092256227 | 0.03028613 | 0.05026330 | -0.05402481 | -0.74752197 |  0.74752197 | ⋯ | -0.0573355 | -0.01221877 |  0.6366943 |  0.007882861 | -0.009613107 | -0.007568179 |  1.30753688 |  0.68550410 | -0.06785733 | -0.02515779 |\n\n",
            "text/latex": "A matrix: 6 × 28 of type dbl\n\\begin{tabular}{lllllllllllllllllllll}\n X1 & X4 & X12 & X16 & X20 & X27 & X35 & X36 & X37 & X38 & ⋯ & X53 & X58 & X61 & X69 & X73 & X75 & X82 & X83 & X87 & X93\\\\\n\\hline\n\t  0.2505791 & -0.16450858 & -0.70015480 & -0.3274413 &  0.003594193 & 0.11206891 & 0.22686769 & -0.05402481 & -0.03400411 &  0.03400411 & ⋯ & -0.0573355 & -0.01221877 & -0.1158682 & -0.008453914 & -0.028130325 & -0.012881918 &  0.09898941 & -0.01130564 & -0.06785733 &  0.14187723\\\\\n\t  1.6897972 &  1.18059839 &  2.30907122 &  0.6223256 &  0.867114079 & 0.04104518 & 0.04164234 & -0.05402481 & -1.68715463 &  1.68715463 & ⋯ & -0.0573355 & -0.01221877 &  2.0907207 &  0.012046988 & -0.009149673 & -0.007563594 &  1.46699567 &  0.64855082 & -0.06785733 & -0.03477127\\\\\n\t  0.2386782 &  0.33096057 &  0.77965690 & -0.1985338 & -0.674682153 & 0.05237110 & 0.13218026 & -0.05402481 &  0.71317973 & -0.71317973 & ⋯ & -0.0573355 & -0.01221877 & -0.4110252 & -0.013165275 & -0.017247776 & -0.014713241 & -0.75902673 & -0.62834721 & -0.06785733 &  0.06029966\\\\\n\t  2.3205460 &  1.64487133 & -0.70015480 &  2.0121561 &  0.639122030 & 0.03883610 & 0.03827981 & -0.05402481 & -0.86711158 &  0.86711158 & ⋯ & -0.0573355 & -0.01221877 &  0.1805966 &  0.057927671 & -0.011810446 & -0.013749073 &  0.43618031 & -0.05496909 & -0.06785733 & -0.03808938\\\\\n\t -0.0786797 & -0.30213889 &  0.23402800 &  0.3941445 & -0.244347160 & 0.02017578 & 0.03953182 & -0.05402481 & -2.06451513 &  2.06451513 & ⋯ & -0.0573355 & -0.01221877 & -0.1626814 &  0.002575218 & -0.014620707 & -0.046070395 & -0.28635369 & -1.60693307 & -0.06785733 & -0.03585786\\\\\n\t  0.6702849 & -0.03177178 &  0.06455236 &  0.7408613 &  1.092256227 & 0.03028613 & 0.05026330 & -0.05402481 & -0.74752197 &  0.74752197 & ⋯ & -0.0573355 & -0.01221877 &  0.6366943 &  0.007882861 & -0.009613107 & -0.007568179 &  1.30753688 &  0.68550410 & -0.06785733 & -0.02515779\\\\\n\\end{tabular}\n",
            "text/plain": [
              "     X1         X4          X12         X16        X20          X27       \n",
              "[1,]  0.2505791 -0.16450858 -0.70015480 -0.3274413  0.003594193 0.11206891\n",
              "[2,]  1.6897972  1.18059839  2.30907122  0.6223256  0.867114079 0.04104518\n",
              "[3,]  0.2386782  0.33096057  0.77965690 -0.1985338 -0.674682153 0.05237110\n",
              "[4,]  2.3205460  1.64487133 -0.70015480  2.0121561  0.639122030 0.03883610\n",
              "[5,] -0.0786797 -0.30213889  0.23402800  0.3941445 -0.244347160 0.02017578\n",
              "[6,]  0.6702849 -0.03177178  0.06455236  0.7408613  1.092256227 0.03028613\n",
              "     X35        X36         X37         X38         ⋯ X53        X58        \n",
              "[1,] 0.22686769 -0.05402481 -0.03400411  0.03400411 ⋯ -0.0573355 -0.01221877\n",
              "[2,] 0.04164234 -0.05402481 -1.68715463  1.68715463 ⋯ -0.0573355 -0.01221877\n",
              "[3,] 0.13218026 -0.05402481  0.71317973 -0.71317973 ⋯ -0.0573355 -0.01221877\n",
              "[4,] 0.03827981 -0.05402481 -0.86711158  0.86711158 ⋯ -0.0573355 -0.01221877\n",
              "[5,] 0.03953182 -0.05402481 -2.06451513  2.06451513 ⋯ -0.0573355 -0.01221877\n",
              "[6,] 0.05026330 -0.05402481 -0.74752197  0.74752197 ⋯ -0.0573355 -0.01221877\n",
              "     X61        X69          X73          X75          X82         X83        \n",
              "[1,] -0.1158682 -0.008453914 -0.028130325 -0.012881918  0.09898941 -0.01130564\n",
              "[2,]  2.0907207  0.012046988 -0.009149673 -0.007563594  1.46699567  0.64855082\n",
              "[3,] -0.4110252 -0.013165275 -0.017247776 -0.014713241 -0.75902673 -0.62834721\n",
              "[4,]  0.1805966  0.057927671 -0.011810446 -0.013749073  0.43618031 -0.05496909\n",
              "[5,] -0.1626814  0.002575218 -0.014620707 -0.046070395 -0.28635369 -1.60693307\n",
              "[6,]  0.6366943  0.007882861 -0.009613107 -0.007568179  1.30753688  0.68550410\n",
              "     X87         X93        \n",
              "[1,] -0.06785733  0.14187723\n",
              "[2,] -0.06785733 -0.03477127\n",
              "[3,] -0.06785733  0.06029966\n",
              "[4,] -0.06785733 -0.03808938\n",
              "[5,] -0.06785733 -0.03585786\n",
              "[6,] -0.06785733 -0.02515779"
            ]
          },
          "metadata": {}
        },
        {
          "output_type": "display_data",
          "data": {
            "text/html": [
              "<style>\n",
              ".list-inline {list-style: none; margin:0; padding: 0}\n",
              ".list-inline>li {display: inline-block}\n",
              ".list-inline>li:not(:last-child)::after {content: \"\\00b7\"; padding: 0 .5ex}\n",
              "</style>\n",
              "<ol class=list-inline><li>6698</li><li>28</li></ol>\n"
            ],
            "text/markdown": "1. 6698\n2. 28\n\n\n",
            "text/latex": "\\begin{enumerate*}\n\\item 6698\n\\item 28\n\\end{enumerate*}\n",
            "text/plain": [
              "[1] 6698   28"
            ]
          },
          "metadata": {}
        },
        {
          "output_type": "display_data",
          "data": {
            "text/html": [
              "<table class=\"dataframe\">\n",
              "<caption>A matrix: 6 × 28 of type dbl</caption>\n",
              "<thead>\n",
              "\t<tr><th></th><th scope=col>PC1</th><th scope=col>PC2</th><th scope=col>PC3</th><th scope=col>PC4</th><th scope=col>PC5</th><th scope=col>PC6</th><th scope=col>PC7</th><th scope=col>PC8</th><th scope=col>PC9</th><th scope=col>PC10</th><th scope=col>⋯</th><th scope=col>PC19</th><th scope=col>PC20</th><th scope=col>PC21</th><th scope=col>PC22</th><th scope=col>PC23</th><th scope=col>PC24</th><th scope=col>PC25</th><th scope=col>PC26</th><th scope=col>PC27</th><th scope=col>PC28</th></tr>\n",
              "</thead>\n",
              "<tbody>\n",
              "\t<tr><th scope=row>X1</th><td>-0.37934730</td><td> 0.11289788</td><td>-0.0002756565</td><td> 0.10700917</td><td>-0.127026584</td><td> 0.03205001</td><td>-0.03795153</td><td> 0.10921013</td><td> 0.02296451</td><td> 0.02033228</td><td>⋯</td><td> 0.22822257</td><td>-0.05973674</td><td>-0.179292511</td><td> 0.4527486885</td><td> 0.061426218</td><td>-0.58083809</td><td> 0.220542830</td><td>-0.064034243</td><td>-0.004278758</td><td>-0.00000000000000025834483</td></tr>\n",
              "\t<tr><th scope=row>X4</th><td>-0.29683319</td><td>-0.04738126</td><td>-0.0061632182</td><td> 0.11701838</td><td>-0.009391422</td><td> 0.04907426</td><td>-0.20956514</td><td> 0.12323993</td><td> 0.18170667</td><td>-0.05894285</td><td>⋯</td><td>-0.29040745</td><td> 0.20839342</td><td> 0.404641693</td><td>-0.2859965188</td><td>-0.073501343</td><td>-0.03628181</td><td>-0.072852228</td><td>-0.011361346</td><td> 0.002905540</td><td>-0.00000000000000050180171</td></tr>\n",
              "\t<tr><th scope=row>X12</th><td>-0.07126369</td><td>-0.02965159</td><td> 0.0352757576</td><td>-0.08536303</td><td>-0.143468517</td><td> 0.04835806</td><td>-0.26907133</td><td>-0.42315379</td><td> 0.16374714</td><td> 0.15185096</td><td>⋯</td><td>-0.11196562</td><td> 0.04006663</td><td>-0.007111246</td><td> 0.0006949702</td><td>-0.002793052</td><td>-0.04815657</td><td> 0.026758939</td><td>-0.014534176</td><td>-0.001789450</td><td>-0.00000000000000001095977</td></tr>\n",
              "\t<tr><th scope=row>X16</th><td>-0.31891655</td><td> 0.08214467</td><td>-0.0106875233</td><td> 0.19310271</td><td>-0.190520128</td><td> 0.04557041</td><td> 0.05428489</td><td> 0.08320257</td><td>-0.06709893</td><td> 0.08283828</td><td>⋯</td><td> 0.65959568</td><td> 0.05297455</td><td> 0.248138578</td><td>-0.1813518625</td><td>-0.214918976</td><td> 0.33788737</td><td>-0.074768632</td><td> 0.116507592</td><td> 0.001212382</td><td> 0.00000000000000021853603</td></tr>\n",
              "\t<tr><th scope=row>X20</th><td>-0.29990730</td><td> 0.12735180</td><td> 0.0452475693</td><td>-0.31964621</td><td> 0.190350161</td><td>-0.08906491</td><td>-0.19798650</td><td> 0.12897793</td><td>-0.16972609</td><td> 0.04979292</td><td>⋯</td><td> 0.09906778</td><td> 0.02150379</td><td> 0.081154372</td><td>-0.3072396962</td><td> 0.432782670</td><td>-0.04991113</td><td> 0.117353879</td><td>-0.486596695</td><td> 0.008441412</td><td> 0.00000000000000007391492</td></tr>\n",
              "\t<tr><th scope=row>X27</th><td>-0.02922564</td><td> 0.04110315</td><td>-0.0053921252</td><td> 0.06591588</td><td>-0.081288035</td><td> 0.04283247</td><td> 0.02611695</td><td> 0.06832587</td><td> 0.41971247</td><td> 0.01076399</td><td>⋯</td><td>-0.05109225</td><td> 0.01716476</td><td> 0.027162230</td><td>-0.0428583335</td><td>-0.008489589</td><td> 0.01916116</td><td>-0.002614684</td><td> 0.006682102</td><td> 0.000137703</td><td>-0.00000000000000013257541</td></tr>\n",
              "</tbody>\n",
              "</table>\n"
            ],
            "text/markdown": "\nA matrix: 6 × 28 of type dbl\n\n| <!--/--> | PC1 | PC2 | PC3 | PC4 | PC5 | PC6 | PC7 | PC8 | PC9 | PC10 | ⋯ | PC19 | PC20 | PC21 | PC22 | PC23 | PC24 | PC25 | PC26 | PC27 | PC28 |\n|---|---|---|---|---|---|---|---|---|---|---|---|---|---|---|---|---|---|---|---|---|---|\n| X1 | -0.37934730 |  0.11289788 | -0.0002756565 |  0.10700917 | -0.127026584 |  0.03205001 | -0.03795153 |  0.10921013 |  0.02296451 |  0.02033228 | ⋯ |  0.22822257 | -0.05973674 | -0.179292511 |  0.4527486885 |  0.061426218 | -0.58083809 |  0.220542830 | -0.064034243 | -0.004278758 | -0.00000000000000025834483 |\n| X4 | -0.29683319 | -0.04738126 | -0.0061632182 |  0.11701838 | -0.009391422 |  0.04907426 | -0.20956514 |  0.12323993 |  0.18170667 | -0.05894285 | ⋯ | -0.29040745 |  0.20839342 |  0.404641693 | -0.2859965188 | -0.073501343 | -0.03628181 | -0.072852228 | -0.011361346 |  0.002905540 | -0.00000000000000050180171 |\n| X12 | -0.07126369 | -0.02965159 |  0.0352757576 | -0.08536303 | -0.143468517 |  0.04835806 | -0.26907133 | -0.42315379 |  0.16374714 |  0.15185096 | ⋯ | -0.11196562 |  0.04006663 | -0.007111246 |  0.0006949702 | -0.002793052 | -0.04815657 |  0.026758939 | -0.014534176 | -0.001789450 | -0.00000000000000001095977 |\n| X16 | -0.31891655 |  0.08214467 | -0.0106875233 |  0.19310271 | -0.190520128 |  0.04557041 |  0.05428489 |  0.08320257 | -0.06709893 |  0.08283828 | ⋯ |  0.65959568 |  0.05297455 |  0.248138578 | -0.1813518625 | -0.214918976 |  0.33788737 | -0.074768632 |  0.116507592 |  0.001212382 |  0.00000000000000021853603 |\n| X20 | -0.29990730 |  0.12735180 |  0.0452475693 | -0.31964621 |  0.190350161 | -0.08906491 | -0.19798650 |  0.12897793 | -0.16972609 |  0.04979292 | ⋯ |  0.09906778 |  0.02150379 |  0.081154372 | -0.3072396962 |  0.432782670 | -0.04991113 |  0.117353879 | -0.486596695 |  0.008441412 |  0.00000000000000007391492 |\n| X27 | -0.02922564 |  0.04110315 | -0.0053921252 |  0.06591588 | -0.081288035 |  0.04283247 |  0.02611695 |  0.06832587 |  0.41971247 |  0.01076399 | ⋯ | -0.05109225 |  0.01716476 |  0.027162230 | -0.0428583335 | -0.008489589 |  0.01916116 | -0.002614684 |  0.006682102 |  0.000137703 | -0.00000000000000013257541 |\n\n",
            "text/latex": "A matrix: 6 × 28 of type dbl\n\\begin{tabular}{r|lllllllllllllllllllll}\n  & PC1 & PC2 & PC3 & PC4 & PC5 & PC6 & PC7 & PC8 & PC9 & PC10 & ⋯ & PC19 & PC20 & PC21 & PC22 & PC23 & PC24 & PC25 & PC26 & PC27 & PC28\\\\\n\\hline\n\tX1 & -0.37934730 &  0.11289788 & -0.0002756565 &  0.10700917 & -0.127026584 &  0.03205001 & -0.03795153 &  0.10921013 &  0.02296451 &  0.02033228 & ⋯ &  0.22822257 & -0.05973674 & -0.179292511 &  0.4527486885 &  0.061426218 & -0.58083809 &  0.220542830 & -0.064034243 & -0.004278758 & -0.00000000000000025834483\\\\\n\tX4 & -0.29683319 & -0.04738126 & -0.0061632182 &  0.11701838 & -0.009391422 &  0.04907426 & -0.20956514 &  0.12323993 &  0.18170667 & -0.05894285 & ⋯ & -0.29040745 &  0.20839342 &  0.404641693 & -0.2859965188 & -0.073501343 & -0.03628181 & -0.072852228 & -0.011361346 &  0.002905540 & -0.00000000000000050180171\\\\\n\tX12 & -0.07126369 & -0.02965159 &  0.0352757576 & -0.08536303 & -0.143468517 &  0.04835806 & -0.26907133 & -0.42315379 &  0.16374714 &  0.15185096 & ⋯ & -0.11196562 &  0.04006663 & -0.007111246 &  0.0006949702 & -0.002793052 & -0.04815657 &  0.026758939 & -0.014534176 & -0.001789450 & -0.00000000000000001095977\\\\\n\tX16 & -0.31891655 &  0.08214467 & -0.0106875233 &  0.19310271 & -0.190520128 &  0.04557041 &  0.05428489 &  0.08320257 & -0.06709893 &  0.08283828 & ⋯ &  0.65959568 &  0.05297455 &  0.248138578 & -0.1813518625 & -0.214918976 &  0.33788737 & -0.074768632 &  0.116507592 &  0.001212382 &  0.00000000000000021853603\\\\\n\tX20 & -0.29990730 &  0.12735180 &  0.0452475693 & -0.31964621 &  0.190350161 & -0.08906491 & -0.19798650 &  0.12897793 & -0.16972609 &  0.04979292 & ⋯ &  0.09906778 &  0.02150379 &  0.081154372 & -0.3072396962 &  0.432782670 & -0.04991113 &  0.117353879 & -0.486596695 &  0.008441412 &  0.00000000000000007391492\\\\\n\tX27 & -0.02922564 &  0.04110315 & -0.0053921252 &  0.06591588 & -0.081288035 &  0.04283247 &  0.02611695 &  0.06832587 &  0.41971247 &  0.01076399 & ⋯ & -0.05109225 &  0.01716476 &  0.027162230 & -0.0428583335 & -0.008489589 &  0.01916116 & -0.002614684 &  0.006682102 &  0.000137703 & -0.00000000000000013257541\\\\\n\\end{tabular}\n",
            "text/plain": [
              "    PC1         PC2         PC3           PC4         PC5          PC6        \n",
              "X1  -0.37934730  0.11289788 -0.0002756565  0.10700917 -0.127026584  0.03205001\n",
              "X4  -0.29683319 -0.04738126 -0.0061632182  0.11701838 -0.009391422  0.04907426\n",
              "X12 -0.07126369 -0.02965159  0.0352757576 -0.08536303 -0.143468517  0.04835806\n",
              "X16 -0.31891655  0.08214467 -0.0106875233  0.19310271 -0.190520128  0.04557041\n",
              "X20 -0.29990730  0.12735180  0.0452475693 -0.31964621  0.190350161 -0.08906491\n",
              "X27 -0.02922564  0.04110315 -0.0053921252  0.06591588 -0.081288035  0.04283247\n",
              "    PC7         PC8         PC9         PC10        ⋯ PC19        PC20       \n",
              "X1  -0.03795153  0.10921013  0.02296451  0.02033228 ⋯  0.22822257 -0.05973674\n",
              "X4  -0.20956514  0.12323993  0.18170667 -0.05894285 ⋯ -0.29040745  0.20839342\n",
              "X12 -0.26907133 -0.42315379  0.16374714  0.15185096 ⋯ -0.11196562  0.04006663\n",
              "X16  0.05428489  0.08320257 -0.06709893  0.08283828 ⋯  0.65959568  0.05297455\n",
              "X20 -0.19798650  0.12897793 -0.16972609  0.04979292 ⋯  0.09906778  0.02150379\n",
              "X27  0.02611695  0.06832587  0.41971247  0.01076399 ⋯ -0.05109225  0.01716476\n",
              "    PC21         PC22          PC23         PC24        PC25        \n",
              "X1  -0.179292511  0.4527486885  0.061426218 -0.58083809  0.220542830\n",
              "X4   0.404641693 -0.2859965188 -0.073501343 -0.03628181 -0.072852228\n",
              "X12 -0.007111246  0.0006949702 -0.002793052 -0.04815657  0.026758939\n",
              "X16  0.248138578 -0.1813518625 -0.214918976  0.33788737 -0.074768632\n",
              "X20  0.081154372 -0.3072396962  0.432782670 -0.04991113  0.117353879\n",
              "X27  0.027162230 -0.0428583335 -0.008489589  0.01916116 -0.002614684\n",
              "    PC26         PC27         PC28                      \n",
              "X1  -0.064034243 -0.004278758 -0.00000000000000025834483\n",
              "X4  -0.011361346  0.002905540 -0.00000000000000050180171\n",
              "X12 -0.014534176 -0.001789450 -0.00000000000000001095977\n",
              "X16  0.116507592  0.001212382  0.00000000000000021853603\n",
              "X20 -0.486596695  0.008441412  0.00000000000000007391492\n",
              "X27  0.006682102  0.000137703 -0.00000000000000013257541"
            ]
          },
          "metadata": {}
        },
        {
          "output_type": "display_data",
          "data": {
            "text/html": [
              "<style>\n",
              ".list-inline {list-style: none; margin:0; padding: 0}\n",
              ".list-inline>li {display: inline-block}\n",
              ".list-inline>li:not(:last-child)::after {content: \"\\00b7\"; padding: 0 .5ex}\n",
              "</style>\n",
              "<ol class=list-inline><li>28</li><li>28</li></ol>\n"
            ],
            "text/markdown": "1. 28\n2. 28\n\n\n",
            "text/latex": "\\begin{enumerate*}\n\\item 28\n\\item 28\n\\end{enumerate*}\n",
            "text/plain": [
              "[1] 28 28"
            ]
          },
          "metadata": {}
        }
      ]
    },
    {
      "cell_type": "code",
      "source": [
        "scale(training_x, scale = T)%*%pr.out$rotation %>% head()\n",
        "\n",
        "pr.out$x %>% head() # verified with above: pr.out$x IS our newly transformed predictor-observations"
      ],
      "metadata": {
        "colab": {
          "base_uri": "https://localhost:8080/",
          "height": 512
        },
        "id": "-HetUha9rNGh",
        "outputId": "e1cee3d4-351d-44f3-97c7-abf1fe781e60"
      },
      "execution_count": null,
      "outputs": [
        {
          "output_type": "display_data",
          "data": {
            "text/html": [
              "<table class=\"dataframe\">\n",
              "<caption>A matrix: 6 × 28 of type dbl</caption>\n",
              "<thead>\n",
              "\t<tr><th scope=col>PC1</th><th scope=col>PC2</th><th scope=col>PC3</th><th scope=col>PC4</th><th scope=col>PC5</th><th scope=col>PC6</th><th scope=col>PC7</th><th scope=col>PC8</th><th scope=col>PC9</th><th scope=col>PC10</th><th scope=col>⋯</th><th scope=col>PC19</th><th scope=col>PC20</th><th scope=col>PC21</th><th scope=col>PC22</th><th scope=col>PC23</th><th scope=col>PC24</th><th scope=col>PC25</th><th scope=col>PC26</th><th scope=col>PC27</th><th scope=col>PC28</th></tr>\n",
              "</thead>\n",
              "<tbody>\n",
              "\t<tr><td> 0.08173134</td><td>-0.6611753</td><td> 0.10922943</td><td> 0.06741956</td><td> 0.3122676</td><td> 0.09642304</td><td> 0.4357013</td><td> 1.10174846</td><td>-0.3687363</td><td> 0.41747280</td><td>⋯</td><td>-0.4630826</td><td>-0.05532071</td><td>-0.22619572</td><td> 0.10928915</td><td> 0.148525945</td><td>-0.28916194</td><td> 0.04231303</td><td> 0.06930758</td><td>-0.006053864</td><td> 0.0000000000000006909241</td></tr>\n",
              "\t<tr><td>-4.33964346</td><td>-0.1122683</td><td> 0.13807477</td><td>-0.29947995</td><td>-0.2598009</td><td>-0.18474522</td><td>-0.4701815</td><td>-1.08110880</td><td> 0.3686873</td><td> 0.04942822</td><td>⋯</td><td>-0.7984724</td><td>-0.06358911</td><td>-0.40133832</td><td> 0.61960163</td><td>-0.465057878</td><td>-0.04164068</td><td> 0.23784117</td><td>-0.14416750</td><td> 0.037781502</td><td> 0.0000000000000056918669</td></tr>\n",
              "\t<tr><td> 1.00910685</td><td> 0.7254249</td><td>-0.02634203</td><td> 0.09317345</td><td>-0.5924235</td><td> 0.42738675</td><td>-0.3385680</td><td>-0.50197973</td><td> 0.7390327</td><td> 0.14374277</td><td>⋯</td><td> 0.1988045</td><td>-0.08253509</td><td>-0.09189055</td><td> 0.19438630</td><td>-0.007992342</td><td>-0.05508618</td><td>-0.02117213</td><td>-0.16862419</td><td> 0.001426945</td><td> 0.0000000000000006794579</td></tr>\n",
              "\t<tr><td>-3.10609282</td><td>-0.8154083</td><td> 0.06119058</td><td> 0.89988989</td><td>-0.5548486</td><td> 0.22165872</td><td>-0.3619988</td><td> 0.83150899</td><td> 0.0506611</td><td>-0.14233333</td><td>⋯</td><td> 1.5301154</td><td> 0.13445009</td><td> 0.52229868</td><td> 0.10974167</td><td>-0.062648483</td><td>-0.61271217</td><td> 0.48381318</td><td> 0.11514619</td><td> 0.007088417</td><td>-0.0000000000000013404656</td></tr>\n",
              "\t<tr><td>-1.07227363</td><td>-2.4762024</td><td> 0.18976164</td><td> 0.83666066</td><td>-0.7189558</td><td> 0.34818854</td><td> 0.7711765</td><td>-0.45611861</td><td> 0.3834989</td><td> 0.48527887</td><td>⋯</td><td>-0.6364227</td><td>-0.17605334</td><td>-0.30319383</td><td>-0.13418182</td><td> 0.352061384</td><td> 0.37219471</td><td> 0.40661735</td><td> 0.25589702</td><td>-0.003801754</td><td> 0.0000000000000040792637</td></tr>\n",
              "\t<tr><td>-2.22046305</td><td> 0.0896748</td><td> 0.09535941</td><td>-0.47111169</td><td> 0.1249684</td><td>-0.24039836</td><td>-0.3206523</td><td>-0.00648672</td><td>-0.2979374</td><td>-0.10527478</td><td>⋯</td><td> 0.4124654</td><td>-0.08417801</td><td>-0.13125936</td><td> 0.05169083</td><td> 0.046439346</td><td>-0.04912729</td><td> 0.02591947</td><td> 0.22489199</td><td>-0.006519826</td><td>-0.0000000000000032546518</td></tr>\n",
              "</tbody>\n",
              "</table>\n"
            ],
            "text/markdown": "\nA matrix: 6 × 28 of type dbl\n\n| PC1 | PC2 | PC3 | PC4 | PC5 | PC6 | PC7 | PC8 | PC9 | PC10 | ⋯ | PC19 | PC20 | PC21 | PC22 | PC23 | PC24 | PC25 | PC26 | PC27 | PC28 |\n|---|---|---|---|---|---|---|---|---|---|---|---|---|---|---|---|---|---|---|---|---|\n|  0.08173134 | -0.6611753 |  0.10922943 |  0.06741956 |  0.3122676 |  0.09642304 |  0.4357013 |  1.10174846 | -0.3687363 |  0.41747280 | ⋯ | -0.4630826 | -0.05532071 | -0.22619572 |  0.10928915 |  0.148525945 | -0.28916194 |  0.04231303 |  0.06930758 | -0.006053864 |  0.0000000000000006909241 |\n| -4.33964346 | -0.1122683 |  0.13807477 | -0.29947995 | -0.2598009 | -0.18474522 | -0.4701815 | -1.08110880 |  0.3686873 |  0.04942822 | ⋯ | -0.7984724 | -0.06358911 | -0.40133832 |  0.61960163 | -0.465057878 | -0.04164068 |  0.23784117 | -0.14416750 |  0.037781502 |  0.0000000000000056918669 |\n|  1.00910685 |  0.7254249 | -0.02634203 |  0.09317345 | -0.5924235 |  0.42738675 | -0.3385680 | -0.50197973 |  0.7390327 |  0.14374277 | ⋯ |  0.1988045 | -0.08253509 | -0.09189055 |  0.19438630 | -0.007992342 | -0.05508618 | -0.02117213 | -0.16862419 |  0.001426945 |  0.0000000000000006794579 |\n| -3.10609282 | -0.8154083 |  0.06119058 |  0.89988989 | -0.5548486 |  0.22165872 | -0.3619988 |  0.83150899 |  0.0506611 | -0.14233333 | ⋯ |  1.5301154 |  0.13445009 |  0.52229868 |  0.10974167 | -0.062648483 | -0.61271217 |  0.48381318 |  0.11514619 |  0.007088417 | -0.0000000000000013404656 |\n| -1.07227363 | -2.4762024 |  0.18976164 |  0.83666066 | -0.7189558 |  0.34818854 |  0.7711765 | -0.45611861 |  0.3834989 |  0.48527887 | ⋯ | -0.6364227 | -0.17605334 | -0.30319383 | -0.13418182 |  0.352061384 |  0.37219471 |  0.40661735 |  0.25589702 | -0.003801754 |  0.0000000000000040792637 |\n| -2.22046305 |  0.0896748 |  0.09535941 | -0.47111169 |  0.1249684 | -0.24039836 | -0.3206523 | -0.00648672 | -0.2979374 | -0.10527478 | ⋯ |  0.4124654 | -0.08417801 | -0.13125936 |  0.05169083 |  0.046439346 | -0.04912729 |  0.02591947 |  0.22489199 | -0.006519826 | -0.0000000000000032546518 |\n\n",
            "text/latex": "A matrix: 6 × 28 of type dbl\n\\begin{tabular}{lllllllllllllllllllll}\n PC1 & PC2 & PC3 & PC4 & PC5 & PC6 & PC7 & PC8 & PC9 & PC10 & ⋯ & PC19 & PC20 & PC21 & PC22 & PC23 & PC24 & PC25 & PC26 & PC27 & PC28\\\\\n\\hline\n\t  0.08173134 & -0.6611753 &  0.10922943 &  0.06741956 &  0.3122676 &  0.09642304 &  0.4357013 &  1.10174846 & -0.3687363 &  0.41747280 & ⋯ & -0.4630826 & -0.05532071 & -0.22619572 &  0.10928915 &  0.148525945 & -0.28916194 &  0.04231303 &  0.06930758 & -0.006053864 &  0.0000000000000006909241\\\\\n\t -4.33964346 & -0.1122683 &  0.13807477 & -0.29947995 & -0.2598009 & -0.18474522 & -0.4701815 & -1.08110880 &  0.3686873 &  0.04942822 & ⋯ & -0.7984724 & -0.06358911 & -0.40133832 &  0.61960163 & -0.465057878 & -0.04164068 &  0.23784117 & -0.14416750 &  0.037781502 &  0.0000000000000056918669\\\\\n\t  1.00910685 &  0.7254249 & -0.02634203 &  0.09317345 & -0.5924235 &  0.42738675 & -0.3385680 & -0.50197973 &  0.7390327 &  0.14374277 & ⋯ &  0.1988045 & -0.08253509 & -0.09189055 &  0.19438630 & -0.007992342 & -0.05508618 & -0.02117213 & -0.16862419 &  0.001426945 &  0.0000000000000006794579\\\\\n\t -3.10609282 & -0.8154083 &  0.06119058 &  0.89988989 & -0.5548486 &  0.22165872 & -0.3619988 &  0.83150899 &  0.0506611 & -0.14233333 & ⋯ &  1.5301154 &  0.13445009 &  0.52229868 &  0.10974167 & -0.062648483 & -0.61271217 &  0.48381318 &  0.11514619 &  0.007088417 & -0.0000000000000013404656\\\\\n\t -1.07227363 & -2.4762024 &  0.18976164 &  0.83666066 & -0.7189558 &  0.34818854 &  0.7711765 & -0.45611861 &  0.3834989 &  0.48527887 & ⋯ & -0.6364227 & -0.17605334 & -0.30319383 & -0.13418182 &  0.352061384 &  0.37219471 &  0.40661735 &  0.25589702 & -0.003801754 &  0.0000000000000040792637\\\\\n\t -2.22046305 &  0.0896748 &  0.09535941 & -0.47111169 &  0.1249684 & -0.24039836 & -0.3206523 & -0.00648672 & -0.2979374 & -0.10527478 & ⋯ &  0.4124654 & -0.08417801 & -0.13125936 &  0.05169083 &  0.046439346 & -0.04912729 &  0.02591947 &  0.22489199 & -0.006519826 & -0.0000000000000032546518\\\\\n\\end{tabular}\n",
            "text/plain": [
              "     PC1         PC2        PC3         PC4         PC5        PC6        \n",
              "[1,]  0.08173134 -0.6611753  0.10922943  0.06741956  0.3122676  0.09642304\n",
              "[2,] -4.33964346 -0.1122683  0.13807477 -0.29947995 -0.2598009 -0.18474522\n",
              "[3,]  1.00910685  0.7254249 -0.02634203  0.09317345 -0.5924235  0.42738675\n",
              "[4,] -3.10609282 -0.8154083  0.06119058  0.89988989 -0.5548486  0.22165872\n",
              "[5,] -1.07227363 -2.4762024  0.18976164  0.83666066 -0.7189558  0.34818854\n",
              "[6,] -2.22046305  0.0896748  0.09535941 -0.47111169  0.1249684 -0.24039836\n",
              "     PC7        PC8         PC9        PC10        ⋯ PC19       PC20       \n",
              "[1,]  0.4357013  1.10174846 -0.3687363  0.41747280 ⋯ -0.4630826 -0.05532071\n",
              "[2,] -0.4701815 -1.08110880  0.3686873  0.04942822 ⋯ -0.7984724 -0.06358911\n",
              "[3,] -0.3385680 -0.50197973  0.7390327  0.14374277 ⋯  0.1988045 -0.08253509\n",
              "[4,] -0.3619988  0.83150899  0.0506611 -0.14233333 ⋯  1.5301154  0.13445009\n",
              "[5,]  0.7711765 -0.45611861  0.3834989  0.48527887 ⋯ -0.6364227 -0.17605334\n",
              "[6,] -0.3206523 -0.00648672 -0.2979374 -0.10527478 ⋯  0.4124654 -0.08417801\n",
              "     PC21        PC22        PC23         PC24        PC25        PC26       \n",
              "[1,] -0.22619572  0.10928915  0.148525945 -0.28916194  0.04231303  0.06930758\n",
              "[2,] -0.40133832  0.61960163 -0.465057878 -0.04164068  0.23784117 -0.14416750\n",
              "[3,] -0.09189055  0.19438630 -0.007992342 -0.05508618 -0.02117213 -0.16862419\n",
              "[4,]  0.52229868  0.10974167 -0.062648483 -0.61271217  0.48381318  0.11514619\n",
              "[5,] -0.30319383 -0.13418182  0.352061384  0.37219471  0.40661735  0.25589702\n",
              "[6,] -0.13125936  0.05169083  0.046439346 -0.04912729  0.02591947  0.22489199\n",
              "     PC27         PC28                     \n",
              "[1,] -0.006053864  0.0000000000000006909241\n",
              "[2,]  0.037781502  0.0000000000000056918669\n",
              "[3,]  0.001426945  0.0000000000000006794579\n",
              "[4,]  0.007088417 -0.0000000000000013404656\n",
              "[5,] -0.003801754  0.0000000000000040792637\n",
              "[6,] -0.006519826 -0.0000000000000032546518"
            ]
          },
          "metadata": {}
        },
        {
          "output_type": "display_data",
          "data": {
            "text/html": [
              "<table class=\"dataframe\">\n",
              "<caption>A matrix: 6 × 28 of type dbl</caption>\n",
              "<thead>\n",
              "\t<tr><th scope=col>PC1</th><th scope=col>PC2</th><th scope=col>PC3</th><th scope=col>PC4</th><th scope=col>PC5</th><th scope=col>PC6</th><th scope=col>PC7</th><th scope=col>PC8</th><th scope=col>PC9</th><th scope=col>PC10</th><th scope=col>⋯</th><th scope=col>PC19</th><th scope=col>PC20</th><th scope=col>PC21</th><th scope=col>PC22</th><th scope=col>PC23</th><th scope=col>PC24</th><th scope=col>PC25</th><th scope=col>PC26</th><th scope=col>PC27</th><th scope=col>PC28</th></tr>\n",
              "</thead>\n",
              "<tbody>\n",
              "\t<tr><td> 0.08173134</td><td>-0.6611753</td><td> 0.10922943</td><td> 0.06741956</td><td> 0.3122676</td><td> 0.09642304</td><td> 0.4357013</td><td> 1.10174846</td><td>-0.3687363</td><td> 0.41747280</td><td>⋯</td><td>-0.4630826</td><td>-0.05532071</td><td>-0.22619572</td><td> 0.10928915</td><td> 0.148525945</td><td>-0.28916194</td><td> 0.04231303</td><td> 0.06930758</td><td>-0.006053864</td><td> 0.0000000000000006909241</td></tr>\n",
              "\t<tr><td>-4.33964346</td><td>-0.1122683</td><td> 0.13807477</td><td>-0.29947995</td><td>-0.2598009</td><td>-0.18474522</td><td>-0.4701815</td><td>-1.08110880</td><td> 0.3686873</td><td> 0.04942822</td><td>⋯</td><td>-0.7984724</td><td>-0.06358911</td><td>-0.40133832</td><td> 0.61960163</td><td>-0.465057878</td><td>-0.04164068</td><td> 0.23784117</td><td>-0.14416750</td><td> 0.037781502</td><td> 0.0000000000000056918669</td></tr>\n",
              "\t<tr><td> 1.00910685</td><td> 0.7254249</td><td>-0.02634203</td><td> 0.09317345</td><td>-0.5924235</td><td> 0.42738675</td><td>-0.3385680</td><td>-0.50197973</td><td> 0.7390327</td><td> 0.14374277</td><td>⋯</td><td> 0.1988045</td><td>-0.08253509</td><td>-0.09189055</td><td> 0.19438630</td><td>-0.007992342</td><td>-0.05508618</td><td>-0.02117213</td><td>-0.16862419</td><td> 0.001426945</td><td> 0.0000000000000006794579</td></tr>\n",
              "\t<tr><td>-3.10609282</td><td>-0.8154083</td><td> 0.06119058</td><td> 0.89988989</td><td>-0.5548486</td><td> 0.22165872</td><td>-0.3619988</td><td> 0.83150899</td><td> 0.0506611</td><td>-0.14233333</td><td>⋯</td><td> 1.5301154</td><td> 0.13445009</td><td> 0.52229868</td><td> 0.10974167</td><td>-0.062648483</td><td>-0.61271217</td><td> 0.48381318</td><td> 0.11514619</td><td> 0.007088417</td><td>-0.0000000000000013404656</td></tr>\n",
              "\t<tr><td>-1.07227363</td><td>-2.4762024</td><td> 0.18976164</td><td> 0.83666066</td><td>-0.7189558</td><td> 0.34818854</td><td> 0.7711765</td><td>-0.45611861</td><td> 0.3834989</td><td> 0.48527887</td><td>⋯</td><td>-0.6364227</td><td>-0.17605334</td><td>-0.30319383</td><td>-0.13418182</td><td> 0.352061384</td><td> 0.37219471</td><td> 0.40661735</td><td> 0.25589702</td><td>-0.003801754</td><td> 0.0000000000000040792637</td></tr>\n",
              "\t<tr><td>-2.22046305</td><td> 0.0896748</td><td> 0.09535941</td><td>-0.47111169</td><td> 0.1249684</td><td>-0.24039836</td><td>-0.3206523</td><td>-0.00648672</td><td>-0.2979374</td><td>-0.10527478</td><td>⋯</td><td> 0.4124654</td><td>-0.08417801</td><td>-0.13125936</td><td> 0.05169083</td><td> 0.046439346</td><td>-0.04912729</td><td> 0.02591947</td><td> 0.22489199</td><td>-0.006519826</td><td>-0.0000000000000032546518</td></tr>\n",
              "</tbody>\n",
              "</table>\n"
            ],
            "text/markdown": "\nA matrix: 6 × 28 of type dbl\n\n| PC1 | PC2 | PC3 | PC4 | PC5 | PC6 | PC7 | PC8 | PC9 | PC10 | ⋯ | PC19 | PC20 | PC21 | PC22 | PC23 | PC24 | PC25 | PC26 | PC27 | PC28 |\n|---|---|---|---|---|---|---|---|---|---|---|---|---|---|---|---|---|---|---|---|---|\n|  0.08173134 | -0.6611753 |  0.10922943 |  0.06741956 |  0.3122676 |  0.09642304 |  0.4357013 |  1.10174846 | -0.3687363 |  0.41747280 | ⋯ | -0.4630826 | -0.05532071 | -0.22619572 |  0.10928915 |  0.148525945 | -0.28916194 |  0.04231303 |  0.06930758 | -0.006053864 |  0.0000000000000006909241 |\n| -4.33964346 | -0.1122683 |  0.13807477 | -0.29947995 | -0.2598009 | -0.18474522 | -0.4701815 | -1.08110880 |  0.3686873 |  0.04942822 | ⋯ | -0.7984724 | -0.06358911 | -0.40133832 |  0.61960163 | -0.465057878 | -0.04164068 |  0.23784117 | -0.14416750 |  0.037781502 |  0.0000000000000056918669 |\n|  1.00910685 |  0.7254249 | -0.02634203 |  0.09317345 | -0.5924235 |  0.42738675 | -0.3385680 | -0.50197973 |  0.7390327 |  0.14374277 | ⋯ |  0.1988045 | -0.08253509 | -0.09189055 |  0.19438630 | -0.007992342 | -0.05508618 | -0.02117213 | -0.16862419 |  0.001426945 |  0.0000000000000006794579 |\n| -3.10609282 | -0.8154083 |  0.06119058 |  0.89988989 | -0.5548486 |  0.22165872 | -0.3619988 |  0.83150899 |  0.0506611 | -0.14233333 | ⋯ |  1.5301154 |  0.13445009 |  0.52229868 |  0.10974167 | -0.062648483 | -0.61271217 |  0.48381318 |  0.11514619 |  0.007088417 | -0.0000000000000013404656 |\n| -1.07227363 | -2.4762024 |  0.18976164 |  0.83666066 | -0.7189558 |  0.34818854 |  0.7711765 | -0.45611861 |  0.3834989 |  0.48527887 | ⋯ | -0.6364227 | -0.17605334 | -0.30319383 | -0.13418182 |  0.352061384 |  0.37219471 |  0.40661735 |  0.25589702 | -0.003801754 |  0.0000000000000040792637 |\n| -2.22046305 |  0.0896748 |  0.09535941 | -0.47111169 |  0.1249684 | -0.24039836 | -0.3206523 | -0.00648672 | -0.2979374 | -0.10527478 | ⋯ |  0.4124654 | -0.08417801 | -0.13125936 |  0.05169083 |  0.046439346 | -0.04912729 |  0.02591947 |  0.22489199 | -0.006519826 | -0.0000000000000032546518 |\n\n",
            "text/latex": "A matrix: 6 × 28 of type dbl\n\\begin{tabular}{lllllllllllllllllllll}\n PC1 & PC2 & PC3 & PC4 & PC5 & PC6 & PC7 & PC8 & PC9 & PC10 & ⋯ & PC19 & PC20 & PC21 & PC22 & PC23 & PC24 & PC25 & PC26 & PC27 & PC28\\\\\n\\hline\n\t  0.08173134 & -0.6611753 &  0.10922943 &  0.06741956 &  0.3122676 &  0.09642304 &  0.4357013 &  1.10174846 & -0.3687363 &  0.41747280 & ⋯ & -0.4630826 & -0.05532071 & -0.22619572 &  0.10928915 &  0.148525945 & -0.28916194 &  0.04231303 &  0.06930758 & -0.006053864 &  0.0000000000000006909241\\\\\n\t -4.33964346 & -0.1122683 &  0.13807477 & -0.29947995 & -0.2598009 & -0.18474522 & -0.4701815 & -1.08110880 &  0.3686873 &  0.04942822 & ⋯ & -0.7984724 & -0.06358911 & -0.40133832 &  0.61960163 & -0.465057878 & -0.04164068 &  0.23784117 & -0.14416750 &  0.037781502 &  0.0000000000000056918669\\\\\n\t  1.00910685 &  0.7254249 & -0.02634203 &  0.09317345 & -0.5924235 &  0.42738675 & -0.3385680 & -0.50197973 &  0.7390327 &  0.14374277 & ⋯ &  0.1988045 & -0.08253509 & -0.09189055 &  0.19438630 & -0.007992342 & -0.05508618 & -0.02117213 & -0.16862419 &  0.001426945 &  0.0000000000000006794579\\\\\n\t -3.10609282 & -0.8154083 &  0.06119058 &  0.89988989 & -0.5548486 &  0.22165872 & -0.3619988 &  0.83150899 &  0.0506611 & -0.14233333 & ⋯ &  1.5301154 &  0.13445009 &  0.52229868 &  0.10974167 & -0.062648483 & -0.61271217 &  0.48381318 &  0.11514619 &  0.007088417 & -0.0000000000000013404656\\\\\n\t -1.07227363 & -2.4762024 &  0.18976164 &  0.83666066 & -0.7189558 &  0.34818854 &  0.7711765 & -0.45611861 &  0.3834989 &  0.48527887 & ⋯ & -0.6364227 & -0.17605334 & -0.30319383 & -0.13418182 &  0.352061384 &  0.37219471 &  0.40661735 &  0.25589702 & -0.003801754 &  0.0000000000000040792637\\\\\n\t -2.22046305 &  0.0896748 &  0.09535941 & -0.47111169 &  0.1249684 & -0.24039836 & -0.3206523 & -0.00648672 & -0.2979374 & -0.10527478 & ⋯ &  0.4124654 & -0.08417801 & -0.13125936 &  0.05169083 &  0.046439346 & -0.04912729 &  0.02591947 &  0.22489199 & -0.006519826 & -0.0000000000000032546518\\\\\n\\end{tabular}\n",
            "text/plain": [
              "     PC1         PC2        PC3         PC4         PC5        PC6        \n",
              "[1,]  0.08173134 -0.6611753  0.10922943  0.06741956  0.3122676  0.09642304\n",
              "[2,] -4.33964346 -0.1122683  0.13807477 -0.29947995 -0.2598009 -0.18474522\n",
              "[3,]  1.00910685  0.7254249 -0.02634203  0.09317345 -0.5924235  0.42738675\n",
              "[4,] -3.10609282 -0.8154083  0.06119058  0.89988989 -0.5548486  0.22165872\n",
              "[5,] -1.07227363 -2.4762024  0.18976164  0.83666066 -0.7189558  0.34818854\n",
              "[6,] -2.22046305  0.0896748  0.09535941 -0.47111169  0.1249684 -0.24039836\n",
              "     PC7        PC8         PC9        PC10        ⋯ PC19       PC20       \n",
              "[1,]  0.4357013  1.10174846 -0.3687363  0.41747280 ⋯ -0.4630826 -0.05532071\n",
              "[2,] -0.4701815 -1.08110880  0.3686873  0.04942822 ⋯ -0.7984724 -0.06358911\n",
              "[3,] -0.3385680 -0.50197973  0.7390327  0.14374277 ⋯  0.1988045 -0.08253509\n",
              "[4,] -0.3619988  0.83150899  0.0506611 -0.14233333 ⋯  1.5301154  0.13445009\n",
              "[5,]  0.7711765 -0.45611861  0.3834989  0.48527887 ⋯ -0.6364227 -0.17605334\n",
              "[6,] -0.3206523 -0.00648672 -0.2979374 -0.10527478 ⋯  0.4124654 -0.08417801\n",
              "     PC21        PC22        PC23         PC24        PC25        PC26       \n",
              "[1,] -0.22619572  0.10928915  0.148525945 -0.28916194  0.04231303  0.06930758\n",
              "[2,] -0.40133832  0.61960163 -0.465057878 -0.04164068  0.23784117 -0.14416750\n",
              "[3,] -0.09189055  0.19438630 -0.007992342 -0.05508618 -0.02117213 -0.16862419\n",
              "[4,]  0.52229868  0.10974167 -0.062648483 -0.61271217  0.48381318  0.11514619\n",
              "[5,] -0.30319383 -0.13418182  0.352061384  0.37219471  0.40661735  0.25589702\n",
              "[6,] -0.13125936  0.05169083  0.046439346 -0.04912729  0.02591947  0.22489199\n",
              "     PC27         PC28                     \n",
              "[1,] -0.006053864  0.0000000000000006909241\n",
              "[2,]  0.037781502  0.0000000000000056918669\n",
              "[3,]  0.001426945  0.0000000000000006794579\n",
              "[4,]  0.007088417 -0.0000000000000013404656\n",
              "[5,] -0.003801754  0.0000000000000040792637\n",
              "[6,] -0.006519826 -0.0000000000000032546518"
            ]
          },
          "metadata": {}
        }
      ]
    },
    {
      "cell_type": "code",
      "source": [
        "# Split data into predictor and response data\n",
        "\n",
        "## done for training above\n",
        "\n",
        "## validation\n",
        "validation_x = val_set %>% select(-\"Y\")\n",
        "val_y = val_set %>% select(\"Y\")\n",
        "\n",
        "## testing\n",
        "testing_x = test_set %>% select(-\"Y\")\n",
        "test_y = test_set %>% select(\"Y\")"
      ],
      "metadata": {
        "id": "zLde1VCX1Q3N"
      },
      "execution_count": null,
      "outputs": []
    },
    {
      "cell_type": "code",
      "source": [
        "## Extract 6 PCs\n",
        "pcomps_transform = pr.out$rotation[, 1:6]"
      ],
      "metadata": {
        "id": "9HM_gdOF1rzh"
      },
      "execution_count": null,
      "outputs": []
    },
    {
      "cell_type": "code",
      "source": [
        "## Transform predictor data for training data, validation data, testing data\n",
        "\n",
        "train_x = pr.out$x[, 1:6]\n",
        "val_x = scale(validation_x, scale = T)%*%pcomps_transform\n",
        "test_x = scale(testing_x, scale = T)%*%pcomps_transform"
      ],
      "metadata": {
        "id": "JfxGF-BgrJcI"
      },
      "execution_count": null,
      "outputs": []
    },
    {
      "cell_type": "code",
      "source": [
        "dim(train_x)\n",
        "dim(val_x)\n",
        "dim(test_x)"
      ],
      "metadata": {
        "colab": {
          "base_uri": "https://localhost:8080/",
          "height": 69
        },
        "id": "x-AxkY4Qz5Xi",
        "outputId": "48f6f283-0c93-4191-982d-38458a061282"
      },
      "execution_count": null,
      "outputs": [
        {
          "output_type": "display_data",
          "data": {
            "text/html": [
              "<style>\n",
              ".list-inline {list-style: none; margin:0; padding: 0}\n",
              ".list-inline>li {display: inline-block}\n",
              ".list-inline>li:not(:last-child)::after {content: \"\\00b7\"; padding: 0 .5ex}\n",
              "</style>\n",
              "<ol class=list-inline><li>6698</li><li>6</li></ol>\n"
            ],
            "text/markdown": "1. 6698\n2. 6\n\n\n",
            "text/latex": "\\begin{enumerate*}\n\\item 6698\n\\item 6\n\\end{enumerate*}\n",
            "text/plain": [
              "[1] 6698    6"
            ]
          },
          "metadata": {}
        },
        {
          "output_type": "display_data",
          "data": {
            "text/html": [
              "<style>\n",
              ".list-inline {list-style: none; margin:0; padding: 0}\n",
              ".list-inline>li {display: inline-block}\n",
              ".list-inline>li:not(:last-child)::after {content: \"\\00b7\"; padding: 0 .5ex}\n",
              "</style>\n",
              "<ol class=list-inline><li>673</li><li>6</li></ol>\n"
            ],
            "text/markdown": "1. 673\n2. 6\n\n\n",
            "text/latex": "\\begin{enumerate*}\n\\item 673\n\\item 6\n\\end{enumerate*}\n",
            "text/plain": [
              "[1] 673   6"
            ]
          },
          "metadata": {}
        },
        {
          "output_type": "display_data",
          "data": {
            "text/html": [
              "<style>\n",
              ".list-inline {list-style: none; margin:0; padding: 0}\n",
              ".list-inline>li {display: inline-block}\n",
              ".list-inline>li:not(:last-child)::after {content: \"\\00b7\"; padding: 0 .5ex}\n",
              "</style>\n",
              "<ol class=list-inline><li>2023</li><li>6</li></ol>\n"
            ],
            "text/markdown": "1. 2023\n2. 6\n\n\n",
            "text/latex": "\\begin{enumerate*}\n\\item 2023\n\\item 6\n\\end{enumerate*}\n",
            "text/plain": [
              "[1] 2023    6"
            ]
          },
          "metadata": {}
        }
      ]
    },
    {
      "cell_type": "code",
      "source": [
        "training_y %>% dim()\n",
        "val_y %>% dim()\n",
        "test_y %>% dim()"
      ],
      "metadata": {
        "colab": {
          "base_uri": "https://localhost:8080/",
          "height": 69
        },
        "id": "equE2hos11J4",
        "outputId": "579cebfb-5564-44bb-cf25-08b9edb49dc6"
      },
      "execution_count": null,
      "outputs": [
        {
          "output_type": "display_data",
          "data": {
            "text/html": [
              "<style>\n",
              ".list-inline {list-style: none; margin:0; padding: 0}\n",
              ".list-inline>li {display: inline-block}\n",
              ".list-inline>li:not(:last-child)::after {content: \"\\00b7\"; padding: 0 .5ex}\n",
              "</style>\n",
              "<ol class=list-inline><li>6698</li><li>1</li></ol>\n"
            ],
            "text/markdown": "1. 6698\n2. 1\n\n\n",
            "text/latex": "\\begin{enumerate*}\n\\item 6698\n\\item 1\n\\end{enumerate*}\n",
            "text/plain": [
              "[1] 6698    1"
            ]
          },
          "metadata": {}
        },
        {
          "output_type": "display_data",
          "data": {
            "text/html": [
              "<style>\n",
              ".list-inline {list-style: none; margin:0; padding: 0}\n",
              ".list-inline>li {display: inline-block}\n",
              ".list-inline>li:not(:last-child)::after {content: \"\\00b7\"; padding: 0 .5ex}\n",
              "</style>\n",
              "<ol class=list-inline><li>673</li><li>1</li></ol>\n"
            ],
            "text/markdown": "1. 673\n2. 1\n\n\n",
            "text/latex": "\\begin{enumerate*}\n\\item 673\n\\item 1\n\\end{enumerate*}\n",
            "text/plain": [
              "[1] 673   1"
            ]
          },
          "metadata": {}
        },
        {
          "output_type": "display_data",
          "data": {
            "text/html": [
              "<style>\n",
              ".list-inline {list-style: none; margin:0; padding: 0}\n",
              ".list-inline>li {display: inline-block}\n",
              ".list-inline>li:not(:last-child)::after {content: \"\\00b7\"; padding: 0 .5ex}\n",
              "</style>\n",
              "<ol class=list-inline><li>2023</li><li>1</li></ol>\n"
            ],
            "text/markdown": "1. 2023\n2. 1\n\n\n",
            "text/latex": "\\begin{enumerate*}\n\\item 2023\n\\item 1\n\\end{enumerate*}\n",
            "text/plain": [
              "[1] 2023    1"
            ]
          },
          "metadata": {}
        }
      ]
    },
    {
      "cell_type": "markdown",
      "source": [
        "Join back predictor and respones data"
      ],
      "metadata": {
        "id": "i8P0fdDI36DX"
      }
    },
    {
      "cell_type": "code",
      "source": [
        "trng_dat = cbind(train_x, training_y)\n",
        "vali_dat = cbind(val_x, val_y)\n",
        "test_dat = cbind(test_x, test_y)"
      ],
      "metadata": {
        "id": "wHGXrYYK-Yov"
      },
      "execution_count": null,
      "outputs": []
    },
    {
      "cell_type": "code",
      "source": [
        "trng_dat %>% head(n=2)\n",
        "vali_dat %>% head(n=2)\n",
        "test_dat %>% head(n=2)"
      ],
      "metadata": {
        "colab": {
          "base_uri": "https://localhost:8080/",
          "height": 447
        },
        "id": "h9uz7o2o-rZq",
        "outputId": "ccebf9c9-2af8-4cc5-c7eb-ead8e64cddb6"
      },
      "execution_count": null,
      "outputs": [
        {
          "output_type": "display_data",
          "data": {
            "text/html": [
              "<table class=\"dataframe\">\n",
              "<caption>A data.frame: 2 × 7</caption>\n",
              "<thead>\n",
              "\t<tr><th></th><th scope=col>PC1</th><th scope=col>PC2</th><th scope=col>PC3</th><th scope=col>PC4</th><th scope=col>PC5</th><th scope=col>PC6</th><th scope=col>Y</th></tr>\n",
              "\t<tr><th></th><th scope=col>&lt;dbl&gt;</th><th scope=col>&lt;dbl&gt;</th><th scope=col>&lt;dbl&gt;</th><th scope=col>&lt;dbl&gt;</th><th scope=col>&lt;dbl&gt;</th><th scope=col>&lt;dbl&gt;</th><th scope=col>&lt;fct&gt;</th></tr>\n",
              "</thead>\n",
              "<tbody>\n",
              "\t<tr><th scope=row>1</th><td> 0.08173134</td><td>-0.6611753</td><td>0.1092294</td><td> 0.06741956</td><td> 0.3122676</td><td> 0.09642304</td><td>0</td></tr>\n",
              "\t<tr><th scope=row>2</th><td>-4.33964346</td><td>-0.1122683</td><td>0.1380748</td><td>-0.29947995</td><td>-0.2598009</td><td>-0.18474522</td><td>0</td></tr>\n",
              "</tbody>\n",
              "</table>\n"
            ],
            "text/markdown": "\nA data.frame: 2 × 7\n\n| <!--/--> | PC1 &lt;dbl&gt; | PC2 &lt;dbl&gt; | PC3 &lt;dbl&gt; | PC4 &lt;dbl&gt; | PC5 &lt;dbl&gt; | PC6 &lt;dbl&gt; | Y &lt;fct&gt; |\n|---|---|---|---|---|---|---|---|\n| 1 |  0.08173134 | -0.6611753 | 0.1092294 |  0.06741956 |  0.3122676 |  0.09642304 | 0 |\n| 2 | -4.33964346 | -0.1122683 | 0.1380748 | -0.29947995 | -0.2598009 | -0.18474522 | 0 |\n\n",
            "text/latex": "A data.frame: 2 × 7\n\\begin{tabular}{r|lllllll}\n  & PC1 & PC2 & PC3 & PC4 & PC5 & PC6 & Y\\\\\n  & <dbl> & <dbl> & <dbl> & <dbl> & <dbl> & <dbl> & <fct>\\\\\n\\hline\n\t1 &  0.08173134 & -0.6611753 & 0.1092294 &  0.06741956 &  0.3122676 &  0.09642304 & 0\\\\\n\t2 & -4.33964346 & -0.1122683 & 0.1380748 & -0.29947995 & -0.2598009 & -0.18474522 & 0\\\\\n\\end{tabular}\n",
            "text/plain": [
              "  PC1         PC2        PC3       PC4         PC5        PC6         Y\n",
              "1  0.08173134 -0.6611753 0.1092294  0.06741956  0.3122676  0.09642304 0\n",
              "2 -4.33964346 -0.1122683 0.1380748 -0.29947995 -0.2598009 -0.18474522 0"
            ]
          },
          "metadata": {}
        },
        {
          "output_type": "display_data",
          "data": {
            "text/html": [
              "<table class=\"dataframe\">\n",
              "<caption>A data.frame: 2 × 7</caption>\n",
              "<thead>\n",
              "\t<tr><th></th><th scope=col>PC1</th><th scope=col>PC2</th><th scope=col>PC3</th><th scope=col>PC4</th><th scope=col>PC5</th><th scope=col>PC6</th><th scope=col>Y</th></tr>\n",
              "\t<tr><th></th><th scope=col>&lt;dbl&gt;</th><th scope=col>&lt;dbl&gt;</th><th scope=col>&lt;dbl&gt;</th><th scope=col>&lt;dbl&gt;</th><th scope=col>&lt;dbl&gt;</th><th scope=col>&lt;dbl&gt;</th><th scope=col>&lt;fct&gt;</th></tr>\n",
              "</thead>\n",
              "<tbody>\n",
              "\t<tr><th scope=row>1900</th><td>0.7111124</td><td> 0.0891737</td><td>-0.003438257</td><td>0.6754689</td><td>-0.1742999</td><td>0.1823955</td><td>0</td></tr>\n",
              "\t<tr><th scope=row>1112</th><td>0.1897990</td><td>-1.1794170</td><td>-0.279716491</td><td>0.7644481</td><td>-0.7414366</td><td>0.3697875</td><td>0</td></tr>\n",
              "</tbody>\n",
              "</table>\n"
            ],
            "text/markdown": "\nA data.frame: 2 × 7\n\n| <!--/--> | PC1 &lt;dbl&gt; | PC2 &lt;dbl&gt; | PC3 &lt;dbl&gt; | PC4 &lt;dbl&gt; | PC5 &lt;dbl&gt; | PC6 &lt;dbl&gt; | Y &lt;fct&gt; |\n|---|---|---|---|---|---|---|---|\n| 1900 | 0.7111124 |  0.0891737 | -0.003438257 | 0.6754689 | -0.1742999 | 0.1823955 | 0 |\n| 1112 | 0.1897990 | -1.1794170 | -0.279716491 | 0.7644481 | -0.7414366 | 0.3697875 | 0 |\n\n",
            "text/latex": "A data.frame: 2 × 7\n\\begin{tabular}{r|lllllll}\n  & PC1 & PC2 & PC3 & PC4 & PC5 & PC6 & Y\\\\\n  & <dbl> & <dbl> & <dbl> & <dbl> & <dbl> & <dbl> & <fct>\\\\\n\\hline\n\t1900 & 0.7111124 &  0.0891737 & -0.003438257 & 0.6754689 & -0.1742999 & 0.1823955 & 0\\\\\n\t1112 & 0.1897990 & -1.1794170 & -0.279716491 & 0.7644481 & -0.7414366 & 0.3697875 & 0\\\\\n\\end{tabular}\n",
            "text/plain": [
              "     PC1       PC2        PC3          PC4       PC5        PC6       Y\n",
              "1900 0.7111124  0.0891737 -0.003438257 0.6754689 -0.1742999 0.1823955 0\n",
              "1112 0.1897990 -1.1794170 -0.279716491 0.7644481 -0.7414366 0.3697875 0"
            ]
          },
          "metadata": {}
        },
        {
          "output_type": "display_data",
          "data": {
            "text/html": [
              "<table class=\"dataframe\">\n",
              "<caption>A data.frame: 2 × 7</caption>\n",
              "<thead>\n",
              "\t<tr><th></th><th scope=col>PC1</th><th scope=col>PC2</th><th scope=col>PC3</th><th scope=col>PC4</th><th scope=col>PC5</th><th scope=col>PC6</th><th scope=col>Y</th></tr>\n",
              "\t<tr><th></th><th scope=col>&lt;dbl&gt;</th><th scope=col>&lt;dbl&gt;</th><th scope=col>&lt;dbl&gt;</th><th scope=col>&lt;dbl&gt;</th><th scope=col>&lt;dbl&gt;</th><th scope=col>&lt;dbl&gt;</th><th scope=col>&lt;fct&gt;</th></tr>\n",
              "</thead>\n",
              "<tbody>\n",
              "\t<tr><th scope=row>1944</th><td>1.132612</td><td>-0.4898991</td><td> 0.1351815</td><td>-0.2524224</td><td>-0.9912458</td><td> 0.30949056</td><td>0</td></tr>\n",
              "\t<tr><th scope=row>166</th><td>1.294689</td><td> 0.6317405</td><td>-0.1073568</td><td> 0.6294434</td><td>-0.5653419</td><td>-0.05972052</td><td>0</td></tr>\n",
              "</tbody>\n",
              "</table>\n"
            ],
            "text/markdown": "\nA data.frame: 2 × 7\n\n| <!--/--> | PC1 &lt;dbl&gt; | PC2 &lt;dbl&gt; | PC3 &lt;dbl&gt; | PC4 &lt;dbl&gt; | PC5 &lt;dbl&gt; | PC6 &lt;dbl&gt; | Y &lt;fct&gt; |\n|---|---|---|---|---|---|---|---|\n| 1944 | 1.132612 | -0.4898991 |  0.1351815 | -0.2524224 | -0.9912458 |  0.30949056 | 0 |\n| 166 | 1.294689 |  0.6317405 | -0.1073568 |  0.6294434 | -0.5653419 | -0.05972052 | 0 |\n\n",
            "text/latex": "A data.frame: 2 × 7\n\\begin{tabular}{r|lllllll}\n  & PC1 & PC2 & PC3 & PC4 & PC5 & PC6 & Y\\\\\n  & <dbl> & <dbl> & <dbl> & <dbl> & <dbl> & <dbl> & <fct>\\\\\n\\hline\n\t1944 & 1.132612 & -0.4898991 &  0.1351815 & -0.2524224 & -0.9912458 &  0.30949056 & 0\\\\\n\t166 & 1.294689 &  0.6317405 & -0.1073568 &  0.6294434 & -0.5653419 & -0.05972052 & 0\\\\\n\\end{tabular}\n",
            "text/plain": [
              "     PC1      PC2        PC3        PC4        PC5        PC6         Y\n",
              "1944 1.132612 -0.4898991  0.1351815 -0.2524224 -0.9912458  0.30949056 0\n",
              "166  1.294689  0.6317405 -0.1073568  0.6294434 -0.5653419 -0.05972052 0"
            ]
          },
          "metadata": {}
        }
      ]
    },
    {
      "cell_type": "code",
      "source": [
        "trng_dat %>% dim()\n",
        "vali_dat %>% dim()\n",
        "test_dat %>% dim()"
      ],
      "metadata": {
        "colab": {
          "base_uri": "https://localhost:8080/",
          "height": 69
        },
        "id": "-XVvhJ7--3ER",
        "outputId": "09081fa9-dfaf-4b76-e098-05ca1e9c84a7"
      },
      "execution_count": null,
      "outputs": [
        {
          "output_type": "display_data",
          "data": {
            "text/html": [
              "<style>\n",
              ".list-inline {list-style: none; margin:0; padding: 0}\n",
              ".list-inline>li {display: inline-block}\n",
              ".list-inline>li:not(:last-child)::after {content: \"\\00b7\"; padding: 0 .5ex}\n",
              "</style>\n",
              "<ol class=list-inline><li>6698</li><li>7</li></ol>\n"
            ],
            "text/markdown": "1. 6698\n2. 7\n\n\n",
            "text/latex": "\\begin{enumerate*}\n\\item 6698\n\\item 7\n\\end{enumerate*}\n",
            "text/plain": [
              "[1] 6698    7"
            ]
          },
          "metadata": {}
        },
        {
          "output_type": "display_data",
          "data": {
            "text/html": [
              "<style>\n",
              ".list-inline {list-style: none; margin:0; padding: 0}\n",
              ".list-inline>li {display: inline-block}\n",
              ".list-inline>li:not(:last-child)::after {content: \"\\00b7\"; padding: 0 .5ex}\n",
              "</style>\n",
              "<ol class=list-inline><li>673</li><li>7</li></ol>\n"
            ],
            "text/markdown": "1. 673\n2. 7\n\n\n",
            "text/latex": "\\begin{enumerate*}\n\\item 673\n\\item 7\n\\end{enumerate*}\n",
            "text/plain": [
              "[1] 673   7"
            ]
          },
          "metadata": {}
        },
        {
          "output_type": "display_data",
          "data": {
            "text/html": [
              "<style>\n",
              ".list-inline {list-style: none; margin:0; padding: 0}\n",
              ".list-inline>li {display: inline-block}\n",
              ".list-inline>li:not(:last-child)::after {content: \"\\00b7\"; padding: 0 .5ex}\n",
              "</style>\n",
              "<ol class=list-inline><li>2023</li><li>7</li></ol>\n"
            ],
            "text/markdown": "1. 2023\n2. 7\n\n\n",
            "text/latex": "\\begin{enumerate*}\n\\item 2023\n\\item 7\n\\end{enumerate*}\n",
            "text/plain": [
              "[1] 2023    7"
            ]
          },
          "metadata": {}
        }
      ]
    },
    {
      "cell_type": "markdown",
      "source": [
        "Export pre-processed data (dataframes) to CSV"
      ],
      "metadata": {
        "id": "B1aBhhmr2a_e"
      }
    },
    {
      "cell_type": "code",
      "source": [
        "write.csv(trng_dat, \"trng_dat.csv\", row.names=F)"
      ],
      "metadata": {
        "id": "8mTFh2lb2n07"
      },
      "execution_count": null,
      "outputs": []
    },
    {
      "cell_type": "code",
      "source": [
        "write.csv(vali_dat, \"vali_dat.csv\", row.names=F)"
      ],
      "metadata": {
        "id": "KEgyEITd_XgM"
      },
      "execution_count": null,
      "outputs": []
    },
    {
      "cell_type": "code",
      "source": [
        "write.csv(test_dat, \"test_dat.csv\", row.names=F)"
      ],
      "metadata": {
        "id": "IzSAaYt9_Xqh"
      },
      "execution_count": null,
      "outputs": []
    }
  ]
}